{
 "cells": [
  {
   "cell_type": "raw",
   "id": "33dd6c4c",
   "metadata": {
    "id": "33dd6c4c"
   },
   "source": [
    "---\n",
    "title: \"Project Report\"\n",
    "subtitle: Markdown Masters\n",
    "author: Atharva Weling, Lilly Sorkin, and Isabel Knight\n",
    "date: 05/23/2023\n",
    "number-sections: true\n",
    "abstract: _The ABSTRACT is to be in fully-justified italicized text at the top of the report, below the author information. The abstract section must summarise the problem statement, the developed model(s), the metric(s) optimized and the recommendations to the stakeholders based on the model (if any). You may also briefly mention any major EDA-based insights that helped develop the model or directly translated into recommendations to the stakeholders. However, the abstract must not be more than 200 words in length_.\n",
    "format: \n",
    "  html:\n",
    "    toc: true\n",
    "    toc-title: Contents\n",
    "    self-contained: true\n",
    "    font-size: 100%\n",
    "    toc-depth: 4\n",
    "    mainfont: serif\n",
    "jupyter: python3\n",
    "---"
   ]
  },
  {
   "cell_type": "markdown",
   "id": "aba5ee91",
   "metadata": {
    "id": "aba5ee91"
   },
   "source": [
    "## Length of the report {-}\n",
    "The length of the report must be no more than 15 pages, when printed as PDF. However, there is no requirement on the minimum number of pages.\n",
    "\n",
    "You may put additional stuff as Appendix. You may refer to the Appendix in the main report to support your arguments. However, your appendix is unlikely to be checked while grading, unless the grader deems it necessary. The appendix and references will not be included in the page count, and there is no limit on the length of the appendix.\n",
    "\n",
    "**Delete this section from the report, when using this template.** "
   ]
  },
  {
   "cell_type": "markdown",
   "id": "93d3d9ed",
   "metadata": {
    "id": "93d3d9ed"
   },
   "source": [
    "## Code should be put separately in the code template {-}\n",
    "Your report should be in a research-paper like style. If there is something that can only be explained by showing the code, then you may put it, otherwise do not put the code in the report. We will check your code in the code template. \n",
    "\n",
    "However, feel free to write code that prints output and then hide the code using the *yaml* setting as shown in an example below *(in the EDA section)*\n",
    "\n",
    "**Delete this section from the report, when using this template.** "
   ]
  },
  {
   "cell_type": "markdown",
   "id": "0116f49b",
   "metadata": {
    "id": "0116f49b"
   },
   "source": [
    "## Background / Motivation\n",
    "\n",
    "What motivated you to work on this problem?\n",
    "\n",
    "Mention any background about the problem, if it is required to understand your analysis later on."
   ]
  },
  {
   "cell_type": "code",
   "execution_count": null,
   "id": "1d04f230",
   "metadata": {},
   "outputs": [],
   "source": []
  },
  {
   "cell_type": "markdown",
   "id": "84ff1421",
   "metadata": {
    "id": "84ff1421"
   },
   "source": [
    "## Problem statement \n",
    "\n",
    "Describe your problem statement. Articulate your objectives using absolutely no jargon. "
   ]
  },
  {
   "cell_type": "code",
   "execution_count": null,
   "id": "62249564",
   "metadata": {},
   "outputs": [],
   "source": []
  },
  {
   "cell_type": "markdown",
   "id": "38c7b95f",
   "metadata": {
    "id": "38c7b95f"
   },
   "source": [
    "## Data sources\n",
    "What data did you use? Provide details about your data. Include links to data if you are using open-access data."
   ]
  },
  {
   "cell_type": "code",
   "execution_count": null,
   "id": "0de9dbfc",
   "metadata": {},
   "outputs": [],
   "source": []
  },
  {
   "cell_type": "markdown",
   "id": "8c255035",
   "metadata": {
    "id": "8c255035"
   },
   "source": [
    "## Stakeholders\n",
    "Who cares? If you are successful, what difference will it make to them?"
   ]
  },
  {
   "cell_type": "code",
   "execution_count": null,
   "id": "807a9b48",
   "metadata": {},
   "outputs": [],
   "source": []
  },
  {
   "cell_type": "markdown",
   "id": "fe7ea9bb",
   "metadata": {
    "id": "fe7ea9bb"
   },
   "source": [
    "## Data quality check / cleaning / preparation \n",
    "\n",
    "Show the distribution of the response here. Report the standard deviation and mean in case of a regression problem, and proportion of 0s and 1s in case of classification.\n",
    "\n",
    "For all other content, as mentioned below, just provide the highlights *(if any)* and put the details in the appendix.\n",
    "\n",
    "In a tabular form, show the distribution of values of each variable used in the analysis - for both categorical and continuous variables. Distribution of a categorical variable must include the number of missing values, the number of unique values, the frequency of all its levels. If a categorical variable has too many levels, you may just include the counts of the top 3-5 levels. \n",
    "\n",
    "Mention any useful insights you obtained from the data quality check that helped you develop the model or helped you realize the necessary data cleaning / preparation. Its ok if there were none.\n",
    "\n",
    "Were there any potentially incorrect values of variables that required cleaning? If yes, how did you clean them? Were there missing values? How did you handle them? Its ok if the data was already clean.\n",
    "\n",
    "Did you do any data wrangling or data preparation before the data was ready to use for model development? Did you create any new predictors from exisiting predictors? For example, if you have number of transactions and spend in a credit card dataset, you may create spend per transaction for predicting if a customer pays their credit card bill. Mention the steps at a broad level, you may put minor details in the appendix. Only mention the steps that ended up being useful towards developing your model(s)."
   ]
  },
  {
   "cell_type": "code",
   "execution_count": 8,
   "id": "5ad0d230",
   "metadata": {},
   "outputs": [
    {
     "data": {
      "text/plain": [
       "0.0    50059\n",
       "1.0     1317\n",
       "Name: drafted, dtype: int64"
      ]
     },
     "execution_count": 8,
     "metadata": {},
     "output_type": "execute_result"
    },
    {
     "data": {
      "image/png": "[encoded data removed]",
      "text/plain": [
       "<Figure size 432x360 with 1 Axes>"
      ]
     },
     "metadata": {
      "needs_background": "light"
     },
     "output_type": "display_data"
    }
   ],
   "source": [
    "#| echo: false\n",
    "\n",
    "# Distibution of 1s and 0s\n",
    "import pandas as pd\n",
    "import seaborn as sns\n",
    "import matplotlib.pyplot as plt\n",
    "stats_unique = pd.read_csv('stats_unique_no_missing.csv')\n",
    "\n",
    "plt.figure(figsize=(6,5))\n",
    "plt.title(\"Proportion of 1s and 0s\")\n",
    "ax = sns.countplot(data=stats_unique, x='drafted', palette=['#039be5','#8bc34a'])\n",
    "for c in ax.containers:\n",
    "    \n",
    "    labels = [f'{h/stats_no_missing.drafted.count()*100:0.1f}%' if (h := v.get_height()) > 0 else '' for v in c]\n",
    "    \n",
    "    ax.bar_label(c, labels=labels, label_type='edge')\n",
    "    \n",
    "stats_unique.drafted.value_counts()"
   ]
  },
  {
   "cell_type": "markdown",
   "id": "a92bfd50",
   "metadata": {},
   "source": [
    "The distribution of the continuous variables used in the analysis is:"
   ]
  },
  {
   "cell_type": "code",
   "execution_count": 50,
   "id": "991e9b31",
   "metadata": {
    "scrolled": true
   },
   "outputs": [
    {
     "data": {
      "text/html": [
       "<div>\n",
       "<style scoped>\n",
       "    .dataframe tbody tr th:only-of-type {\n",
       "        vertical-align: middle;\n",
       "    }\n",
       "\n",
       "    .dataframe tbody tr th {\n",
       "        vertical-align: top;\n",
       "    }\n",
       "\n",
       "    .dataframe thead th {\n",
       "        text-align: right;\n",
       "    }\n",
       "</style>\n",
       "<table border=\"1\" class=\"dataframe\">\n",
       "  <thead>\n",
       "    <tr style=\"text-align: right;\">\n",
       "      <th></th>\n",
       "      <th>Unnamed: 0</th>\n",
       "      <th>GP</th>\n",
       "      <th>Min_per</th>\n",
       "      <th>Ortg</th>\n",
       "      <th>usg</th>\n",
       "      <th>eFG</th>\n",
       "      <th>TS_per</th>\n",
       "      <th>ORB_per</th>\n",
       "      <th>DRB_per</th>\n",
       "      <th>AST_per</th>\n",
       "      <th>TO_per</th>\n",
       "    </tr>\n",
       "  </thead>\n",
       "  <tbody>\n",
       "    <tr>\n",
       "      <th>count</th>\n",
       "      <td>51376.000000</td>\n",
       "      <td>51376.000000</td>\n",
       "      <td>51376.000000</td>\n",
       "      <td>51376.000000</td>\n",
       "      <td>51376.000000</td>\n",
       "      <td>51376.000000</td>\n",
       "      <td>51376.000000</td>\n",
       "      <td>51376.000000</td>\n",
       "      <td>51376.000000</td>\n",
       "      <td>51376.000000</td>\n",
       "      <td>51376.000000</td>\n",
       "    </tr>\n",
       "    <tr>\n",
       "      <th>mean</th>\n",
       "      <td>32637.945247</td>\n",
       "      <td>24.522656</td>\n",
       "      <td>40.624101</td>\n",
       "      <td>94.637070</td>\n",
       "      <td>18.715653</td>\n",
       "      <td>46.760411</td>\n",
       "      <td>49.872317</td>\n",
       "      <td>5.532299</td>\n",
       "      <td>12.827992</td>\n",
       "      <td>11.162979</td>\n",
       "      <td>21.233907</td>\n",
       "    </tr>\n",
       "    <tr>\n",
       "      <th>std</th>\n",
       "      <td>16223.682206</td>\n",
       "      <td>8.801572</td>\n",
       "      <td>26.923393</td>\n",
       "      <td>21.006166</td>\n",
       "      <td>5.337342</td>\n",
       "      <td>14.096928</td>\n",
       "      <td>12.965181</td>\n",
       "      <td>8.666942</td>\n",
       "      <td>8.531460</td>\n",
       "      <td>8.223106</td>\n",
       "      <td>9.267233</td>\n",
       "    </tr>\n",
       "    <tr>\n",
       "      <th>min</th>\n",
       "      <td>4589.000000</td>\n",
       "      <td>1.000000</td>\n",
       "      <td>0.000000</td>\n",
       "      <td>0.000000</td>\n",
       "      <td>0.000000</td>\n",
       "      <td>0.000000</td>\n",
       "      <td>0.000000</td>\n",
       "      <td>0.000000</td>\n",
       "      <td>0.000000</td>\n",
       "      <td>0.000000</td>\n",
       "      <td>0.000000</td>\n",
       "    </tr>\n",
       "    <tr>\n",
       "      <th>25%</th>\n",
       "      <td>18585.750000</td>\n",
       "      <td>19.000000</td>\n",
       "      <td>15.700000</td>\n",
       "      <td>86.800000</td>\n",
       "      <td>15.100000</td>\n",
       "      <td>42.100000</td>\n",
       "      <td>45.670000</td>\n",
       "      <td>2.100000</td>\n",
       "      <td>8.900000</td>\n",
       "      <td>5.400000</td>\n",
       "      <td>15.700000</td>\n",
       "    </tr>\n",
       "    <tr>\n",
       "      <th>50%</th>\n",
       "      <td>32692.500000</td>\n",
       "      <td>28.000000</td>\n",
       "      <td>40.400000</td>\n",
       "      <td>98.000000</td>\n",
       "      <td>18.400000</td>\n",
       "      <td>48.300000</td>\n",
       "      <td>51.440000</td>\n",
       "      <td>4.500000</td>\n",
       "      <td>12.200000</td>\n",
       "      <td>9.500000</td>\n",
       "      <td>19.500000</td>\n",
       "    </tr>\n",
       "    <tr>\n",
       "      <th>75%</th>\n",
       "      <td>46678.250000</td>\n",
       "      <td>31.000000</td>\n",
       "      <td>64.200000</td>\n",
       "      <td>107.000000</td>\n",
       "      <td>22.000000</td>\n",
       "      <td>53.600000</td>\n",
       "      <td>56.370000</td>\n",
       "      <td>8.100000</td>\n",
       "      <td>16.100000</td>\n",
       "      <td>15.300000</td>\n",
       "      <td>24.700000</td>\n",
       "    </tr>\n",
       "    <tr>\n",
       "      <th>max</th>\n",
       "      <td>61057.000000</td>\n",
       "      <td>41.000000</td>\n",
       "      <td>96.700000</td>\n",
       "      <td>484.600000</td>\n",
       "      <td>50.000000</td>\n",
       "      <td>150.000000</td>\n",
       "      <td>150.000000</td>\n",
       "      <td>1576.600000</td>\n",
       "      <td>1385.000000</td>\n",
       "      <td>100.000000</td>\n",
       "      <td>100.000000</td>\n",
       "    </tr>\n",
       "  </tbody>\n",
       "</table>\n",
       "</div>"
      ],
      "text/plain": [
       "         Unnamed: 0            GP       Min_per          Ortg           usg  \\\n",
       "count  51376.000000  51376.000000  51376.000000  51376.000000  51376.000000   \n",
       "mean   32637.945247     24.522656     40.624101     94.637070     18.715653   \n",
       "std    16223.682206      8.801572     26.923393     21.006166      5.337342   \n",
       "min     4589.000000      1.000000      0.000000      0.000000      0.000000   \n",
       "25%    18585.750000     19.000000     15.700000     86.800000     15.100000   \n",
       "50%    32692.500000     28.000000     40.400000     98.000000     18.400000   \n",
       "75%    46678.250000     31.000000     64.200000    107.000000     22.000000   \n",
       "max    61057.000000     41.000000     96.700000    484.600000     50.000000   \n",
       "\n",
       "                eFG        TS_per       ORB_per       DRB_per       AST_per  \\\n",
       "count  51376.000000  51376.000000  51376.000000  51376.000000  51376.000000   \n",
       "mean      46.760411     49.872317      5.532299     12.827992     11.162979   \n",
       "std       14.096928     12.965181      8.666942      8.531460      8.223106   \n",
       "min        0.000000      0.000000      0.000000      0.000000      0.000000   \n",
       "25%       42.100000     45.670000      2.100000      8.900000      5.400000   \n",
       "50%       48.300000     51.440000      4.500000     12.200000      9.500000   \n",
       "75%       53.600000     56.370000      8.100000     16.100000     15.300000   \n",
       "max      150.000000    150.000000   1576.600000   1385.000000    100.000000   \n",
       "\n",
       "             TO_per  \n",
       "count  51376.000000  \n",
       "mean      21.233907  \n",
       "std        9.267233  \n",
       "min        0.000000  \n",
       "25%       15.700000  \n",
       "50%       19.500000  \n",
       "75%       24.700000  \n",
       "max      100.000000  "
      ]
     },
     "execution_count": 50,
     "metadata": {},
     "output_type": "execute_result"
    }
   ],
   "source": [
    "stats_unique[list(stats_unique.columns[0:14])].describe()"
   ]
  },
  {
   "cell_type": "code",
   "execution_count": 52,
   "id": "64ab3618",
   "metadata": {
    "scrolled": false
   },
   "outputs": [
    {
     "data": {
      "text/html": [
       "<div>\n",
       "<style scoped>\n",
       "    .dataframe tbody tr th:only-of-type {\n",
       "        vertical-align: middle;\n",
       "    }\n",
       "\n",
       "    .dataframe tbody tr th {\n",
       "        vertical-align: top;\n",
       "    }\n",
       "\n",
       "    .dataframe thead th {\n",
       "        text-align: right;\n",
       "    }\n",
       "</style>\n",
       "<table border=\"1\" class=\"dataframe\">\n",
       "  <thead>\n",
       "    <tr style=\"text-align: right;\">\n",
       "      <th></th>\n",
       "      <th>FTM</th>\n",
       "      <th>FTA</th>\n",
       "      <th>FT_per</th>\n",
       "      <th>twoPM</th>\n",
       "      <th>twoPA</th>\n",
       "      <th>twoP_per</th>\n",
       "      <th>TPM</th>\n",
       "      <th>TPA</th>\n",
       "      <th>TP_per</th>\n",
       "      <th>blk_per</th>\n",
       "      <th>stl_per</th>\n",
       "      <th>ftr</th>\n",
       "    </tr>\n",
       "  </thead>\n",
       "  <tbody>\n",
       "    <tr>\n",
       "      <th>count</th>\n",
       "      <td>51376.000000</td>\n",
       "      <td>51376.000000</td>\n",
       "      <td>51376.000000</td>\n",
       "      <td>51376.000000</td>\n",
       "      <td>51376.000000</td>\n",
       "      <td>51376.000000</td>\n",
       "      <td>51376.000000</td>\n",
       "      <td>51376.000000</td>\n",
       "      <td>51376.000000</td>\n",
       "      <td>51376.000000</td>\n",
       "      <td>51376.000000</td>\n",
       "      <td>51376.000000</td>\n",
       "    </tr>\n",
       "    <tr>\n",
       "      <th>mean</th>\n",
       "      <td>34.966463</td>\n",
       "      <td>49.956789</td>\n",
       "      <td>0.621721</td>\n",
       "      <td>44.197038</td>\n",
       "      <td>90.796189</td>\n",
       "      <td>0.451602</td>\n",
       "      <td>16.888119</td>\n",
       "      <td>49.143919</td>\n",
       "      <td>0.243202</td>\n",
       "      <td>1.935462</td>\n",
       "      <td>1.731904</td>\n",
       "      <td>38.283714</td>\n",
       "    </tr>\n",
       "    <tr>\n",
       "      <th>std</th>\n",
       "      <td>36.461026</td>\n",
       "      <td>48.772419</td>\n",
       "      <td>0.228727</td>\n",
       "      <td>43.114231</td>\n",
       "      <td>83.490341</td>\n",
       "      <td>0.158652</td>\n",
       "      <td>21.639506</td>\n",
       "      <td>57.984626</td>\n",
       "      <td>0.180867</td>\n",
       "      <td>5.363574</td>\n",
       "      <td>1.430146</td>\n",
       "      <td>32.976196</td>\n",
       "    </tr>\n",
       "    <tr>\n",
       "      <th>min</th>\n",
       "      <td>0.000000</td>\n",
       "      <td>0.000000</td>\n",
       "      <td>0.000000</td>\n",
       "      <td>0.000000</td>\n",
       "      <td>0.000000</td>\n",
       "      <td>0.000000</td>\n",
       "      <td>0.000000</td>\n",
       "      <td>0.000000</td>\n",
       "      <td>0.000000</td>\n",
       "      <td>0.000000</td>\n",
       "      <td>0.000000</td>\n",
       "      <td>0.000000</td>\n",
       "    </tr>\n",
       "    <tr>\n",
       "      <th>25%</th>\n",
       "      <td>7.000000</td>\n",
       "      <td>11.000000</td>\n",
       "      <td>0.542000</td>\n",
       "      <td>9.000000</td>\n",
       "      <td>21.000000</td>\n",
       "      <td>0.399000</td>\n",
       "      <td>0.000000</td>\n",
       "      <td>2.000000</td>\n",
       "      <td>0.000000</td>\n",
       "      <td>0.200000</td>\n",
       "      <td>1.000000</td>\n",
       "      <td>21.900000</td>\n",
       "    </tr>\n",
       "    <tr>\n",
       "      <th>50%</th>\n",
       "      <td>23.000000</td>\n",
       "      <td>35.000000</td>\n",
       "      <td>0.670000</td>\n",
       "      <td>31.000000</td>\n",
       "      <td>67.000000</td>\n",
       "      <td>0.469000</td>\n",
       "      <td>7.000000</td>\n",
       "      <td>25.000000</td>\n",
       "      <td>0.290000</td>\n",
       "      <td>1.000000</td>\n",
       "      <td>1.600000</td>\n",
       "      <td>33.400000</td>\n",
       "    </tr>\n",
       "    <tr>\n",
       "      <th>75%</th>\n",
       "      <td>52.000000</td>\n",
       "      <td>75.000000</td>\n",
       "      <td>0.765000</td>\n",
       "      <td>68.000000</td>\n",
       "      <td>139.250000</td>\n",
       "      <td>0.531000</td>\n",
       "      <td>27.000000</td>\n",
       "      <td>80.000000</td>\n",
       "      <td>0.362000</td>\n",
       "      <td>2.600000</td>\n",
       "      <td>2.200000</td>\n",
       "      <td>47.900000</td>\n",
       "    </tr>\n",
       "    <tr>\n",
       "      <th>max</th>\n",
       "      <td>273.000000</td>\n",
       "      <td>357.000000</td>\n",
       "      <td>1.000000</td>\n",
       "      <td>333.000000</td>\n",
       "      <td>678.000000</td>\n",
       "      <td>1.000000</td>\n",
       "      <td>147.000000</td>\n",
       "      <td>394.000000</td>\n",
       "      <td>1.000000</td>\n",
       "      <td>1072.000000</td>\n",
       "      <td>118.200000</td>\n",
       "      <td>1000.000000</td>\n",
       "    </tr>\n",
       "  </tbody>\n",
       "</table>\n",
       "</div>"
      ],
      "text/plain": [
       "                FTM           FTA        FT_per         twoPM         twoPA  \\\n",
       "count  51376.000000  51376.000000  51376.000000  51376.000000  51376.000000   \n",
       "mean      34.966463     49.956789      0.621721     44.197038     90.796189   \n",
       "std       36.461026     48.772419      0.228727     43.114231     83.490341   \n",
       "min        0.000000      0.000000      0.000000      0.000000      0.000000   \n",
       "25%        7.000000     11.000000      0.542000      9.000000     21.000000   \n",
       "50%       23.000000     35.000000      0.670000     31.000000     67.000000   \n",
       "75%       52.000000     75.000000      0.765000     68.000000    139.250000   \n",
       "max      273.000000    357.000000      1.000000    333.000000    678.000000   \n",
       "\n",
       "           twoP_per           TPM           TPA        TP_per       blk_per  \\\n",
       "count  51376.000000  51376.000000  51376.000000  51376.000000  51376.000000   \n",
       "mean       0.451602     16.888119     49.143919      0.243202      1.935462   \n",
       "std        0.158652     21.639506     57.984626      0.180867      5.363574   \n",
       "min        0.000000      0.000000      0.000000      0.000000      0.000000   \n",
       "25%        0.399000      0.000000      2.000000      0.000000      0.200000   \n",
       "50%        0.469000      7.000000     25.000000      0.290000      1.000000   \n",
       "75%        0.531000     27.000000     80.000000      0.362000      2.600000   \n",
       "max        1.000000    147.000000    394.000000      1.000000   1072.000000   \n",
       "\n",
       "            stl_per           ftr  \n",
       "count  51376.000000  51376.000000  \n",
       "mean       1.731904     38.283714  \n",
       "std        1.430146     32.976196  \n",
       "min        0.000000      0.000000  \n",
       "25%        1.000000     21.900000  \n",
       "50%        1.600000     33.400000  \n",
       "75%        2.200000     47.900000  \n",
       "max      118.200000   1000.000000  "
      ]
     },
     "execution_count": 52,
     "metadata": {},
     "output_type": "execute_result"
    }
   ],
   "source": [
    "stats_unique[list(stats_unique.columns[14:28])].describe()"
   ]
  },
  {
   "cell_type": "code",
   "execution_count": 54,
   "id": "067f1782",
   "metadata": {},
   "outputs": [
    {
     "data": {
      "text/html": [
       "<div>\n",
       "<style scoped>\n",
       "    .dataframe tbody tr th:only-of-type {\n",
       "        vertical-align: middle;\n",
       "    }\n",
       "\n",
       "    .dataframe tbody tr th {\n",
       "        vertical-align: top;\n",
       "    }\n",
       "\n",
       "    .dataframe thead th {\n",
       "        text-align: right;\n",
       "    }\n",
       "</style>\n",
       "<table border=\"1\" class=\"dataframe\">\n",
       "  <thead>\n",
       "    <tr style=\"text-align: right;\">\n",
       "      <th></th>\n",
       "      <th>porpag</th>\n",
       "      <th>adjoe</th>\n",
       "      <th>pfr</th>\n",
       "      <th>year</th>\n",
       "      <th>pid</th>\n",
       "      <th>ast/tov</th>\n",
       "      <th>rimmade</th>\n",
       "      <th>rimmade+rimmiss</th>\n",
       "      <th>midmade</th>\n",
       "      <th>midmade+midmiss</th>\n",
       "      <th>dunksmade</th>\n",
       "    </tr>\n",
       "  </thead>\n",
       "  <tbody>\n",
       "    <tr>\n",
       "      <th>count</th>\n",
       "      <td>51376.000000</td>\n",
       "      <td>51376.000000</td>\n",
       "      <td>51376.000000</td>\n",
       "      <td>51376.000000</td>\n",
       "      <td>51376.000000</td>\n",
       "      <td>51376.000000</td>\n",
       "      <td>51376.000000</td>\n",
       "      <td>51376.000000</td>\n",
       "      <td>51376.000000</td>\n",
       "      <td>51376.000000</td>\n",
       "      <td>51376.000000</td>\n",
       "    </tr>\n",
       "    <tr>\n",
       "      <th>mean</th>\n",
       "      <td>0.864290</td>\n",
       "      <td>92.629423</td>\n",
       "      <td>4.231803</td>\n",
       "      <td>2015.526939</td>\n",
       "      <td>35273.006579</td>\n",
       "      <td>0.949488</td>\n",
       "      <td>29.100261</td>\n",
       "      <td>48.795858</td>\n",
       "      <td>14.987679</td>\n",
       "      <td>41.756657</td>\n",
       "      <td>3.977382</td>\n",
       "    </tr>\n",
       "    <tr>\n",
       "      <th>std</th>\n",
       "      <td>1.350190</td>\n",
       "      <td>22.452605</td>\n",
       "      <td>4.096287</td>\n",
       "      <td>3.446912</td>\n",
       "      <td>19367.178466</td>\n",
       "      <td>0.703999</td>\n",
       "      <td>29.784260</td>\n",
       "      <td>46.880884</td>\n",
       "      <td>17.414587</td>\n",
       "      <td>43.869663</td>\n",
       "      <td>7.977467</td>\n",
       "    </tr>\n",
       "    <tr>\n",
       "      <th>min</th>\n",
       "      <td>-6.792410</td>\n",
       "      <td>-39.021300</td>\n",
       "      <td>0.000000</td>\n",
       "      <td>2010.000000</td>\n",
       "      <td>2.000000</td>\n",
       "      <td>0.000000</td>\n",
       "      <td>0.000000</td>\n",
       "      <td>0.000000</td>\n",
       "      <td>0.000000</td>\n",
       "      <td>0.000000</td>\n",
       "      <td>0.000000</td>\n",
       "    </tr>\n",
       "    <tr>\n",
       "      <th>25%</th>\n",
       "      <td>-0.110817</td>\n",
       "      <td>82.382525</td>\n",
       "      <td>2.900000</td>\n",
       "      <td>2013.000000</td>\n",
       "      <td>19885.000000</td>\n",
       "      <td>0.473684</td>\n",
       "      <td>6.000000</td>\n",
       "      <td>11.000000</td>\n",
       "      <td>2.000000</td>\n",
       "      <td>8.000000</td>\n",
       "      <td>0.000000</td>\n",
       "    </tr>\n",
       "    <tr>\n",
       "      <th>50%</th>\n",
       "      <td>0.506240</td>\n",
       "      <td>95.735500</td>\n",
       "      <td>3.800000</td>\n",
       "      <td>2016.000000</td>\n",
       "      <td>33992.000000</td>\n",
       "      <td>0.836234</td>\n",
       "      <td>20.000000</td>\n",
       "      <td>35.000000</td>\n",
       "      <td>9.000000</td>\n",
       "      <td>27.000000</td>\n",
       "      <td>1.000000</td>\n",
       "    </tr>\n",
       "    <tr>\n",
       "      <th>75%</th>\n",
       "      <td>1.622345</td>\n",
       "      <td>106.826000</td>\n",
       "      <td>5.100000</td>\n",
       "      <td>2019.000000</td>\n",
       "      <td>47997.000000</td>\n",
       "      <td>1.283441</td>\n",
       "      <td>44.000000</td>\n",
       "      <td>74.000000</td>\n",
       "      <td>22.000000</td>\n",
       "      <td>62.000000</td>\n",
       "      <td>4.000000</td>\n",
       "    </tr>\n",
       "    <tr>\n",
       "      <th>max</th>\n",
       "      <td>8.658190</td>\n",
       "      <td>382.666000</td>\n",
       "      <td>720.000000</td>\n",
       "      <td>2021.000000</td>\n",
       "      <td>74230.000000</td>\n",
       "      <td>14.007605</td>\n",
       "      <td>247.000000</td>\n",
       "      <td>358.000000</td>\n",
       "      <td>222.000000</td>\n",
       "      <td>532.000000</td>\n",
       "      <td>122.000000</td>\n",
       "    </tr>\n",
       "  </tbody>\n",
       "</table>\n",
       "</div>"
      ],
      "text/plain": [
       "             porpag         adjoe           pfr          year           pid  \\\n",
       "count  51376.000000  51376.000000  51376.000000  51376.000000  51376.000000   \n",
       "mean       0.864290     92.629423      4.231803   2015.526939  35273.006579   \n",
       "std        1.350190     22.452605      4.096287      3.446912  19367.178466   \n",
       "min       -6.792410    -39.021300      0.000000   2010.000000      2.000000   \n",
       "25%       -0.110817     82.382525      2.900000   2013.000000  19885.000000   \n",
       "50%        0.506240     95.735500      3.800000   2016.000000  33992.000000   \n",
       "75%        1.622345    106.826000      5.100000   2019.000000  47997.000000   \n",
       "max        8.658190    382.666000    720.000000   2021.000000  74230.000000   \n",
       "\n",
       "            ast/tov       rimmade  rimmade+rimmiss       midmade  \\\n",
       "count  51376.000000  51376.000000     51376.000000  51376.000000   \n",
       "mean       0.949488     29.100261        48.795858     14.987679   \n",
       "std        0.703999     29.784260        46.880884     17.414587   \n",
       "min        0.000000      0.000000         0.000000      0.000000   \n",
       "25%        0.473684      6.000000        11.000000      2.000000   \n",
       "50%        0.836234     20.000000        35.000000      9.000000   \n",
       "75%        1.283441     44.000000        74.000000     22.000000   \n",
       "max       14.007605    247.000000       358.000000    222.000000   \n",
       "\n",
       "       midmade+midmiss     dunksmade  \n",
       "count     51376.000000  51376.000000  \n",
       "mean         41.756657      3.977382  \n",
       "std          43.869663      7.977467  \n",
       "min           0.000000      0.000000  \n",
       "25%           8.000000      0.000000  \n",
       "50%          27.000000      1.000000  \n",
       "75%          62.000000      4.000000  \n",
       "max         532.000000    122.000000  "
      ]
     },
     "execution_count": 54,
     "metadata": {},
     "output_type": "execute_result"
    }
   ],
   "source": [
    "stats_unique[list(stats_unique.columns[28:41])].describe()"
   ]
  },
  {
   "cell_type": "code",
   "execution_count": 57,
   "id": "7c3f6e7b",
   "metadata": {},
   "outputs": [
    {
     "data": {
      "text/html": [
       "<div>\n",
       "<style scoped>\n",
       "    .dataframe tbody tr th:only-of-type {\n",
       "        vertical-align: middle;\n",
       "    }\n",
       "\n",
       "    .dataframe tbody tr th {\n",
       "        vertical-align: top;\n",
       "    }\n",
       "\n",
       "    .dataframe thead th {\n",
       "        text-align: right;\n",
       "    }\n",
       "</style>\n",
       "<table border=\"1\" class=\"dataframe\">\n",
       "  <thead>\n",
       "    <tr style=\"text-align: right;\">\n",
       "      <th></th>\n",
       "      <th>dunksmiss+dunksmade</th>\n",
       "      <th>drtg</th>\n",
       "      <th>adrtg</th>\n",
       "      <th>dporpag</th>\n",
       "      <th>stops</th>\n",
       "      <th>bpm</th>\n",
       "      <th>obpm</th>\n",
       "      <th>dbpm</th>\n",
       "      <th>gbpm</th>\n",
       "      <th>mp</th>\n",
       "      <th>ogbpm</th>\n",
       "    </tr>\n",
       "  </thead>\n",
       "  <tbody>\n",
       "    <tr>\n",
       "      <th>count</th>\n",
       "      <td>51376.000000</td>\n",
       "      <td>51376.000000</td>\n",
       "      <td>51376.000000</td>\n",
       "      <td>51376.000000</td>\n",
       "      <td>51376.000000</td>\n",
       "      <td>51376.000000</td>\n",
       "      <td>51376.000000</td>\n",
       "      <td>51376.000000</td>\n",
       "      <td>51376.000000</td>\n",
       "      <td>51376.000000</td>\n",
       "      <td>51376.000000</td>\n",
       "    </tr>\n",
       "    <tr>\n",
       "      <th>mean</th>\n",
       "      <td>4.473159</td>\n",
       "      <td>103.269594</td>\n",
       "      <td>103.307959</td>\n",
       "      <td>1.559867</td>\n",
       "      <td>88.357364</td>\n",
       "      <td>-2.058173</td>\n",
       "      <td>-1.651562</td>\n",
       "      <td>-0.406612</td>\n",
       "      <td>-2.143289</td>\n",
       "      <td>18.345416</td>\n",
       "      <td>-1.820818</td>\n",
       "    </tr>\n",
       "    <tr>\n",
       "      <th>std</th>\n",
       "      <td>8.747251</td>\n",
       "      <td>9.356904</td>\n",
       "      <td>10.188471</td>\n",
       "      <td>1.035231</td>\n",
       "      <td>62.555628</td>\n",
       "      <td>6.626976</td>\n",
       "      <td>4.474168</td>\n",
       "      <td>3.645268</td>\n",
       "      <td>6.256832</td>\n",
       "      <td>10.026583</td>\n",
       "      <td>4.745248</td>\n",
       "    </tr>\n",
       "    <tr>\n",
       "      <th>min</th>\n",
       "      <td>0.000000</td>\n",
       "      <td>-1330.060000</td>\n",
       "      <td>-1292.020000</td>\n",
       "      <td>-0.314065</td>\n",
       "      <td>0.045436</td>\n",
       "      <td>-58.570000</td>\n",
       "      <td>-52.569600</td>\n",
       "      <td>-57.459400</td>\n",
       "      <td>-121.379000</td>\n",
       "      <td>0.000000</td>\n",
       "      <td>-97.115200</td>\n",
       "    </tr>\n",
       "    <tr>\n",
       "      <th>25%</th>\n",
       "      <td>0.000000</td>\n",
       "      <td>99.043550</td>\n",
       "      <td>97.994350</td>\n",
       "      <td>0.695574</td>\n",
       "      <td>31.742600</td>\n",
       "      <td>-4.849302</td>\n",
       "      <td>-3.675090</td>\n",
       "      <td>-2.052635</td>\n",
       "      <td>-4.861343</td>\n",
       "      <td>9.500000</td>\n",
       "      <td>-4.042930</td>\n",
       "    </tr>\n",
       "    <tr>\n",
       "      <th>50%</th>\n",
       "      <td>1.000000</td>\n",
       "      <td>103.485500</td>\n",
       "      <td>103.586500</td>\n",
       "      <td>1.406085</td>\n",
       "      <td>84.183600</td>\n",
       "      <td>-1.526020</td>\n",
       "      <td>-1.156010</td>\n",
       "      <td>-0.433303</td>\n",
       "      <td>-1.542580</td>\n",
       "      <td>18.413800</td>\n",
       "      <td>-1.388165</td>\n",
       "    </tr>\n",
       "    <tr>\n",
       "      <th>75%</th>\n",
       "      <td>5.000000</td>\n",
       "      <td>107.830000</td>\n",
       "      <td>108.895000</td>\n",
       "      <td>2.276840</td>\n",
       "      <td>137.263750</td>\n",
       "      <td>1.551553</td>\n",
       "      <td>1.066667</td>\n",
       "      <td>1.212710</td>\n",
       "      <td>1.464508</td>\n",
       "      <td>27.111100</td>\n",
       "      <td>1.045470</td>\n",
       "    </tr>\n",
       "    <tr>\n",
       "      <th>max</th>\n",
       "      <td>132.000000</td>\n",
       "      <td>131.461000</td>\n",
       "      <td>142.789000</td>\n",
       "      <td>5.645940</td>\n",
       "      <td>360.572000</td>\n",
       "      <td>685.313000</td>\n",
       "      <td>161.995000</td>\n",
       "      <td>523.319000</td>\n",
       "      <td>46.448900</td>\n",
       "      <td>39.942900</td>\n",
       "      <td>42.198800</td>\n",
       "    </tr>\n",
       "  </tbody>\n",
       "</table>\n",
       "</div>"
      ],
      "text/plain": [
       "       dunksmiss+dunksmade          drtg         adrtg       dporpag  \\\n",
       "count         51376.000000  51376.000000  51376.000000  51376.000000   \n",
       "mean              4.473159    103.269594    103.307959      1.559867   \n",
       "std               8.747251      9.356904     10.188471      1.035231   \n",
       "min               0.000000  -1330.060000  -1292.020000     -0.314065   \n",
       "25%               0.000000     99.043550     97.994350      0.695574   \n",
       "50%               1.000000    103.485500    103.586500      1.406085   \n",
       "75%               5.000000    107.830000    108.895000      2.276840   \n",
       "max             132.000000    131.461000    142.789000      5.645940   \n",
       "\n",
       "              stops           bpm          obpm          dbpm          gbpm  \\\n",
       "count  51376.000000  51376.000000  51376.000000  51376.000000  51376.000000   \n",
       "mean      88.357364     -2.058173     -1.651562     -0.406612     -2.143289   \n",
       "std       62.555628      6.626976      4.474168      3.645268      6.256832   \n",
       "min        0.045436    -58.570000    -52.569600    -57.459400   -121.379000   \n",
       "25%       31.742600     -4.849302     -3.675090     -2.052635     -4.861343   \n",
       "50%       84.183600     -1.526020     -1.156010     -0.433303     -1.542580   \n",
       "75%      137.263750      1.551553      1.066667      1.212710      1.464508   \n",
       "max      360.572000    685.313000    161.995000    523.319000     46.448900   \n",
       "\n",
       "                 mp         ogbpm  \n",
       "count  51376.000000  51376.000000  \n",
       "mean      18.345416     -1.820818  \n",
       "std       10.026583      4.745248  \n",
       "min        0.000000    -97.115200  \n",
       "25%        9.500000     -4.042930  \n",
       "50%       18.413800     -1.388165  \n",
       "75%       27.111100      1.045470  \n",
       "max       39.942900     42.198800  "
      ]
     },
     "execution_count": 57,
     "metadata": {},
     "output_type": "execute_result"
    }
   ],
   "source": [
    "stats_unique[list(stats_unique.columns[41:52])].describe()"
   ]
  },
  {
   "cell_type": "code",
   "execution_count": 58,
   "id": "29e051d8",
   "metadata": {},
   "outputs": [
    {
     "data": {
      "text/html": [
       "<div>\n",
       "<style scoped>\n",
       "    .dataframe tbody tr th:only-of-type {\n",
       "        vertical-align: middle;\n",
       "    }\n",
       "\n",
       "    .dataframe tbody tr th {\n",
       "        vertical-align: top;\n",
       "    }\n",
       "\n",
       "    .dataframe thead th {\n",
       "        text-align: right;\n",
       "    }\n",
       "</style>\n",
       "<table border=\"1\" class=\"dataframe\">\n",
       "  <thead>\n",
       "    <tr style=\"text-align: right;\">\n",
       "      <th></th>\n",
       "      <th>dgbpm</th>\n",
       "      <th>oreb</th>\n",
       "      <th>dreb</th>\n",
       "      <th>treb</th>\n",
       "      <th>ast</th>\n",
       "      <th>stl</th>\n",
       "      <th>blk</th>\n",
       "      <th>pts</th>\n",
       "      <th>Unnamed: 65</th>\n",
       "      <th>drafted</th>\n",
       "    </tr>\n",
       "  </thead>\n",
       "  <tbody>\n",
       "    <tr>\n",
       "      <th>count</th>\n",
       "      <td>51376.000000</td>\n",
       "      <td>51376.000000</td>\n",
       "      <td>51376.000000</td>\n",
       "      <td>51376.000000</td>\n",
       "      <td>51376.000000</td>\n",
       "      <td>51376.000000</td>\n",
       "      <td>51376.000000</td>\n",
       "      <td>51376.000000</td>\n",
       "      <td>51376.000000</td>\n",
       "      <td>51376.000000</td>\n",
       "    </tr>\n",
       "    <tr>\n",
       "      <th>mean</th>\n",
       "      <td>-0.322471</td>\n",
       "      <td>0.823468</td>\n",
       "      <td>2.066351</td>\n",
       "      <td>2.889820</td>\n",
       "      <td>1.167297</td>\n",
       "      <td>0.572737</td>\n",
       "      <td>0.306464</td>\n",
       "      <td>6.299386</td>\n",
       "      <td>5.393443</td>\n",
       "      <td>0.025635</td>\n",
       "    </tr>\n",
       "    <tr>\n",
       "      <th>std</th>\n",
       "      <td>2.469325</td>\n",
       "      <td>0.733749</td>\n",
       "      <td>1.456800</td>\n",
       "      <td>2.059264</td>\n",
       "      <td>1.182446</td>\n",
       "      <td>0.462330</td>\n",
       "      <td>0.425429</td>\n",
       "      <td>4.883081</td>\n",
       "      <td>4.832052</td>\n",
       "      <td>0.158044</td>\n",
       "    </tr>\n",
       "    <tr>\n",
       "      <th>min</th>\n",
       "      <td>-46.596400</td>\n",
       "      <td>0.000000</td>\n",
       "      <td>0.000000</td>\n",
       "      <td>0.000000</td>\n",
       "      <td>0.000000</td>\n",
       "      <td>0.000000</td>\n",
       "      <td>0.000000</td>\n",
       "      <td>0.000000</td>\n",
       "      <td>0.000000</td>\n",
       "      <td>0.000000</td>\n",
       "    </tr>\n",
       "    <tr>\n",
       "      <th>25%</th>\n",
       "      <td>-1.554095</td>\n",
       "      <td>0.285700</td>\n",
       "      <td>0.925900</td>\n",
       "      <td>1.307700</td>\n",
       "      <td>0.307700</td>\n",
       "      <td>0.214300</td>\n",
       "      <td>0.038500</td>\n",
       "      <td>2.185200</td>\n",
       "      <td>0.877209</td>\n",
       "      <td>0.000000</td>\n",
       "    </tr>\n",
       "    <tr>\n",
       "      <th>50%</th>\n",
       "      <td>-0.241386</td>\n",
       "      <td>0.600000</td>\n",
       "      <td>1.821400</td>\n",
       "      <td>2.500000</td>\n",
       "      <td>0.785700</td>\n",
       "      <td>0.478300</td>\n",
       "      <td>0.157900</td>\n",
       "      <td>5.200000</td>\n",
       "      <td>4.888170</td>\n",
       "      <td>0.000000</td>\n",
       "    </tr>\n",
       "    <tr>\n",
       "      <th>75%</th>\n",
       "      <td>1.075617</td>\n",
       "      <td>1.166700</td>\n",
       "      <td>2.906200</td>\n",
       "      <td>4.000000</td>\n",
       "      <td>1.645200</td>\n",
       "      <td>0.833300</td>\n",
       "      <td>0.400000</td>\n",
       "      <td>9.572300</td>\n",
       "      <td>8.523395</td>\n",
       "      <td>0.000000</td>\n",
       "    </tr>\n",
       "    <tr>\n",
       "      <th>max</th>\n",
       "      <td>38.033900</td>\n",
       "      <td>5.933300</td>\n",
       "      <td>11.545500</td>\n",
       "      <td>15.000000</td>\n",
       "      <td>10.000000</td>\n",
       "      <td>4.000000</td>\n",
       "      <td>5.258100</td>\n",
       "      <td>30.090900</td>\n",
       "      <td>127.274000</td>\n",
       "      <td>1.000000</td>\n",
       "    </tr>\n",
       "  </tbody>\n",
       "</table>\n",
       "</div>"
      ],
      "text/plain": [
       "              dgbpm          oreb          dreb          treb           ast  \\\n",
       "count  51376.000000  51376.000000  51376.000000  51376.000000  51376.000000   \n",
       "mean      -0.322471      0.823468      2.066351      2.889820      1.167297   \n",
       "std        2.469325      0.733749      1.456800      2.059264      1.182446   \n",
       "min      -46.596400      0.000000      0.000000      0.000000      0.000000   \n",
       "25%       -1.554095      0.285700      0.925900      1.307700      0.307700   \n",
       "50%       -0.241386      0.600000      1.821400      2.500000      0.785700   \n",
       "75%        1.075617      1.166700      2.906200      4.000000      1.645200   \n",
       "max       38.033900      5.933300     11.545500     15.000000     10.000000   \n",
       "\n",
       "                stl           blk           pts   Unnamed: 65       drafted  \n",
       "count  51376.000000  51376.000000  51376.000000  51376.000000  51376.000000  \n",
       "mean       0.572737      0.306464      6.299386      5.393443      0.025635  \n",
       "std        0.462330      0.425429      4.883081      4.832052      0.158044  \n",
       "min        0.000000      0.000000      0.000000      0.000000      0.000000  \n",
       "25%        0.214300      0.038500      2.185200      0.877209      0.000000  \n",
       "50%        0.478300      0.157900      5.200000      4.888170      0.000000  \n",
       "75%        0.833300      0.400000      9.572300      8.523395      0.000000  \n",
       "max        4.000000      5.258100     30.090900    127.274000      1.000000  "
      ]
     },
     "execution_count": 58,
     "metadata": {},
     "output_type": "execute_result"
    }
   ],
   "source": [
    "stats_unique[list(stats_unique.columns[52:63])].describe()"
   ]
  },
  {
   "cell_type": "markdown",
   "id": "49444d0e",
   "metadata": {},
   "source": [
    "The distribution of the categorical variables used in the analysis is:"
   ]
  },
  {
   "cell_type": "code",
   "execution_count": 10,
   "id": "38494387",
   "metadata": {
    "scrolled": true
   },
   "outputs": [
    {
     "data": {
      "text/html": [
       "<div>\n",
       "<style scoped>\n",
       "    .dataframe tbody tr th:only-of-type {\n",
       "        vertical-align: middle;\n",
       "    }\n",
       "\n",
       "    .dataframe tbody tr th {\n",
       "        vertical-align: top;\n",
       "    }\n",
       "\n",
       "    .dataframe thead th {\n",
       "        text-align: right;\n",
       "    }\n",
       "</style>\n",
       "<table border=\"1\" class=\"dataframe\">\n",
       "  <thead>\n",
       "    <tr style=\"text-align: right;\">\n",
       "      <th></th>\n",
       "      <th>player_name</th>\n",
       "      <th>team</th>\n",
       "      <th>conf</th>\n",
       "      <th>yr</th>\n",
       "      <th>ht</th>\n",
       "      <th>num</th>\n",
       "      <th>type</th>\n",
       "      <th>Unnamed: 64</th>\n",
       "    </tr>\n",
       "  </thead>\n",
       "  <tbody>\n",
       "    <tr>\n",
       "      <th>count</th>\n",
       "      <td>51376</td>\n",
       "      <td>51376</td>\n",
       "      <td>51376</td>\n",
       "      <td>51376</td>\n",
       "      <td>51376</td>\n",
       "      <td>51376</td>\n",
       "      <td>51376</td>\n",
       "      <td>51376</td>\n",
       "    </tr>\n",
       "    <tr>\n",
       "      <th>unique</th>\n",
       "      <td>21983</td>\n",
       "      <td>362</td>\n",
       "      <td>36</td>\n",
       "      <td>5</td>\n",
       "      <td>31</td>\n",
       "      <td>76</td>\n",
       "      <td>1</td>\n",
       "      <td>8</td>\n",
       "    </tr>\n",
       "    <tr>\n",
       "      <th>top</th>\n",
       "      <td>Chris Smith</td>\n",
       "      <td>Arkansas Pine Bluff</td>\n",
       "      <td>ACC</td>\n",
       "      <td>Jr</td>\n",
       "      <td>7-Jun</td>\n",
       "      <td>1</td>\n",
       "      <td>all</td>\n",
       "      <td>Wing G</td>\n",
       "    </tr>\n",
       "    <tr>\n",
       "      <th>freq</th>\n",
       "      <td>14</td>\n",
       "      <td>181</td>\n",
       "      <td>2055</td>\n",
       "      <td>13954</td>\n",
       "      <td>5309</td>\n",
       "      <td>2654</td>\n",
       "      <td>51376</td>\n",
       "      <td>11885</td>\n",
       "    </tr>\n",
       "  </tbody>\n",
       "</table>\n",
       "</div>"
      ],
      "text/plain": [
       "        player_name                 team   conf     yr     ht    num   type  \\\n",
       "count         51376                51376  51376  51376  51376  51376  51376   \n",
       "unique        21983                  362     36      5     31     76      1   \n",
       "top     Chris Smith  Arkansas Pine Bluff    ACC     Jr  7-Jun      1    all   \n",
       "freq             14                  181   2055  13954   5309   2654  51376   \n",
       "\n",
       "       Unnamed: 64  \n",
       "count        51376  \n",
       "unique           8  \n",
       "top         Wing G  \n",
       "freq         11885  "
      ]
     },
     "execution_count": 10,
     "metadata": {},
     "output_type": "execute_result"
    }
   ],
   "source": [
    "stats_unique.describe(include=object)"
   ]
  },
  {
   "cell_type": "code",
   "execution_count": 27,
   "id": "42ef2f10",
   "metadata": {
    "scrolled": false
   },
   "outputs": [
    {
     "data": {
      "text/html": [
       "<div>\n",
       "<style scoped>\n",
       "    .dataframe tbody tr th:only-of-type {\n",
       "        vertical-align: middle;\n",
       "    }\n",
       "\n",
       "    .dataframe tbody tr th {\n",
       "        vertical-align: top;\n",
       "    }\n",
       "\n",
       "    .dataframe thead th {\n",
       "        text-align: right;\n",
       "    }\n",
       "</style>\n",
       "<table border=\"1\" class=\"dataframe\">\n",
       "  <thead>\n",
       "    <tr style=\"text-align: right;\">\n",
       "      <th></th>\n",
       "      <th></th>\n",
       "      <th>value</th>\n",
       "      <th>counts</th>\n",
       "    </tr>\n",
       "  </thead>\n",
       "  <tbody>\n",
       "    <tr>\n",
       "      <th rowspan=\"5\" valign=\"top\">Team</th>\n",
       "      <th>0</th>\n",
       "      <td>Arkansas Pine Bluff</td>\n",
       "      <td>181</td>\n",
       "    </tr>\n",
       "    <tr>\n",
       "      <th>1</th>\n",
       "      <td>Army</td>\n",
       "      <td>180</td>\n",
       "    </tr>\n",
       "    <tr>\n",
       "      <th>2</th>\n",
       "      <td>North Carolina</td>\n",
       "      <td>180</td>\n",
       "    </tr>\n",
       "    <tr>\n",
       "      <th>3</th>\n",
       "      <td>Navy</td>\n",
       "      <td>175</td>\n",
       "    </tr>\n",
       "    <tr>\n",
       "      <th>4</th>\n",
       "      <td>Air Force</td>\n",
       "      <td>171</td>\n",
       "    </tr>\n",
       "    <tr>\n",
       "      <th rowspan=\"5\" valign=\"top\">Year</th>\n",
       "      <th>0</th>\n",
       "      <td>Jr</td>\n",
       "      <td>13954</td>\n",
       "    </tr>\n",
       "    <tr>\n",
       "      <th>1</th>\n",
       "      <td>Fr</td>\n",
       "      <td>13132</td>\n",
       "    </tr>\n",
       "    <tr>\n",
       "      <th>2</th>\n",
       "      <td>So</td>\n",
       "      <td>12159</td>\n",
       "    </tr>\n",
       "    <tr>\n",
       "      <th>3</th>\n",
       "      <td>Sr</td>\n",
       "      <td>12124</td>\n",
       "    </tr>\n",
       "    <tr>\n",
       "      <th>4</th>\n",
       "      <td>None</td>\n",
       "      <td>7</td>\n",
       "    </tr>\n",
       "    <tr>\n",
       "      <th rowspan=\"5\" valign=\"top\">Conference</th>\n",
       "      <th>0</th>\n",
       "      <td>ACC</td>\n",
       "      <td>2055</td>\n",
       "    </tr>\n",
       "    <tr>\n",
       "      <th>1</th>\n",
       "      <td>A10</td>\n",
       "      <td>1995</td>\n",
       "    </tr>\n",
       "    <tr>\n",
       "      <th>2</th>\n",
       "      <td>SEC</td>\n",
       "      <td>1988</td>\n",
       "    </tr>\n",
       "    <tr>\n",
       "      <th>3</th>\n",
       "      <td>B10</td>\n",
       "      <td>1932</td>\n",
       "    </tr>\n",
       "    <tr>\n",
       "      <th>4</th>\n",
       "      <td>CUSA</td>\n",
       "      <td>1931</td>\n",
       "    </tr>\n",
       "  </tbody>\n",
       "</table>\n",
       "</div>"
      ],
      "text/plain": [
       "                            value  counts\n",
       "Team       0  Arkansas Pine Bluff     181\n",
       "           1                 Army     180\n",
       "           2       North Carolina     180\n",
       "           3                 Navy     175\n",
       "           4            Air Force     171\n",
       "Year       0                   Jr   13954\n",
       "           1                   Fr   13132\n",
       "           2                   So   12159\n",
       "           3                   Sr   12124\n",
       "           4                 None       7\n",
       "Conference 0                  ACC    2055\n",
       "           1                  A10    1995\n",
       "           2                  SEC    1988\n",
       "           3                  B10    1932\n",
       "           4                 CUSA    1931"
      ]
     },
     "execution_count": 27,
     "metadata": {},
     "output_type": "execute_result"
    }
   ],
   "source": [
    "value_counts_team = stats_unique['team'].value_counts().rename_axis('value').reset_index(name='counts')\n",
    "value_counts_yr = stats_unique['yr'].value_counts().rename_axis('value').reset_index(name='counts')\n",
    "value_counts_conf = stats_unique['conf'].value_counts().rename_axis('value').reset_index(name='counts')\n",
    "value_counts = pd.concat([value_counts_team[0:5], value_counts_yr[0:5], \n",
    "                          value_counts_conf[0:5]], keys = ['Team','Year','Conference'])\n",
    "value_counts"
   ]
  },
  {
   "cell_type": "markdown",
   "id": "fbb11c9b",
   "metadata": {
    "id": "fbb11c9b"
   },
   "source": [
    "## Exploratory data analysis"
   ]
  },
  {
   "cell_type": "markdown",
   "id": "e4bd74a9",
   "metadata": {
    "id": "e4bd74a9"
   },
   "source": [
    "If there is any EDA that helped with model development, put it here. If EDA didn't help then mention that, and you may show your EDA effort *(if any)* in the appendix.\n",
    "\n",
    "List the insights (as bullet points), if any, you got from EDA  that ended up being useful towards developing your final model. \n",
    "\n",
    "If there are too many plots / tables, you may put them into appendix, and just mention the insights you got from them."
   ]
  },
  {
   "cell_type": "markdown",
   "id": "d1f12d5d",
   "metadata": {
    "id": "d1f12d5d"
   },
   "source": [
    "Note that you can write code to publish the results of the code, but hide the code using the yaml setting `#|echo: false`. For example, the code below makes a plot, but the code itself is not published with Quarto in the report."
   ]
  },
  {
   "cell_type": "code",
   "execution_count": null,
   "id": "14a59729",
   "metadata": {
    "id": "14a59729",
    "outputId": "49b288d5-c34e-4dde-e8f4-81bf90c66e06"
   },
   "outputs": [
    {
     "data": {
      "image/png": "[encoded data removed]",
      "text/plain": [
       "<Figure size 432x288 with 1 Axes>"
      ]
     },
     "metadata": {
      "needs_background": "light"
     },
     "output_type": "display_data"
    }
   ],
   "source": [
    "#| echo: false\n",
    "import matplotlib.pyplot as plt\n",
    "plt.plot(range(10));"
   ]
  },
  {
   "cell_type": "markdown",
   "id": "d39c782c",
   "metadata": {
    "id": "d39c782c"
   },
   "source": [
    "## Approach\n",
    "\n",
    "What kind of a models did you use? What performance metric(s) did you optimize and why?\n",
    "\n",
    "Is there anything unorthodox / new in your approach? \n",
    "\n",
    "What problems did you anticipate? What problems did you encounter? \n",
    "\n",
    "Did your problem already have solution(s) (posted on Kaggle or elsewhere). If yes, then how did you build upon those solutions, what did you do differently? Is your model better as compared to those solutions in terms of prediction accuracy or your chosen metric?\n",
    "\n",
    "**Important: Mention any code repositories (with citations) or other sources that you used, and specifically what changes you made to them for your project.**"
   ]
  },
  {
   "cell_type": "markdown",
   "id": "acab331a",
   "metadata": {
    "id": "acab331a"
   },
   "source": [
    "## Developing the model: Hyperparameter tuning"
   ]
  },
  {
   "cell_type": "markdown",
   "id": "ae5ec4c9",
   "metadata": {
    "id": "ae5ec4c9"
   },
   "source": [
    "Every person must describe their hyperparameter tuning procedure. Show the grid of hyperparameter values over which the initial search was done *(you may paste your grid search / random search / any other search code)*, and the optimal hyperparameter values obtained. After getting the initial search results, how did you make decisions *(if any)* to further fine-tune your model. Did you do another grid / random search or did you tune hyperparameters sequentially? If you think you didn't need any fine tuning after the initial results, then mention that and explain why.\n",
    "\n",
    "Put each model in a section of its name and mention the name of the team-member tuning the model. Below is an example:"
   ]
  },
  {
   "cell_type": "markdown",
   "id": "ea422beb",
   "metadata": {
    "id": "ea422beb"
   },
   "source": [
    "### RandomForest & Adaboost\n",
    "*By Lilly Sorkin*"
   ]
  },
  {
   "cell_type": "markdown",
   "id": "16561e96",
   "metadata": {},
   "source": [
    "#### Random Forest\n",
    "I did an initial broad gridsearch, before adjusting my window and trying again. My last RandomForestClassifier grid:  \n",
    "`params = {'bootstrap': [True, False],\n",
    "          'n_estimators': [10, 300, 500, 1000],\n",
    "          'max_depth': [20, 25, 30, 35],\n",
    "          'max_leaf_nodes': [100, 500, 1000]}`\n",
    "\n",
    "My final RandomForestClassifier model, with parameters dictated by the above's results:  \n",
    "`model1 = RandomForestClassifier(random_state=45, bootstrap=False, n_estimators=500, max_leaf_nodes=500, max_depth=20, n_jobs=-1)\n",
    "model1.fit(X_train, y_train)`\n",
    "\n",
    "I then ran a cross_val_predict and accuracy/recall plot to find the optimal decision threshold for the model. The decision threshold I found best was 0.05.\n",
    "\n",
    "#### Adaptive Boosting\n",
    "I did an initial broad gridsearch, before adjusting my window and trying again. My last AdaBoostClassifier grid:  \n",
    "`params = {'base_estimator': [DecisionTreeClassifier(max_depth=7),\n",
    "                              DecisionTreeClassifier(max_depth=8),\n",
    "                              DecisionTreeClassifier(max_depth=9)],\n",
    "           'n_estimators': [5, 10, 15],\n",
    "           'learning_rate': [0.01, 0.02, 0.03, 0.04, 0.05]}`\n",
    "\n",
    "My final AdaBoostClassifier model, with parameters dictated by the above's results:  \n",
    "`model2 = AdaBoostClassifier(random_state=45, base_estimator=DecisionTreeClassifier(max_depth=8),  n_estimators=10, learning_rate=0.02)\n",
    "model2.fit(X_train, y_train)`\n",
    "\n",
    "I then ran a cross_val_predict and accuracy/recall plot to find the optimal decision threshold for the model. The decision threshold I found best was 0.005."
   ]
  },
  {
   "cell_type": "markdown",
   "id": "b78fbd0e",
   "metadata": {
    "id": "b78fbd0e"
   },
   "source": [
    "### MARS, AdaBoost & LightGBM\n",
    "*By Sankaranarayanan Balasubramanian*"
   ]
  },
  {
   "cell_type": "markdown",
   "id": "2916849c",
   "metadata": {
    "id": "2916849c"
   },
   "source": [
    "### Bagged trees & Random forest\n",
    "*By Fiona Fe*"
   ]
  },
  {
   "cell_type": "markdown",
   "id": "37f552ef",
   "metadata": {
    "id": "37f552ef"
   },
   "source": [
    "### XGBoost\n",
    "*By Ryu Kimiko*"
   ]
  },
  {
   "cell_type": "markdown",
   "id": "be2594f1",
   "metadata": {
    "id": "be2594f1"
   },
   "source": [
    "## Model Ensemble "
   ]
  },
  {
   "cell_type": "markdown",
   "id": "fa68b0a5",
   "metadata": {
    "id": "fa68b0a5"
   },
   "source": [
    "Put the results of enembling individual models. Feel free to add subsections in this section to add more innovative ensembling methods."
   ]
  },
  {
   "cell_type": "markdown",
   "id": "66c5924a",
   "metadata": {
    "id": "66c5924a"
   },
   "source": [
    "### Voting ensemble"
   ]
  },
  {
   "cell_type": "markdown",
   "id": "78a31cb2",
   "metadata": {
    "id": "78a31cb2"
   },
   "source": [
    "The simplest voting ensemble will be the model where all models have equal weights.\n",
    "\n",
    "You may come up with innovative methods of estimating weights of the individual models, such as based on their cross-val error. Sometimes, these methods may work better than stacking ensembles, as stacking ensembles tend to overfit."
   ]
  },
  {
   "cell_type": "markdown",
   "id": "bcff4cda",
   "metadata": {
    "id": "bcff4cda"
   },
   "source": [
    "### Stacking ensemble\n",
    "Try out different models as the metamodel. You may split work as follows. The person who worked on certain types of models *(say AdaBoost and MARS)* also uses those models as a metamodel in the stacking ensemble."
   ]
  },
  {
   "cell_type": "markdown",
   "id": "2b22a5f3",
   "metadata": {
    "id": "2b22a5f3"
   },
   "source": [
    "### Ensemble of ensembled models\n",
    "\n",
    "If you are creating multiple stacking ensembles *(based on different metamodels)*, you may ensemble them."
   ]
  },
  {
   "cell_type": "markdown",
   "id": "36fe5f5f",
   "metadata": {
    "id": "36fe5f5f"
   },
   "source": [
    "### Innovative ensembling methods\n",
    "*(Optional)*\n",
    "\n",
    "Some models may do better on certain subsets of the predictor space. You may find that out, and given a data point, choose the model(s) that will best predict for that data point. This is similar to the idea of developing a decision tree metamodel. However, decision tree is prone to overfitting.\n",
    "\n",
    "Another idea may be to correct the individual models with the intercept and slope *(note the tree-based models don't have an intercept and may suffer from a constant bias)*, and then ensemble them. This is equivalent to having a simple linear regression meta-model for each of the individual models, and then ensembling the meta-models with a meta-metamodel or a voting ensemble."
   ]
  },
  {
   "cell_type": "markdown",
   "id": "1b46343d",
   "metadata": {
    "id": "1b46343d"
   },
   "source": [
    "## Limitations of the model with regard to prediction"
   ]
  },
  {
   "cell_type": "markdown",
   "id": "c85ead90",
   "metadata": {
    "id": "c85ead90"
   },
   "source": [
    "Are you confident that you found the optimal hyperparameter values for each of your individual models, and that your individual models cannot be better tuned? Or, are there any models that could be better tuned if you had more time / resources, but you are limited by the amount of time you can spend on the course project *(equivalent to one assignment)*? If yes, then which models could be better tuned and how?\n",
    "\n",
    "Will it be possible / convenient / expensive for the stakeholders to collect the data relating to the predictors in the model. Using your model, how soon will the stakeholder be able to predict the outcome before the outcome occurs. For example, if the model predicts the number of bikes people will rent in Evanston on a certain day, then how many days before that day will your model be able to make the prediction. This will depend on how soon the data that your model uses becomes available. If you are predicting election results, how many days / weeks / months / years before the election can you predict the results. \n",
    "\n",
    "When will your model become too obsolete to be useful?"
   ]
  },
  {
   "cell_type": "markdown",
   "id": "f6026cb7",
   "metadata": {
    "id": "f6026cb7"
   },
   "source": [
    "## Other sections *(optional)*\n",
    "\n",
    "You are welcome to introduce additional sections or subsections, if required, to address any specific aspects of your project in detail. For example, you may briefly discuss potential future work that the research community could focus on to make further progress in the direction of your project's topic."
   ]
  },
  {
   "cell_type": "markdown",
   "id": "62a185cb",
   "metadata": {
    "id": "62a185cb"
   },
   "source": [
    "## Conclusions and Recommendations to stakeholder(s)\n",
    "\n",
    "What conclusions do you draw based on your model? You may draw conclusions based on prediction accuracy, or other performance metrics.\n",
    "\n",
    "How do you use those conclusions to come up with meaningful recommendations for stakeholders? The recommendations must be action-items for stakeholders that they can directly implement without any further analysis. Be as precise as possible. The stakeholder(s) are depending on you to come up with practically implementable recommendations, instead of having to think for themselves.\n",
    "\n",
    "If your recommendations are not practically implementable by stakeholders, how will they help them? Is there some additional data / analysis / domain expertise you need to do to make the recommendations implementable? \n",
    "\n",
    "Do the stakeholder(s) need to be aware about some limitations of your model? Is your model only good for one-time use, or is it possible to update your model at a certain frequency (based on recent data) to keep using it in the future? If it can be used in the future, then for how far into the future?"
   ]
  },
  {
   "cell_type": "markdown",
   "id": "0ca45613",
   "metadata": {
    "id": "0ca45613"
   },
   "source": [
    "Add details of each team member's contribution, other than the models contributed, in the table below."
   ]
  },
  {
   "cell_type": "markdown",
   "id": "5505da5c",
   "metadata": {
    "id": "5505da5c"
   },
   "source": [
    "<html>\n",
    "<style>\n",
    "table, td, th {\n",
    "  border: 1px solid black;\n",
    "}\n",
    "\n",
    "table {\n",
    "  border-collapse: collapse;\n",
    "  width: 100%;\n",
    "}\n",
    "\n",
    "th {\n",
    "  text-align: left;\n",
    "}\n",
    "    \n",
    "\n",
    "</style>\n",
    "<body>\n",
    "\n",
    "<h2>Individual contribution</h2>\n",
    "\n",
    "<table style=\"width:100%\">\n",
    "     <colgroup>\n",
    "       <col span=\"1\" style=\"width: 15%;\">\n",
    "       <col span=\"1\" style=\"width: 20%;\">\n",
    "       <col span=\"1\" style=\"width: 25%;\">\n",
    "       <col span=\"1\" style=\"width: 40%;\">\n",
    "    </colgroup>\n",
    "  <tr>\n",
    "    <th>Team member</th>\n",
    "    <th>Individual Model</th>\n",
    "    <th>Work other than individual model</th>    \n",
    "    <th>Details of work other than individual model</th>\n",
    "  </tr>\n",
    "  <tr>\n",
    "    <td>Sylvia Sherwood</td>\n",
    "    <td>Lasso, Ridge & Catboost</td>\n",
    "    <td>Data cleaning and EDA</td>    \n",
    "    <td>Imputed missing values and visualized data</td>\n",
    "  </tr>\n",
    "  <tr>\n",
    "    <td>Sankaranarayanan Balasubramanian</td>\n",
    "    <td>MARS, AdaBoost & LightGBM</td>\n",
    "    <td>Ensembling</td>    \n",
    "    <td>Stacking ensembles and voting ensemble</td>\n",
    "  </tr>\n",
    "    <tr>\n",
    "    <td>Fiona Fe</td>\n",
    "    <td>Bagged trees & Random forest</td>\n",
    "    <td>Variable selection</td>    \n",
    "    <td>Variable selection based on feature importance</td>\n",
    "  </tr>\n",
    "    <tr>\n",
    "    <td>Ryu Kimiko</td>\n",
    "    <td>XGBoost</td>\n",
    "    <td>Ensembling</td>    \n",
    "    <td>Innovative ensemble & stacking ensemble</td> \n",
    "  </tr>\n",
    "</table>"
   ]
  },
  {
   "cell_type": "markdown",
   "id": "00b1cafe",
   "metadata": {
    "id": "00b1cafe"
   },
   "source": [
    "## References {-}"
   ]
  },
  {
   "cell_type": "markdown",
   "id": "ebdb1aad",
   "metadata": {
    "id": "ebdb1aad"
   },
   "source": [
    "List and number all bibliographical references. When referenced in the text, enclose the citation number in square brackets, for example [1].\n",
    "\n",
    "[1] Authors. The frobnicatable foo filter, 2014. Face and Gesture submission ID 324. Supplied as additional material\n",
    "fg324.pdf. 3\n"
   ]
  },
  {
   "cell_type": "markdown",
   "id": "5831751c",
   "metadata": {
    "id": "5831751c"
   },
   "source": [
    "## Appendix {-}"
   ]
  },
  {
   "cell_type": "markdown",
   "id": "d13d374d",
   "metadata": {
    "id": "d13d374d"
   },
   "source": [
    "You may put additional stuff here as Appendix. You may refer to the Appendix in the main report to support your arguments. However, the appendix section is unlikely to be checked while grading, unless the grader deems it necessary."
   ]
  }
 ],
 "metadata": {
  "colab": {
   "provenance": []
  },
  "kernelspec": {
   "display_name": "Python 3 (ipykernel)",
   "language": "python",
   "name": "python3"
  },
  "language_info": {
   "codemirror_mode": {
    "name": "ipython",
    "version": 3
   },
   "file_extension": ".py",
   "mimetype": "text/x-python",
   "name": "python",
   "nbconvert_exporter": "python",
   "pygments_lexer": "ipython3",
   "version": "3.9.12"
  }
 },
 "nbformat": 4,
 "nbformat_minor": 5
}
