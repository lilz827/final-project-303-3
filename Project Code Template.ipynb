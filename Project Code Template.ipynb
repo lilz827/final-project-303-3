{
  "cells": [
    {
      "cell_type": "markdown",
      "metadata": {
        "id": "view-in-github",
        "colab_type": "text"
      },
      "source": [
        "<a href=\"https://colab.research.google.com/github/lilz827/final-project-303-3/blob/main/Project%20Code%20Template.ipynb\" target=\"_parent\"><img src=\"https://colab.research.google.com/assets/colab-badge.svg\" alt=\"Open In Colab\"/></a>"
      ]
    },
    {
      "cell_type": "raw",
      "id": "33dd6c4c",
      "metadata": {
        "id": "33dd6c4c"
      },
      "source": [
        "---\n",
        "title: \"Project Code\"\n",
        "subtitle: Team name\n",
        "author: Author 1, Author 2, Author 3, and Author 4 \n",
        "date: 05/23/2023\n",
        "number-sections: true\n",
        "abstract: _This file contains the code for the project on <>, as part of the STAT303-3 course in Spring 2023_.\n",
        "format: \n",
        "  html:\n",
        "    toc: true\n",
        "    toc-title: Contents\n",
        "    self-contained: true\n",
        "    font-size: 100%\n",
        "    toc-depth: 4\n",
        "    mainfont: serif\n",
        "jupyter: python3\n",
        "---"
      ]
    },
    {
      "cell_type": "markdown",
      "id": "aba5ee91",
      "metadata": {
        "id": "aba5ee91"
      },
      "source": [
        "## Length of the code {-}\n",
        "No restriction\n",
        "\n",
        "**Delete this section from the report, when using this template.** "
      ]
    },
    {
      "cell_type": "markdown",
      "id": "fe7ea9bb",
      "metadata": {
        "id": "fe7ea9bb"
      },
      "source": [
        "## Data quality check / cleaning / preparation \n",
        "\n",
        "Put code with comments. The comments should explain the code such that it can be easily understood. You may put text *(in a markdown cell)* before a large chunk of code to explain the overall purpose of the code, if it is not intuitive. **Put the name of the person / persons who contributed to each code chunk / set of code chunks.** An example is given below."
      ]
    },
    {
      "cell_type": "markdown",
      "id": "371a5a4a",
      "metadata": {
        "id": "371a5a4a"
      },
      "source": [
        "### Distribution of response\n",
        "*By Sylvia Sherwood*"
      ]
    },
    {
      "cell_type": "code",
      "execution_count": null,
      "id": "b868f6b5",
      "metadata": {
        "id": "b868f6b5"
      },
      "outputs": [],
      "source": [
        "#...Plot for distribution of response...#\n",
        "\n",
        "# Mean and standard deviation of response #"
      ]
    },
    {
      "cell_type": "markdown",
      "id": "ff6b5e83",
      "metadata": {
        "id": "ff6b5e83"
      },
      "source": [
        "### Data cleaning\n",
        "*By Sankaranarayanan Balasubramanian & Fiona Fe*"
      ]
    },
    {
      "cell_type": "code",
      "execution_count": null,
      "id": "25ddf4d3",
      "metadata": {
        "id": "25ddf4d3"
      },
      "outputs": [],
      "source": [
        "#...Code with comments...#\n",
        "\n",
        "# Imputing missing values #"
      ]
    },
    {
      "cell_type": "markdown",
      "id": "424479b5",
      "metadata": {
        "id": "424479b5"
      },
      "source": [
        "### Data preparation\n",
        "*By Ryu Kimiko*\n",
        "\n",
        "The following data preparation steps helped us to prepare our data for implementing various modeling / validation techniques:\n",
        "\n",
        "1. Since we need to predict house price, we derived some new predictors *(from existing predictors)* that intuitively seem to be helpuful to predict house price. \n",
        "\n",
        "2. We have created a standardized version of the dataset, as we will use it to develop Lasso / Ridge regression models."
      ]
    },
    {
      "cell_type": "code",
      "execution_count": null,
      "id": "bde6859d",
      "metadata": {
        "id": "bde6859d"
      },
      "outputs": [],
      "source": [
        "######---------------Creating new predictors----------------#########\n",
        "\n",
        "#Creating number of bedrooms per unit floor area\n",
        "\n",
        "#Creating ratio of bathrooms to bedrooms\n",
        "\n",
        "#Creating ratio of carpet area to floor area"
      ]
    },
    {
      "cell_type": "code",
      "execution_count": null,
      "id": "edf0986d",
      "metadata": {
        "id": "edf0986d"
      },
      "outputs": [],
      "source": [
        "######-----Standardizing the dataset for Lasso / Ridge-------#########"
      ]
    },
    {
      "cell_type": "markdown",
      "id": "fbb11c9b",
      "metadata": {
        "id": "fbb11c9b"
      },
      "source": [
        "## Exploratory data analysis"
      ]
    },
    {
      "cell_type": "markdown",
      "id": "e4bd74a9",
      "metadata": {
        "id": "e4bd74a9"
      },
      "source": [
        "Put code with comments. The comments should explain the code such that it can be easily understood. You may put text *(in a markdown cell)* before a large chunk of code to explain the overall purpose of the code, if it is not intuitive. **Put the name of the person / persons who contributed to each code chunk / set of code chunks.**"
      ]
    },
    {
      "cell_type": "markdown",
      "id": "acab331a",
      "metadata": {
        "id": "acab331a"
      },
      "source": [
        "## Developing the model: Hyperparameter tuning"
      ]
    },
    {
      "cell_type": "markdown",
      "id": "ae5ec4c9",
      "metadata": {
        "id": "ae5ec4c9"
      },
      "source": [
        "Put code with comments. The comments should explain the code such that it can be easily understood. You may put text *(in a markdown cell)* before a large chunk of code to explain the overall purpose of the code, if it is not intuitive. **Put the name of the person / persons who contributed to each code chunk / set of code chunks.**\n",
        "\n",
        "Put each model in a section of its name and mention the name of the team-member tuning the model. Below is an example:"
      ]
    },
    {
      "cell_type": "markdown",
      "id": "21bc9dcc",
      "metadata": {
        "id": "21bc9dcc"
      },
      "source": [
        "### RandomForest & AdaBoost\n",
        "*By Lilly Sorkin*"
      ]
    },
    {
      "cell_type": "code",
      "source": [
        "import pandas as pd\n",
        "import numpy as np\n",
        "import seaborn as sns\n",
        "import matplotlib.pyplot as plt\n",
        "from sklearn.model_selection import cross_val_score, cross_val_predict\n",
        "from sklearn.model_selection import KFold, train_test_split\n",
        "from sklearn.preprocessing import StandardScaler\n",
        "from sklearn.tree import DecisionTreeClassifier\n",
        "from sklearn.model_selection import GridSearchCV, ParameterGrid\n",
        "from sklearn.ensemble import BaggingClassifier, RandomForestClassifier, AdaBoostClassifier, GradientBoostingClassifier\n",
        "from sklearn.neighbors import KNeighborsClassifier\n",
        "from sklearn.metrics import accuracy_score, recall_score, precision_recall_curve\n",
        "\n",
        "data = pd.read_csv('stats_unique_no_missing.csv')\n",
        "cols = list(data.columns)\n",
        "categorical_cols = []\n",
        "numerical_cols = []\n",
        "for item in cols:\n",
        "    if data[item].dtype == object:\n",
        "        categorical_cols.append(item)\n",
        "    else:\n",
        "        numerical_cols.append(item)\n",
        "data = data.set_index('player_name')\n",
        "data = data.drop(['Unnamed: 64', 'Unnamed: 65', 'rimmade+rimmiss', 'midmade+midmiss',\n",
        "       'dunksmiss+dunksmade', 'num', 'type'], axis=1)\n",
        "data_dummies = pd.get_dummies(data)\n",
        "y = data_dummies.drafted\n",
        "X = data_dummies.drop('drafted', axis=1)\n",
        "X_train, X_test, y_train, y_test = train_test_split(X, y, test_size=0.4, random_state=45, stratify=y)"
      ],
      "metadata": {
        "id": "YcnXCorunXvl"
      },
      "id": "YcnXCorunXvl",
      "execution_count": 1,
      "outputs": []
    },
    {
      "cell_type": "code",
      "source": [
        "# RandomForest hyperparameter selection\n",
        "params = {'bootstrap': [True, False],\n",
        "          'n_estimators': [10, 300, 500, 1000],\n",
        "          'max_depth': [25, 30, 35],\n",
        "          'max_leaf_nodes': [100, 500, 1000]}\n",
        "\n",
        "model_group = GridSearchCV(RandomForestClassifier(random_state=45, n_jobs=-1),\n",
        "                           params, scoring='recall',\n",
        "                           cv=3, n_jobs=-1, verbose=1)\n",
        "\n",
        "model_group.fit(X_train, y_train)\n",
        "print(model_group.best_score_, model_group.best_params_)"
      ],
      "metadata": {
        "colab": {
          "base_uri": "https://localhost:8080/"
        },
        "id": "V8vCCg5DnsnI",
        "outputId": "194fb7f0-e379-4551-a330-ca378ff1e9ac"
      },
      "id": "V8vCCg5DnsnI",
      "execution_count": 2,
      "outputs": [
        {
          "output_type": "stream",
          "name": "stdout",
          "text": [
            "Fitting 3 folds for each of 72 candidates, totalling 216 fits\n",
            "0.18856339055958826 {'bootstrap': False, 'max_depth': 25, 'max_leaf_nodes': 1000, 'n_estimators': 500}\n"
          ]
        }
      ]
    },
    {
      "cell_type": "code",
      "source": [
        "# RandomForest final model\n",
        "model1 = RandomForestClassifier(random_state=45, bootstrap=False,\n",
        "                               n_estimators=500, max_leaf_nodes=1000,\n",
        "                               max_depth=25, n_jobs=-1)\n",
        "model1.fit(X_train, y_train)\n",
        "\n",
        "cross_val_ypred = cross_val_predict(model1, X_train, y_train, cv = 5, method = 'predict_proba')\n",
        "p, r, thresholds = precision_recall_curve(y_train, cross_val_ypred[:,1])\n",
        "accuracys = []\n",
        "for threshold in thresholds:\n",
        "    ypred = cross_val_ypred[:,1] > threshold\n",
        "    ypred = ypred.astype(int)\n",
        "    accuracy = accuracy_score(ypred, y_train)\n",
        "    accuracys.append(accuracy)\n",
        "accuracys = np.array(accuracys)     \n",
        "\n",
        "def plot_accuracy_recall_vs_threshold(recalls, precisions, thresholds):\n",
        "    plt.figure(figsize=(8, 8))\n",
        "    plt.figure(facecolor='white')\n",
        "    plt.title(\"Accuracy, Precision, and Recall Scores as a function of the decision threshold\")\n",
        "    plt.plot(thresholds, accuracys, \"-\", color=\"#00517c\", label=\"Accuracy\")\n",
        "    plt.plot(thresholds, recalls[:-1], \"-\", color=\"#8bc34a\", label=\"Recall\")\n",
        "    plt.plot(thresholds, precisions[:-1], \"-\", color=\"#039be5\", label=\"Precision\")\n",
        "    plt.plot(thresholds, accuracys, \"o\", color=\"#00517c\")\n",
        "    plt.plot(thresholds, recalls[:-1], \"o\", color=\"#8bc34a\")\n",
        "    plt.plot(thresholds, precisions[:-1], \"o\", color=\"#039be5\")\n",
        "    plt.ylabel(\"Score\")\n",
        "    plt.xlabel(\"Decision Threshold\")\n",
        "    plt.legend(loc='best')\n",
        "    plt.legend()\n",
        "plot_accuracy_recall_vs_threshold(r, p, thresholds)"
      ],
      "metadata": {
        "colab": {
          "base_uri": "https://localhost:8080/",
          "height": 490
        },
        "id": "K-8H1-jwqAeK",
        "outputId": "0ee5cde6-0794-41ce-b2e5-c6fd5748e769"
      },
      "id": "K-8H1-jwqAeK",
      "execution_count": 3,
      "outputs": [
        {
          "output_type": "display_data",
          "data": {
            "text/plain": [
              "<Figure size 800x800 with 0 Axes>"
            ]
          },
          "metadata": {}
        },
        {
          "output_type": "display_data",
          "data": {
            "text/plain": [
              "<Figure size 640x480 with 1 Axes>"
            ],
            "image/png": "[encoded data removed]"
          },
          "metadata": {}
        }
      ]
    },
    {
      "cell_type": "code",
      "source": [
        "# RandomForest decision threshold and results\n",
        "desired_threshold = 0.05\n",
        "\n",
        "ypred_prob_train = model1.predict_proba(X_train)[:,1] \n",
        "ypred_train = ypred_prob_train > desired_threshold\n",
        "ypred_train = ypred_train.astype(int)\n",
        "\n",
        "ypred_prob_test = model1.predict_proba(X_test)[:,1] \n",
        "ypred_test = ypred_prob_test > desired_threshold\n",
        "ypred_test = ypred_test.astype(int)\n",
        "\n",
        "print(\"Train Accuracy: \", accuracy_score(y_train, ypred_train))\n",
        "print(\"Train Recall: \", recall_score(y_train, ypred_train))\n",
        "print(\"Test Accuracy: \", accuracy_score(y_test, ypred_test))\n",
        "print(\"Test Recall: \", recall_score(y_test, ypred_test))"
      ],
      "metadata": {
        "colab": {
          "base_uri": "https://localhost:8080/"
        },
        "id": "8T2HPGh5qHfy",
        "outputId": "11b0fb5b-7359-475c-e8b1-3a7cf76a48fc"
      },
      "id": "8T2HPGh5qHfy",
      "execution_count": 7,
      "outputs": [
        {
          "output_type": "stream",
          "name": "stdout",
          "text": [
            "Train Accuracy:  1.0\n",
            "Train Recall:  1.0\n",
            "Test Accuracy:  0.8984964235317017\n",
            "Test Recall:  0.8045540796963947\n"
          ]
        }
      ]
    },
    {
      "cell_type": "code",
      "source": [
        "# AdaBoost hyperparameter selection\n",
        "params = {'estimator': [DecisionTreeClassifier(max_depth=10),\n",
        "                            DecisionTreeClassifier(max_depth=11),\n",
        "                            DecisionTreeClassifier(max_depth=12)],\n",
        "          'n_estimators': [5, 10, 50, 100],\n",
        "          'learning_rate': [0.01, 0.02, 0.05]}\n",
        "\n",
        "model_group = GridSearchCV(AdaBoostClassifier(random_state=45),\n",
        "                           params, scoring='recall',\n",
        "                           cv=3, n_jobs=-1, verbose=1)\n",
        "\n",
        "model_group.fit(X_train, y_train)\n",
        "print(model_group.best_score_, model_group.best_params_)"
      ],
      "metadata": {
        "colab": {
          "base_uri": "https://localhost:8080/"
        },
        "id": "Be0Irv9Cq9Mz",
        "outputId": "2b797278-2e3d-4bec-be01-4ab7974b27e2"
      },
      "id": "Be0Irv9Cq9Mz",
      "execution_count": 10,
      "outputs": [
        {
          "output_type": "stream",
          "name": "stdout",
          "text": [
            "Fitting 3 folds for each of 36 candidates, totalling 108 fits\n",
            "0.3911837001190614 {'estimator': DecisionTreeClassifier(max_depth=11), 'learning_rate': 0.05, 'n_estimators': 10}\n"
          ]
        }
      ]
    },
    {
      "cell_type": "code",
      "source": [
        "# AdaBoost final model\n",
        "model2 = AdaBoostClassifier(random_state=45, estimator=DecisionTreeClassifier(max_depth=11),\n",
        "                            n_estimators=10, learning_rate=0.05)\n",
        "model2.fit(X_train, y_train)\n",
        "\n",
        "cross_val_ypred = cross_val_predict(model2, X_train, y_train, cv = 5, method = 'predict_proba')\n",
        "p, r, thresholds = precision_recall_curve(y_train, cross_val_ypred[:,1])\n",
        "accuracys = []\n",
        "for threshold in thresholds:\n",
        "    ypred = cross_val_ypred[:,1] > threshold\n",
        "    ypred = ypred.astype(int)\n",
        "    accuracy = accuracy_score(ypred, y_train)\n",
        "    accuracys.append(accuracy)\n",
        "accuracys = np.array(accuracys)     \n",
        "\n",
        "def plot_accuracy_recall_vs_threshold(recalls, precisions, thresholds):\n",
        "    plt.figure(figsize=(8, 8))\n",
        "    plt.figure(facecolor='white')\n",
        "    plt.title(\"Accuracy, Precision, and Recall Scores as a function of the decision threshold\")\n",
        "    plt.plot(thresholds, accuracys, \"-\", color=\"#00517c\", label=\"Accuracy\")\n",
        "    plt.plot(thresholds, recalls[:-1], \"-\", color=\"#8bc34a\", label=\"Recall\")\n",
        "    plt.plot(thresholds, precisions[:-1], \"-\", color=\"#039be5\", label=\"Precision\")\n",
        "    plt.plot(thresholds, accuracys, \"o\", color=\"#00517c\")\n",
        "    plt.plot(thresholds, recalls[:-1], \"o\", color=\"#8bc34a\")\n",
        "    plt.plot(thresholds, precisions[:-1], \"o\", color=\"#039be5\")\n",
        "    plt.ylabel(\"Score\")\n",
        "    plt.xlabel(\"Decision Threshold\")\n",
        "    plt.legend(loc='best')\n",
        "    plt.legend()\n",
        "plot_accuracy_recall_vs_threshold(r, p, thresholds)"
      ],
      "metadata": {
        "colab": {
          "base_uri": "https://localhost:8080/",
          "height": 490
        },
        "id": "id1Sv4PUrFZw",
        "outputId": "6c935697-ecb5-442e-fa45-8139069268ca"
      },
      "id": "id1Sv4PUrFZw",
      "execution_count": 11,
      "outputs": [
        {
          "output_type": "display_data",
          "data": {
            "text/plain": [
              "<Figure size 800x800 with 0 Axes>"
            ]
          },
          "metadata": {}
        },
        {
          "output_type": "display_data",
          "data": {
            "text/plain": [
              "<Figure size 640x480 with 1 Axes>"
            ],
            "image/png": "[encoded data removed]"
          },
          "metadata": {}
        }
      ]
    },
    {
      "cell_type": "code",
      "source": [
        "# AdaBoost decision threshold and results\n",
        "desired_threshold = 0.01\n",
        "\n",
        "ypred_prob_train = model2.predict_proba(X_train)[:,1] \n",
        "ypred_train = ypred_prob_train > desired_threshold\n",
        "ypred_train = ypred_train.astype(int)\n",
        "\n",
        "ypred_prob_test = model2.predict_proba(X_test)[:,1] \n",
        "ypred_test = ypred_prob_test > desired_threshold\n",
        "ypred_test = ypred_test.astype(int)\n",
        "\n",
        "print(\"Train Accuracy: \", accuracy_score(y_train, ypred_train))\n",
        "print(\"Train Recall: \", recall_score(y_train, ypred_train))\n",
        "print(\"Test Accuracy: \", accuracy_score(y_test, ypred_test))\n",
        "print(\"Test Recall: \", recall_score(y_test, ypred_test))"
      ],
      "metadata": {
        "colab": {
          "base_uri": "https://localhost:8080/"
        },
        "id": "XGuBOWzhrUFZ",
        "outputId": "d20b2ba3-ddf6-462c-ae88-404a9ec087d5"
      },
      "id": "XGuBOWzhrUFZ",
      "execution_count": 17,
      "outputs": [
        {
          "output_type": "stream",
          "name": "stdout",
          "text": [
            "Train Accuracy:  0.8948580697485807\n",
            "Train Recall:  1.0\n",
            "Test Accuracy:  0.865262031044718\n",
            "Test Recall:  0.6318785578747628\n"
          ]
        }
      ]
    },
    {
      "cell_type": "markdown",
      "id": "a67c9ff7",
      "metadata": {
        "id": "a67c9ff7"
      },
      "source": [
        "### MARS, AdaBoost & LightGBM\n",
        "*By Sankaranarayanan Balasubramanian*"
      ]
    },
    {
      "cell_type": "markdown",
      "id": "017ca069",
      "metadata": {
        "id": "017ca069"
      },
      "source": [
        "### Bagged trees & Random forest\n",
        "*By Fiona Fe*"
      ]
    },
    {
      "cell_type": "markdown",
      "id": "8182968b",
      "metadata": {
        "id": "8182968b"
      },
      "source": [
        "### XGBoost\n",
        "*By Ryu Kimiko*"
      ]
    },
    {
      "cell_type": "markdown",
      "id": "a221dcc6",
      "metadata": {
        "id": "a221dcc6"
      },
      "source": [
        "## Model Ensemble "
      ]
    },
    {
      "cell_type": "markdown",
      "id": "9dc8b3d9",
      "metadata": {
        "id": "9dc8b3d9"
      },
      "source": [
        "Put code with comments. The comments should explain the code such that it can be easily understood. You may put text *(in a markdown cell)* before a large chunk of code to explain the overall purpose of the code, if it is not intuitive. **Put the name of the person / persons who contributed to each code chunk / set of code chunks.**\n"
      ]
    },
    {
      "cell_type": "markdown",
      "id": "961bcb1d",
      "metadata": {
        "id": "961bcb1d"
      },
      "source": [
        "### Voting ensemble"
      ]
    },
    {
      "cell_type": "markdown",
      "id": "ca651ba0",
      "metadata": {
        "id": "ca651ba0"
      },
      "source": [
        "### Stacking ensemble(s)"
      ]
    },
    {
      "cell_type": "markdown",
      "id": "ddff3adf",
      "metadata": {
        "id": "ddff3adf"
      },
      "source": [
        "### Ensemble of ensembled models"
      ]
    },
    {
      "cell_type": "markdown",
      "id": "3668faab",
      "metadata": {
        "id": "3668faab"
      },
      "source": [
        "### Innovative ensembling methods\n",
        "*(Optional)*"
      ]
    },
    {
      "cell_type": "markdown",
      "id": "62a185cb",
      "metadata": {
        "id": "62a185cb"
      },
      "source": [
        "## Conclusions and Recommendations to stakeholder(s)\n",
        "\n",
        "You may or may not have code to put in this section. Delete this section if it is irrelevant."
      ]
    }
  ],
  "metadata": {
    "kernelspec": {
      "display_name": "Python 3",
      "language": "python",
      "name": "python3"
    },
    "language_info": {
      "codemirror_mode": {
        "name": "ipython",
        "version": 3
      },
      "file_extension": ".py",
      "mimetype": "text/x-python",
      "name": "python",
      "nbconvert_exporter": "python",
      "pygments_lexer": "ipython3",
      "version": "3.8.8"
    },
    "colab": {
      "provenance": [],
      "include_colab_link": true
    }
  },
  "nbformat": 4,
  "nbformat_minor": 5
}