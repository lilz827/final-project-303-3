{
  "cells": [
    {
      "cell_type": "markdown",
      "metadata": {
        "id": "view-in-github",
        "colab_type": "text"
      },
      "source": [
        "<a href=\"https://colab.research.google.com/github/lilz827/final-project-303-3/blob/main/Model_Work.ipynb\" target=\"_parent\"><img src=\"https://colab.research.google.com/assets/colab-badge.svg\" alt=\"Open In Colab\"/></a>"
      ]
    },
    {
      "cell_type": "code",
      "execution_count": 1,
      "metadata": {
        "id": "SIvVdiwS-6uX"
      },
      "outputs": [],
      "source": [
        "import pandas as pd\n",
        "import numpy as np\n",
        "import seaborn as sns\n",
        "import matplotlib.pyplot as plt\n",
        "from sklearn.model_selection import cross_val_score, cross_val_predict\n",
        "from sklearn.model_selection import KFold, train_test_split\n",
        "from sklearn.preprocessing import StandardScaler\n",
        "from sklearn.tree import DecisionTreeClassifier\n",
        "from sklearn.model_selection import GridSearchCV, ParameterGrid\n",
        "from sklearn.ensemble import BaggingClassifier, RandomForestClassifier, AdaBoostClassifier, GradientBoostingClassifier\n",
        "from sklearn.neighbors import KNeighborsClassifier\n",
        "from sklearn.metrics import accuracy_score, recall_score, precision_recall_curve"
      ]
    },
    {
      "cell_type": "code",
      "execution_count": 2,
      "metadata": {
        "colab": {
          "base_uri": "https://localhost:8080/",
          "height": 352
        },
        "id": "sg2h9NJX_Q3R",
        "outputId": "51e36dfa-6462-4c17-83db-d47283ed5d89"
      },
      "outputs": [
        {
          "output_type": "execute_result",
          "data": {
            "text/plain": [
              "   Unnamed: 0    player_name               team  conf  GP  Min_per   Ortg  \\\n",
              "0        4589  Pooh Williams           Utah St.   WAC  32     64.0  108.3   \n",
              "1        4590   Nick Rodgers             Butler  Horz  11      1.0  121.1   \n",
              "2        4591     Dana Smith           Longwood   ind  27     81.8   99.8   \n",
              "3        4594  Carlos Strong  Boston University    AE  35     76.2  118.1   \n",
              "4        4595  Sherrod Smith  Boston University    AE  29      9.5   60.7   \n",
              "\n",
              "    usg   eFG  TS_per  ...    oreb    dreb    treb     ast     stl     blk  \\\n",
              "0  18.1  53.0   53.33  ...  0.4688  1.3750  1.8438  2.1875  0.5938  0.2188   \n",
              "1  16.8  75.0   75.00  ...  0.0000  0.0000  0.0000  0.0909  0.0000  0.0000   \n",
              "2  27.7  49.9   53.76  ...  2.1481  4.9259  7.0741  2.4074  0.8148  0.4815   \n",
              "3  16.4  58.8   60.93  ...  1.3429  3.2286  4.5714  1.8000  1.6571  0.4000   \n",
              "4   6.9   8.3   14.93  ...  0.1379  0.5862  0.7241  0.2069  0.1034  0.0345   \n",
              "\n",
              "       pts  Unnamed: 64  Unnamed: 65  drafted  \n",
              "0   8.7812      Combo G     7.300850      0.0  \n",
              "1   0.5455      Pure PG    12.267400      0.0  \n",
              "2  17.5556       Wing F     5.581250      0.0  \n",
              "3  10.8571      Combo G     6.583070      0.0  \n",
              "4   0.1724       Wing G     0.844851      0.0  \n",
              "\n",
              "[5 rows x 63 columns]"
            ],
            "text/html": [
              "\n",
              "  <div id=\"df-07a0cf82-48a5-44f2-97c1-edab03a78504\">\n",
              "    <div class=\"colab-df-container\">\n",
              "      <div>\n",
              "<style scoped>\n",
              "    .dataframe tbody tr th:only-of-type {\n",
              "        vertical-align: middle;\n",
              "    }\n",
              "\n",
              "    .dataframe tbody tr th {\n",
              "        vertical-align: top;\n",
              "    }\n",
              "\n",
              "    .dataframe thead th {\n",
              "        text-align: right;\n",
              "    }\n",
              "</style>\n",
              "<table border=\"1\" class=\"dataframe\">\n",
              "  <thead>\n",
              "    <tr style=\"text-align: right;\">\n",
              "      <th></th>\n",
              "      <th>Unnamed: 0</th>\n",
              "      <th>player_name</th>\n",
              "      <th>team</th>\n",
              "      <th>conf</th>\n",
              "      <th>GP</th>\n",
              "      <th>Min_per</th>\n",
              "      <th>Ortg</th>\n",
              "      <th>usg</th>\n",
              "      <th>eFG</th>\n",
              "      <th>TS_per</th>\n",
              "      <th>...</th>\n",
              "      <th>oreb</th>\n",
              "      <th>dreb</th>\n",
              "      <th>treb</th>\n",
              "      <th>ast</th>\n",
              "      <th>stl</th>\n",
              "      <th>blk</th>\n",
              "      <th>pts</th>\n",
              "      <th>Unnamed: 64</th>\n",
              "      <th>Unnamed: 65</th>\n",
              "      <th>drafted</th>\n",
              "    </tr>\n",
              "  </thead>\n",
              "  <tbody>\n",
              "    <tr>\n",
              "      <th>0</th>\n",
              "      <td>4589</td>\n",
              "      <td>Pooh Williams</td>\n",
              "      <td>Utah St.</td>\n",
              "      <td>WAC</td>\n",
              "      <td>32</td>\n",
              "      <td>64.0</td>\n",
              "      <td>108.3</td>\n",
              "      <td>18.1</td>\n",
              "      <td>53.0</td>\n",
              "      <td>53.33</td>\n",
              "      <td>...</td>\n",
              "      <td>0.4688</td>\n",
              "      <td>1.3750</td>\n",
              "      <td>1.8438</td>\n",
              "      <td>2.1875</td>\n",
              "      <td>0.5938</td>\n",
              "      <td>0.2188</td>\n",
              "      <td>8.7812</td>\n",
              "      <td>Combo G</td>\n",
              "      <td>7.300850</td>\n",
              "      <td>0.0</td>\n",
              "    </tr>\n",
              "    <tr>\n",
              "      <th>1</th>\n",
              "      <td>4590</td>\n",
              "      <td>Nick Rodgers</td>\n",
              "      <td>Butler</td>\n",
              "      <td>Horz</td>\n",
              "      <td>11</td>\n",
              "      <td>1.0</td>\n",
              "      <td>121.1</td>\n",
              "      <td>16.8</td>\n",
              "      <td>75.0</td>\n",
              "      <td>75.00</td>\n",
              "      <td>...</td>\n",
              "      <td>0.0000</td>\n",
              "      <td>0.0000</td>\n",
              "      <td>0.0000</td>\n",
              "      <td>0.0909</td>\n",
              "      <td>0.0000</td>\n",
              "      <td>0.0000</td>\n",
              "      <td>0.5455</td>\n",
              "      <td>Pure PG</td>\n",
              "      <td>12.267400</td>\n",
              "      <td>0.0</td>\n",
              "    </tr>\n",
              "    <tr>\n",
              "      <th>2</th>\n",
              "      <td>4591</td>\n",
              "      <td>Dana Smith</td>\n",
              "      <td>Longwood</td>\n",
              "      <td>ind</td>\n",
              "      <td>27</td>\n",
              "      <td>81.8</td>\n",
              "      <td>99.8</td>\n",
              "      <td>27.7</td>\n",
              "      <td>49.9</td>\n",
              "      <td>53.76</td>\n",
              "      <td>...</td>\n",
              "      <td>2.1481</td>\n",
              "      <td>4.9259</td>\n",
              "      <td>7.0741</td>\n",
              "      <td>2.4074</td>\n",
              "      <td>0.8148</td>\n",
              "      <td>0.4815</td>\n",
              "      <td>17.5556</td>\n",
              "      <td>Wing F</td>\n",
              "      <td>5.581250</td>\n",
              "      <td>0.0</td>\n",
              "    </tr>\n",
              "    <tr>\n",
              "      <th>3</th>\n",
              "      <td>4594</td>\n",
              "      <td>Carlos Strong</td>\n",
              "      <td>Boston University</td>\n",
              "      <td>AE</td>\n",
              "      <td>35</td>\n",
              "      <td>76.2</td>\n",
              "      <td>118.1</td>\n",
              "      <td>16.4</td>\n",
              "      <td>58.8</td>\n",
              "      <td>60.93</td>\n",
              "      <td>...</td>\n",
              "      <td>1.3429</td>\n",
              "      <td>3.2286</td>\n",
              "      <td>4.5714</td>\n",
              "      <td>1.8000</td>\n",
              "      <td>1.6571</td>\n",
              "      <td>0.4000</td>\n",
              "      <td>10.8571</td>\n",
              "      <td>Combo G</td>\n",
              "      <td>6.583070</td>\n",
              "      <td>0.0</td>\n",
              "    </tr>\n",
              "    <tr>\n",
              "      <th>4</th>\n",
              "      <td>4595</td>\n",
              "      <td>Sherrod Smith</td>\n",
              "      <td>Boston University</td>\n",
              "      <td>AE</td>\n",
              "      <td>29</td>\n",
              "      <td>9.5</td>\n",
              "      <td>60.7</td>\n",
              "      <td>6.9</td>\n",
              "      <td>8.3</td>\n",
              "      <td>14.93</td>\n",
              "      <td>...</td>\n",
              "      <td>0.1379</td>\n",
              "      <td>0.5862</td>\n",
              "      <td>0.7241</td>\n",
              "      <td>0.2069</td>\n",
              "      <td>0.1034</td>\n",
              "      <td>0.0345</td>\n",
              "      <td>0.1724</td>\n",
              "      <td>Wing G</td>\n",
              "      <td>0.844851</td>\n",
              "      <td>0.0</td>\n",
              "    </tr>\n",
              "  </tbody>\n",
              "</table>\n",
              "<p>5 rows × 63 columns</p>\n",
              "</div>\n",
              "      <button class=\"colab-df-convert\" onclick=\"convertToInteractive('df-07a0cf82-48a5-44f2-97c1-edab03a78504')\"\n",
              "              title=\"Convert this dataframe to an interactive table.\"\n",
              "              style=\"display:none;\">\n",
              "        \n",
              "  <svg xmlns=\"http://www.w3.org/2000/svg\" height=\"24px\"viewBox=\"0 0 24 24\"\n",
              "       width=\"24px\">\n",
              "    <path d=\"M0 0h24v24H0V0z\" fill=\"none\"/>\n",
              "    <path d=\"M18.56 5.44l.94 2.06.94-2.06 2.06-.94-2.06-.94-.94-2.06-.94 2.06-2.06.94zm-11 1L8.5 8.5l.94-2.06 2.06-.94-2.06-.94L8.5 2.5l-.94 2.06-2.06.94zm10 10l.94 2.06.94-2.06 2.06-.94-2.06-.94-.94-2.06-.94 2.06-2.06.94z\"/><path d=\"M17.41 7.96l-1.37-1.37c-.4-.4-.92-.59-1.43-.59-.52 0-1.04.2-1.43.59L10.3 9.45l-7.72 7.72c-.78.78-.78 2.05 0 2.83L4 21.41c.39.39.9.59 1.41.59.51 0 1.02-.2 1.41-.59l7.78-7.78 2.81-2.81c.8-.78.8-2.07 0-2.86zM5.41 20L4 18.59l7.72-7.72 1.47 1.35L5.41 20z\"/>\n",
              "  </svg>\n",
              "      </button>\n",
              "      \n",
              "  <style>\n",
              "    .colab-df-container {\n",
              "      display:flex;\n",
              "      flex-wrap:wrap;\n",
              "      gap: 12px;\n",
              "    }\n",
              "\n",
              "    .colab-df-convert {\n",
              "      background-color: #E8F0FE;\n",
              "      border: none;\n",
              "      border-radius: 50%;\n",
              "      cursor: pointer;\n",
              "      display: none;\n",
              "      fill: #1967D2;\n",
              "      height: 32px;\n",
              "      padding: 0 0 0 0;\n",
              "      width: 32px;\n",
              "    }\n",
              "\n",
              "    .colab-df-convert:hover {\n",
              "      background-color: #E2EBFA;\n",
              "      box-shadow: 0px 1px 2px rgba(60, 64, 67, 0.3), 0px 1px 3px 1px rgba(60, 64, 67, 0.15);\n",
              "      fill: #174EA6;\n",
              "    }\n",
              "\n",
              "    [theme=dark] .colab-df-convert {\n",
              "      background-color: #3B4455;\n",
              "      fill: #D2E3FC;\n",
              "    }\n",
              "\n",
              "    [theme=dark] .colab-df-convert:hover {\n",
              "      background-color: #434B5C;\n",
              "      box-shadow: 0px 1px 3px 1px rgba(0, 0, 0, 0.15);\n",
              "      filter: drop-shadow(0px 1px 2px rgba(0, 0, 0, 0.3));\n",
              "      fill: #FFFFFF;\n",
              "    }\n",
              "  </style>\n",
              "\n",
              "      <script>\n",
              "        const buttonEl =\n",
              "          document.querySelector('#df-07a0cf82-48a5-44f2-97c1-edab03a78504 button.colab-df-convert');\n",
              "        buttonEl.style.display =\n",
              "          google.colab.kernel.accessAllowed ? 'block' : 'none';\n",
              "\n",
              "        async function convertToInteractive(key) {\n",
              "          const element = document.querySelector('#df-07a0cf82-48a5-44f2-97c1-edab03a78504');\n",
              "          const dataTable =\n",
              "            await google.colab.kernel.invokeFunction('convertToInteractive',\n",
              "                                                     [key], {});\n",
              "          if (!dataTable) return;\n",
              "\n",
              "          const docLinkHtml = 'Like what you see? Visit the ' +\n",
              "            '<a target=\"_blank\" href=https://colab.research.google.com/notebooks/data_table.ipynb>data table notebook</a>'\n",
              "            + ' to learn more about interactive tables.';\n",
              "          element.innerHTML = '';\n",
              "          dataTable['output_type'] = 'display_data';\n",
              "          await google.colab.output.renderOutput(dataTable, element);\n",
              "          const docLink = document.createElement('div');\n",
              "          docLink.innerHTML = docLinkHtml;\n",
              "          element.appendChild(docLink);\n",
              "        }\n",
              "      </script>\n",
              "    </div>\n",
              "  </div>\n",
              "  "
            ]
          },
          "metadata": {},
          "execution_count": 2
        }
      ],
      "source": [
        "data = pd.read_csv('stats_unique_no_missing.csv')\n",
        "data.head()"
      ]
    },
    {
      "cell_type": "code",
      "source": [
        "(data.drafted.value_counts()/data.drafted.shape)*100"
      ],
      "metadata": {
        "colab": {
          "base_uri": "https://localhost:8080/"
        },
        "id": "WuOLwQi6Bxw_",
        "outputId": "5cdb1d7b-cf8c-4029-d5af-a0ed3ede8f85"
      },
      "execution_count": 44,
      "outputs": [
        {
          "output_type": "execute_result",
          "data": {
            "text/plain": [
              "0.0    97.436546\n",
              "1.0     2.563454\n",
              "Name: drafted, dtype: float64"
            ]
          },
          "metadata": {},
          "execution_count": 44
        }
      ]
    },
    {
      "cell_type": "code",
      "source": [
        "plt.figure(figsize=(6,5))\n",
        "plt.title(\"Proportion of 1s and 0s\")\n",
        "ax = sns.countplot(data=data, x='drafted', palette=['#039be5','#8bc34a'])\n",
        "for c in ax.containers:\n",
        "    \n",
        "    labels = [f'{h/data.drafted.count()*100:0.1f}%' if (h := v.get_height()) > 0 else '' for v in c]\n",
        "    \n",
        "    ax.bar_label(c, labels=labels, label_type='edge')"
      ],
      "metadata": {
        "colab": {
          "base_uri": "https://localhost:8080/",
          "height": 487
        },
        "id": "0XTdBv4U4Rdy",
        "outputId": "5935c28a-58b4-4b8a-84f0-6b3dc6fe3a10"
      },
      "execution_count": 51,
      "outputs": [
        {
          "output_type": "display_data",
          "data": {
            "text/plain": [
              "<Figure size 600x500 with 1 Axes>"
            ],
            "image/png": "[encoded data removed]"
          },
          "metadata": {}
        }
      ]
    },
    {
      "cell_type": "code",
      "execution_count": 3,
      "metadata": {
        "id": "tnd9Rp9CBfL4"
      },
      "outputs": [],
      "source": [
        "cols = list(data.columns)\n",
        "categorical_cols = []\n",
        "numerical_cols = []\n",
        "for item in cols:\n",
        "    if data[item].dtype == object:\n",
        "        categorical_cols.append(item)\n",
        "    else:\n",
        "        numerical_cols.append(item)"
      ]
    },
    {
      "cell_type": "code",
      "execution_count": null,
      "metadata": {
        "colab": {
          "base_uri": "https://localhost:8080/"
        },
        "id": "TBEs_j0hBgDa",
        "outputId": "91de574e-a6b1-4ee0-b774-245aa0a0a473"
      },
      "outputs": [
        {
          "data": {
            "text/plain": [
              "['player_name', 'team', 'conf', 'yr', 'ht', 'num', 'type', 'Unnamed: 64']"
            ]
          },
          "execution_count": 49,
          "metadata": {},
          "output_type": "execute_result"
        }
      ],
      "source": [
        "categorical_cols"
      ]
    },
    {
      "cell_type": "code",
      "execution_count": 4,
      "metadata": {
        "id": "v5PrqFdZB6eN"
      },
      "outputs": [],
      "source": [
        "data = data.set_index('player_name')"
      ]
    },
    {
      "cell_type": "code",
      "execution_count": 5,
      "metadata": {
        "id": "LfpNYS4yAW1z"
      },
      "outputs": [],
      "source": [
        "data = data.drop(['Unnamed: 64', 'Unnamed: 65', 'rimmade+rimmiss', 'midmade+midmiss',\n",
        "       'dunksmiss+dunksmade', 'num', 'type'], axis=1)\n",
        "data_dummies = pd.get_dummies(data)"
      ]
    },
    {
      "cell_type": "code",
      "execution_count": 6,
      "metadata": {
        "id": "ZXJ06qrY_975"
      },
      "outputs": [],
      "source": [
        "y = data_dummies.drafted\n",
        "X = data_dummies.drop('drafted', axis=1)\n",
        "X_train, X_test, y_train, y_test = train_test_split(X, y, test_size=0.4, random_state=45)"
      ]
    },
    {
      "cell_type": "code",
      "execution_count": 9,
      "metadata": {
        "colab": {
          "base_uri": "https://localhost:8080/"
        },
        "id": "9RUy4yTRTo6A",
        "outputId": "faba2dd4-9c3c-483e-fa0b-e09cf0b5e7ba"
      },
      "outputs": [
        {
          "output_type": "stream",
          "name": "stdout",
          "text": [
            "Fitting 3 folds for each of 36 candidates, totalling 108 fits\n",
            "0.14005455200452885 {'bootstrap': True, 'max_depth': 25, 'max_leaf_nodes': 500, 'n_estimators': 500}\n"
          ]
        }
      ],
      "source": [
        "params = {'bootstrap': [True],\n",
        "          'n_estimators': [10, 300, 400, 500],\n",
        "          'max_depth': [25, 30, 35],\n",
        "          'max_leaf_nodes': [100, 500, 1000]}\n",
        "\n",
        "model_group = GridSearchCV(RandomForestClassifier(random_state=45, n_jobs=-1),\n",
        "                           params, scoring='recall',\n",
        "                           cv=3, n_jobs=-1, verbose=1)\n",
        "\n",
        "model_group.fit(X_train, y_train)\n",
        "print(model_group.best_score_, model_group.best_params_)"
      ]
    },
    {
      "cell_type": "code",
      "execution_count": 16,
      "metadata": {
        "colab": {
          "base_uri": "https://localhost:8080/",
          "height": 490
        },
        "id": "13mgCYqYi9rG",
        "outputId": "7ddddd96-a957-4db4-ac5c-b45bb91338d4"
      },
      "outputs": [
        {
          "output_type": "display_data",
          "data": {
            "text/plain": [
              "<Figure size 800x800 with 0 Axes>"
            ]
          },
          "metadata": {}
        },
        {
          "output_type": "display_data",
          "data": {
            "text/plain": [
              "<Figure size 640x480 with 1 Axes>"
            ],
            "image/png": "[encoded data removed]"
          },
          "metadata": {}
        }
      ],
      "source": [
        "model = RandomForestClassifier(random_state=45, bootstrap=True,\n",
        "                               n_estimators=500, max_leaf_nodes=500,\n",
        "                               max_depth=25, n_jobs=-1)\n",
        "model.fit(X_train, y_train)\n",
        "\n",
        "cross_val_ypred = cross_val_predict(model, X_train, y_train, cv = 5, method = 'predict_proba')\n",
        "p, r, thresholds = precision_recall_curve(y_train, cross_val_ypred[:,1])\n",
        "accuracys = []\n",
        "for threshold in thresholds:\n",
        "    ypred = cross_val_ypred[:,1] > threshold\n",
        "    ypred = ypred.astype(int)\n",
        "    accuracy = accuracy_score(ypred, y_train)\n",
        "    accuracys.append(accuracy)\n",
        "accuracys = np.array(accuracys)     \n",
        "\n",
        "def plot_accuracy_recall_vs_threshold(recalls, precisions, thresholds):\n",
        "    plt.figure(figsize=(8, 8))\n",
        "    plt.figure(facecolor='white')\n",
        "    plt.title(\"Accuracy, Precision, and Recall Scores as a function of the decision threshold\")\n",
        "    plt.plot(thresholds, accuracys, \"-\", color=\"#00517c\", label=\"Accuracy\")\n",
        "    plt.plot(thresholds, recalls[:-1], \"-\", color=\"#8bc34a\", label=\"Recall\")\n",
        "    plt.plot(thresholds, precisions[:-1], \"-\", color=\"#039be5\", label=\"Precision\")\n",
        "    plt.plot(thresholds, accuracys, \"o\", color=\"#00517c\")\n",
        "    plt.plot(thresholds, recalls[:-1], \"o\", color=\"#8bc34a\")\n",
        "    plt.plot(thresholds, precisions[:-1], \"o\", color=\"#039be5\")\n",
        "    plt.ylabel(\"Score\")\n",
        "    plt.xlabel(\"Decision Threshold\")\n",
        "    plt.legend(loc='best')\n",
        "    plt.legend()\n",
        "plot_accuracy_recall_vs_threshold(r, p, thresholds)"
      ]
    },
    {
      "cell_type": "code",
      "execution_count": 22,
      "metadata": {
        "colab": {
          "base_uri": "https://localhost:8080/"
        },
        "id": "8unTCtH_SEFm",
        "outputId": "da7c459b-9902-4a56-e48a-3d0bb48212bc"
      },
      "outputs": [
        {
          "output_type": "stream",
          "name": "stdout",
          "text": [
            "Train Accuracy:  0.9672343876723439\n",
            "Train Recall:  1.0\n",
            "Test Accuracy:  0.9071578025400224\n",
            "Test Recall:  0.8083182640144665\n"
          ]
        }
      ],
      "source": [
        "desired_threshold = 0.05\n",
        "\n",
        "ypred_prob_train = model.predict_proba(X_train)[:,1] \n",
        "ypred_train = ypred_prob_train > desired_threshold\n",
        "ypred_train = ypred_train.astype(int)\n",
        "\n",
        "ypred_prob_test = model.predict_proba(X_test)[:,1] \n",
        "ypred_test = ypred_prob_test > desired_threshold\n",
        "ypred_test = ypred_test.astype(int)\n",
        "\n",
        "print(\"Train Accuracy: \", accuracy_score(y_train, ypred_train))\n",
        "print(\"Train Recall: \", recall_score(y_train, ypred_train))\n",
        "print(\"Test Accuracy: \", accuracy_score(y_test, ypred_test))\n",
        "print(\"Test Recall: \", recall_score(y_test, ypred_test))"
      ]
    },
    {
      "cell_type": "code",
      "execution_count": 23,
      "metadata": {
        "colab": {
          "base_uri": "https://localhost:8080/"
        },
        "id": "pPNX1CeKlfkD",
        "outputId": "92c94fec-775d-4916-b896-ad00c46be8ca"
      },
      "outputs": [
        {
          "output_type": "stream",
          "name": "stdout",
          "text": [
            "Fitting 3 folds for each of 36 candidates, totalling 108 fits\n"
          ]
        },
        {
          "output_type": "stream",
          "name": "stderr",
          "text": [
            "/usr/local/lib/python3.10/dist-packages/sklearn/ensemble/_base.py:166: FutureWarning: `base_estimator` was renamed to `estimator` in version 1.2 and will be removed in 1.4.\n",
            "  warnings.warn(\n"
          ]
        },
        {
          "output_type": "stream",
          "name": "stdout",
          "text": [
            "0.4018218310946426 {'base_estimator': DecisionTreeClassifier(max_depth=11), 'learning_rate': 0.02, 'n_estimators': 10}\n"
          ]
        }
      ],
      "source": [
        "params = {'base_estimator': [DecisionTreeClassifier(max_depth=10),\n",
        "                            DecisionTreeClassifier(max_depth=11),\n",
        "                            DecisionTreeClassifier(max_depth=12)],\n",
        "          'n_estimators': [5, 10, 50, 100],\n",
        "          'learning_rate': [0.01, 0.015, 0.02]}\n",
        "\n",
        "model_group = GridSearchCV(AdaBoostClassifier(random_state=45),\n",
        "                           params, scoring='recall',\n",
        "                           cv=3, n_jobs=-1, verbose=1)\n",
        "\n",
        "model_group.fit(X_train, y_train)\n",
        "print(model_group.best_score_, model_group.best_params_)"
      ]
    },
    {
      "cell_type": "code",
      "execution_count": 33,
      "metadata": {
        "colab": {
          "base_uri": "https://localhost:8080/",
          "height": 724
        },
        "id": "ki_WuhnnsnwY",
        "outputId": "b11276e3-1670-4168-9b18-d0721b7bb1c0"
      },
      "outputs": [
        {
          "output_type": "stream",
          "name": "stderr",
          "text": [
            "/usr/local/lib/python3.10/dist-packages/sklearn/ensemble/_base.py:166: FutureWarning: `base_estimator` was renamed to `estimator` in version 1.2 and will be removed in 1.4.\n",
            "  warnings.warn(\n",
            "/usr/local/lib/python3.10/dist-packages/sklearn/ensemble/_base.py:166: FutureWarning: `base_estimator` was renamed to `estimator` in version 1.2 and will be removed in 1.4.\n",
            "  warnings.warn(\n",
            "/usr/local/lib/python3.10/dist-packages/sklearn/ensemble/_base.py:166: FutureWarning: `base_estimator` was renamed to `estimator` in version 1.2 and will be removed in 1.4.\n",
            "  warnings.warn(\n",
            "/usr/local/lib/python3.10/dist-packages/sklearn/ensemble/_base.py:166: FutureWarning: `base_estimator` was renamed to `estimator` in version 1.2 and will be removed in 1.4.\n",
            "  warnings.warn(\n",
            "/usr/local/lib/python3.10/dist-packages/sklearn/ensemble/_base.py:166: FutureWarning: `base_estimator` was renamed to `estimator` in version 1.2 and will be removed in 1.4.\n",
            "  warnings.warn(\n",
            "/usr/local/lib/python3.10/dist-packages/sklearn/ensemble/_base.py:166: FutureWarning: `base_estimator` was renamed to `estimator` in version 1.2 and will be removed in 1.4.\n",
            "  warnings.warn(\n"
          ]
        },
        {
          "output_type": "display_data",
          "data": {
            "text/plain": [
              "<Figure size 800x800 with 0 Axes>"
            ]
          },
          "metadata": {}
        },
        {
          "output_type": "display_data",
          "data": {
            "text/plain": [
              "<Figure size 640x480 with 1 Axes>"
            ],
            "image/png": "[encoded data removed]"
          },
          "metadata": {}
        }
      ],
      "source": [
        "model2 = AdaBoostClassifier(random_state=45, base_estimator=DecisionTreeClassifier(max_depth=11),\n",
        "                            n_estimators=10, learning_rate=0.02, )\n",
        "model2.fit(X_train, y_train)\n",
        "\n",
        "cross_val_ypred = cross_val_predict(model2, X_train, y_train, cv = 5, method = 'predict_proba')\n",
        "p, r, thresholds = precision_recall_curve(y_train, cross_val_ypred[:,1])\n",
        "accuracys = []\n",
        "for threshold in thresholds:\n",
        "    ypred = cross_val_ypred[:,1] > threshold\n",
        "    ypred = ypred.astype(int)\n",
        "    accuracy = accuracy_score(ypred, y_train)\n",
        "    accuracys.append(accuracy)\n",
        "accuracys = np.array(accuracys)     \n",
        "\n",
        "def plot_accuracy_recall_vs_threshold(recalls, precisions, thresholds):\n",
        "    plt.figure(figsize=(8, 8))\n",
        "    plt.figure(facecolor='white')\n",
        "    plt.title(\"Accuracy, Precision, and Recall Scores as a function of the decision threshold\")\n",
        "    plt.plot(thresholds, accuracys, \"-\", color=\"#00517c\", label=\"Accuracy\")\n",
        "    plt.plot(thresholds, recalls[:-1], \"-\", color=\"#8bc34a\", label=\"Recall\")\n",
        "    plt.plot(thresholds, precisions[:-1], \"-\", color=\"#039be5\", label=\"Precision\")\n",
        "    plt.plot(thresholds, accuracys, \"o\", color=\"#00517c\")\n",
        "    plt.plot(thresholds, recalls[:-1], \"o\", color=\"#8bc34a\")\n",
        "    plt.plot(thresholds, precisions[:-1], \"o\", color=\"#039be5\")\n",
        "    plt.ylabel(\"Score\")\n",
        "    plt.xlabel(\"Decision Threshold\")\n",
        "    plt.legend(loc='best')\n",
        "    plt.legend()\n",
        "plot_accuracy_recall_vs_threshold(r, p, thresholds)"
      ]
    },
    {
      "cell_type": "code",
      "execution_count": 35,
      "metadata": {
        "colab": {
          "base_uri": "https://localhost:8080/"
        },
        "id": "N3mCP3cMtfLr",
        "outputId": "4d211361-ec50-400b-980b-66f73a58a3a6",
        "scrolled": true
      },
      "outputs": [
        {
          "output_type": "stream",
          "name": "stdout",
          "text": [
            "Train Accuracy:  0.906374695863747\n",
            "Train Recall:  0.9895287958115183\n",
            "Test Accuracy:  0.8750425770035521\n",
            "Test Recall:  0.6057866184448463\n"
          ]
        }
      ],
      "source": [
        "desired_threshold = 0.009\n",
        "\n",
        "ypred_prob_train = model2.predict_proba(X_train)[:,1] \n",
        "ypred_train = ypred_prob_train > desired_threshold\n",
        "ypred_train = ypred_train.astype(int)\n",
        "\n",
        "ypred_prob_test = model2.predict_proba(X_test)[:,1] \n",
        "ypred_test = ypred_prob_test > desired_threshold\n",
        "ypred_test = ypred_test.astype(int)\n",
        "\n",
        "print(\"Train Accuracy: \", accuracy_score(y_train, ypred_train))\n",
        "print(\"Train Recall: \", recall_score(y_train, ypred_train))\n",
        "print(\"Test Accuracy: \", accuracy_score(y_test, ypred_test))\n",
        "print(\"Test Recall: \", recall_score(y_test, ypred_test))"
      ]
    },
    {
      "cell_type": "code",
      "execution_count": 36,
      "metadata": {
        "id": "mNJeMslfFNGC",
        "outputId": "5593a96f-c086-4fbc-88c9-c0d5b17e41a7",
        "colab": {
          "base_uri": "https://localhost:8080/",
          "height": 424
        }
      },
      "outputs": [
        {
          "output_type": "execute_result",
          "data": {
            "text/plain": [
              "           Feature Name  Feature Importance\n",
              "34              dporpag        1.405551e-01\n",
              "23               porpag        8.186817e-02\n",
              "39                 gbpm        6.305284e-02\n",
              "31            dunksmade        3.805592e-02\n",
              "448               yr_Fr        3.759108e-02\n",
              "..                  ...                 ...\n",
              "445            conf_WAC        7.118169e-19\n",
              "455            ht_1-Jun        5.642499e-19\n",
              "435            conf_OVC        2.460445e-19\n",
              "117         team_Dayton        1.788407e-19\n",
              "396  team_West Virginia        5.698386e-20\n",
              "\n",
              "[204 rows x 2 columns]"
            ],
            "text/html": [
              "\n",
              "  <div id=\"df-0d3d2969-9be6-4039-92fe-433c5f7e6841\">\n",
              "    <div class=\"colab-df-container\">\n",
              "      <div>\n",
              "<style scoped>\n",
              "    .dataframe tbody tr th:only-of-type {\n",
              "        vertical-align: middle;\n",
              "    }\n",
              "\n",
              "    .dataframe tbody tr th {\n",
              "        vertical-align: top;\n",
              "    }\n",
              "\n",
              "    .dataframe thead th {\n",
              "        text-align: right;\n",
              "    }\n",
              "</style>\n",
              "<table border=\"1\" class=\"dataframe\">\n",
              "  <thead>\n",
              "    <tr style=\"text-align: right;\">\n",
              "      <th></th>\n",
              "      <th>Feature Name</th>\n",
              "      <th>Feature Importance</th>\n",
              "    </tr>\n",
              "  </thead>\n",
              "  <tbody>\n",
              "    <tr>\n",
              "      <th>34</th>\n",
              "      <td>dporpag</td>\n",
              "      <td>1.405551e-01</td>\n",
              "    </tr>\n",
              "    <tr>\n",
              "      <th>23</th>\n",
              "      <td>porpag</td>\n",
              "      <td>8.186817e-02</td>\n",
              "    </tr>\n",
              "    <tr>\n",
              "      <th>39</th>\n",
              "      <td>gbpm</td>\n",
              "      <td>6.305284e-02</td>\n",
              "    </tr>\n",
              "    <tr>\n",
              "      <th>31</th>\n",
              "      <td>dunksmade</td>\n",
              "      <td>3.805592e-02</td>\n",
              "    </tr>\n",
              "    <tr>\n",
              "      <th>448</th>\n",
              "      <td>yr_Fr</td>\n",
              "      <td>3.759108e-02</td>\n",
              "    </tr>\n",
              "    <tr>\n",
              "      <th>...</th>\n",
              "      <td>...</td>\n",
              "      <td>...</td>\n",
              "    </tr>\n",
              "    <tr>\n",
              "      <th>445</th>\n",
              "      <td>conf_WAC</td>\n",
              "      <td>7.118169e-19</td>\n",
              "    </tr>\n",
              "    <tr>\n",
              "      <th>455</th>\n",
              "      <td>ht_1-Jun</td>\n",
              "      <td>5.642499e-19</td>\n",
              "    </tr>\n",
              "    <tr>\n",
              "      <th>435</th>\n",
              "      <td>conf_OVC</td>\n",
              "      <td>2.460445e-19</td>\n",
              "    </tr>\n",
              "    <tr>\n",
              "      <th>117</th>\n",
              "      <td>team_Dayton</td>\n",
              "      <td>1.788407e-19</td>\n",
              "    </tr>\n",
              "    <tr>\n",
              "      <th>396</th>\n",
              "      <td>team_West Virginia</td>\n",
              "      <td>5.698386e-20</td>\n",
              "    </tr>\n",
              "  </tbody>\n",
              "</table>\n",
              "<p>204 rows × 2 columns</p>\n",
              "</div>\n",
              "      <button class=\"colab-df-convert\" onclick=\"convertToInteractive('df-0d3d2969-9be6-4039-92fe-433c5f7e6841')\"\n",
              "              title=\"Convert this dataframe to an interactive table.\"\n",
              "              style=\"display:none;\">\n",
              "        \n",
              "  <svg xmlns=\"http://www.w3.org/2000/svg\" height=\"24px\"viewBox=\"0 0 24 24\"\n",
              "       width=\"24px\">\n",
              "    <path d=\"M0 0h24v24H0V0z\" fill=\"none\"/>\n",
              "    <path d=\"M18.56 5.44l.94 2.06.94-2.06 2.06-.94-2.06-.94-.94-2.06-.94 2.06-2.06.94zm-11 1L8.5 8.5l.94-2.06 2.06-.94-2.06-.94L8.5 2.5l-.94 2.06-2.06.94zm10 10l.94 2.06.94-2.06 2.06-.94-2.06-.94-.94-2.06-.94 2.06-2.06.94z\"/><path d=\"M17.41 7.96l-1.37-1.37c-.4-.4-.92-.59-1.43-.59-.52 0-1.04.2-1.43.59L10.3 9.45l-7.72 7.72c-.78.78-.78 2.05 0 2.83L4 21.41c.39.39.9.59 1.41.59.51 0 1.02-.2 1.41-.59l7.78-7.78 2.81-2.81c.8-.78.8-2.07 0-2.86zM5.41 20L4 18.59l7.72-7.72 1.47 1.35L5.41 20z\"/>\n",
              "  </svg>\n",
              "      </button>\n",
              "      \n",
              "  <style>\n",
              "    .colab-df-container {\n",
              "      display:flex;\n",
              "      flex-wrap:wrap;\n",
              "      gap: 12px;\n",
              "    }\n",
              "\n",
              "    .colab-df-convert {\n",
              "      background-color: #E8F0FE;\n",
              "      border: none;\n",
              "      border-radius: 50%;\n",
              "      cursor: pointer;\n",
              "      display: none;\n",
              "      fill: #1967D2;\n",
              "      height: 32px;\n",
              "      padding: 0 0 0 0;\n",
              "      width: 32px;\n",
              "    }\n",
              "\n",
              "    .colab-df-convert:hover {\n",
              "      background-color: #E2EBFA;\n",
              "      box-shadow: 0px 1px 2px rgba(60, 64, 67, 0.3), 0px 1px 3px 1px rgba(60, 64, 67, 0.15);\n",
              "      fill: #174EA6;\n",
              "    }\n",
              "\n",
              "    [theme=dark] .colab-df-convert {\n",
              "      background-color: #3B4455;\n",
              "      fill: #D2E3FC;\n",
              "    }\n",
              "\n",
              "    [theme=dark] .colab-df-convert:hover {\n",
              "      background-color: #434B5C;\n",
              "      box-shadow: 0px 1px 3px 1px rgba(0, 0, 0, 0.15);\n",
              "      filter: drop-shadow(0px 1px 2px rgba(0, 0, 0, 0.3));\n",
              "      fill: #FFFFFF;\n",
              "    }\n",
              "  </style>\n",
              "\n",
              "      <script>\n",
              "        const buttonEl =\n",
              "          document.querySelector('#df-0d3d2969-9be6-4039-92fe-433c5f7e6841 button.colab-df-convert');\n",
              "        buttonEl.style.display =\n",
              "          google.colab.kernel.accessAllowed ? 'block' : 'none';\n",
              "\n",
              "        async function convertToInteractive(key) {\n",
              "          const element = document.querySelector('#df-0d3d2969-9be6-4039-92fe-433c5f7e6841');\n",
              "          const dataTable =\n",
              "            await google.colab.kernel.invokeFunction('convertToInteractive',\n",
              "                                                     [key], {});\n",
              "          if (!dataTable) return;\n",
              "\n",
              "          const docLinkHtml = 'Like what you see? Visit the ' +\n",
              "            '<a target=\"_blank\" href=https://colab.research.google.com/notebooks/data_table.ipynb>data table notebook</a>'\n",
              "            + ' to learn more about interactive tables.';\n",
              "          element.innerHTML = '';\n",
              "          dataTable['output_type'] = 'display_data';\n",
              "          await google.colab.output.renderOutput(dataTable, element);\n",
              "          const docLink = document.createElement('div');\n",
              "          docLink.innerHTML = docLinkHtml;\n",
              "          element.appendChild(docLink);\n",
              "        }\n",
              "      </script>\n",
              "    </div>\n",
              "  </div>\n",
              "  "
            ]
          },
          "metadata": {},
          "execution_count": 36
        }
      ],
      "source": [
        "importance = list(model2.feature_importances_)\n",
        "name = list(model2.feature_names_in_)\n",
        "df = pd.DataFrame()\n",
        "df['Feature Name'] = name\n",
        "df['Feature Importance'] = importance\n",
        "df.sort_values(by='Feature Importance', ascending=False).loc[df['Feature Importance']!=0]"
      ]
    },
    {
      "cell_type": "code",
      "execution_count": 37,
      "metadata": {
        "id": "Gk5Qgdb9FNGC"
      },
      "outputs": [],
      "source": [
        "important_features = list(df.loc[df['Feature Importance']!=0]['Feature Name'])\n",
        "\n",
        "selected_features = data_dummies[important_features]\n",
        "X_train_sel, X_test_sel, y_train, y_test = train_test_split(selected_features, y, test_size=0.4, random_state=45)"
      ]
    },
    {
      "cell_type": "code",
      "execution_count": 38,
      "metadata": {
        "id": "opVSv3Y8FNGC",
        "outputId": "f10929d0-d042-42d8-ddcb-02708c1f2e19",
        "colab": {
          "base_uri": "https://localhost:8080/"
        }
      },
      "outputs": [
        {
          "output_type": "stream",
          "name": "stdout",
          "text": [
            "Fitting 5 folds for each of 60 candidates, totalling 300 fits\n"
          ]
        },
        {
          "output_type": "stream",
          "name": "stderr",
          "text": [
            "/usr/local/lib/python3.10/dist-packages/sklearn/ensemble/_base.py:166: FutureWarning: `base_estimator` was renamed to `estimator` in version 1.2 and will be removed in 1.4.\n",
            "  warnings.warn(\n"
          ]
        },
        {
          "output_type": "stream",
          "name": "stdout",
          "text": [
            "0.3783023735810113 {'base_estimator': DecisionTreeClassifier(max_depth=10), 'learning_rate': 0.0111, 'n_estimators': 15}\n"
          ]
        }
      ],
      "source": [
        "params = {'base_estimator':[DecisionTreeClassifier(max_depth=8),\n",
        "                            DecisionTreeClassifier(max_depth=9),\n",
        "                            DecisionTreeClassifier(max_depth=10)],\n",
        "          'n_estimators': [15, 20, 25, 30, 35],\n",
        "          'learning_rate': [0.011, 0.0111, 0.015, 0.02]}\n",
        "\n",
        "model_group = GridSearchCV(AdaBoostClassifier(random_state=45),\n",
        "                           params, scoring='recall',\n",
        "                           cv=5, n_jobs=-1, verbose=1)\n",
        "\n",
        "model_group.fit(X_train_sel, y_train)\n",
        "print(model_group.best_score_, model_group.best_params_)"
      ]
    },
    {
      "cell_type": "code",
      "execution_count": 39,
      "metadata": {
        "id": "FvQ_tkQOFNGC",
        "outputId": "0d2114ab-7f99-48e2-db34-40900062c53f",
        "colab": {
          "base_uri": "https://localhost:8080/",
          "height": 724
        }
      },
      "outputs": [
        {
          "output_type": "stream",
          "name": "stderr",
          "text": [
            "/usr/local/lib/python3.10/dist-packages/sklearn/ensemble/_base.py:166: FutureWarning: `base_estimator` was renamed to `estimator` in version 1.2 and will be removed in 1.4.\n",
            "  warnings.warn(\n",
            "/usr/local/lib/python3.10/dist-packages/sklearn/ensemble/_base.py:166: FutureWarning: `base_estimator` was renamed to `estimator` in version 1.2 and will be removed in 1.4.\n",
            "  warnings.warn(\n",
            "/usr/local/lib/python3.10/dist-packages/sklearn/ensemble/_base.py:166: FutureWarning: `base_estimator` was renamed to `estimator` in version 1.2 and will be removed in 1.4.\n",
            "  warnings.warn(\n",
            "/usr/local/lib/python3.10/dist-packages/sklearn/ensemble/_base.py:166: FutureWarning: `base_estimator` was renamed to `estimator` in version 1.2 and will be removed in 1.4.\n",
            "  warnings.warn(\n",
            "/usr/local/lib/python3.10/dist-packages/sklearn/ensemble/_base.py:166: FutureWarning: `base_estimator` was renamed to `estimator` in version 1.2 and will be removed in 1.4.\n",
            "  warnings.warn(\n",
            "/usr/local/lib/python3.10/dist-packages/sklearn/ensemble/_base.py:166: FutureWarning: `base_estimator` was renamed to `estimator` in version 1.2 and will be removed in 1.4.\n",
            "  warnings.warn(\n"
          ]
        },
        {
          "output_type": "display_data",
          "data": {
            "text/plain": [
              "<Figure size 800x800 with 0 Axes>"
            ]
          },
          "metadata": {}
        },
        {
          "output_type": "display_data",
          "data": {
            "text/plain": [
              "<Figure size 640x480 with 1 Axes>"
            ],
            "image/png": "[encoded data removed]"
          },
          "metadata": {}
        }
      ],
      "source": [
        "model3 = AdaBoostClassifier(random_state=45, learning_rate=0.0111, \n",
        "                            base_estimator=DecisionTreeClassifier(max_depth=10),\n",
        "                            n_estimators=15)\n",
        "model3.fit(X_train_sel, y_train)\n",
        "\n",
        "cross_val_ypred = cross_val_predict(model3, X_train_sel, y_train, cv = 5, method = 'predict_proba')\n",
        "p, r, thresholds = precision_recall_curve(y_train, cross_val_ypred[:,1])\n",
        "accuracys = []\n",
        "for threshold in thresholds:\n",
        "    ypred = cross_val_ypred[:,1] > threshold\n",
        "    ypred = ypred.astype(int)\n",
        "    accuracy = accuracy_score(ypred, y_train)\n",
        "    accuracys.append(accuracy)\n",
        "accuracys = np.array(accuracys)     \n",
        "\n",
        "def plot_accuracy_recall_vs_threshold(recalls, precisions, thresholds):\n",
        "    plt.figure(figsize=(8, 8))\n",
        "    plt.figure(facecolor='white')\n",
        "    plt.title(\"Accuracy, Precision, and Recall Scores as a function of the decision threshold\")\n",
        "    plt.plot(thresholds, accuracys, \"-\", color=\"#00517c\", label=\"Accuracy\")\n",
        "    plt.plot(thresholds, recalls[:-1], \"-\", color=\"#8bc34a\", label=\"Recall\")\n",
        "    plt.plot(thresholds, precisions[:-1], \"-\", color=\"#039be5\", label=\"Precision\")\n",
        "    plt.plot(thresholds, accuracys, \"o\", color=\"#00517c\")\n",
        "    plt.plot(thresholds, recalls[:-1], \"o\", color=\"#8bc34a\")\n",
        "    plt.plot(thresholds, precisions[:-1], \"o\", color=\"#039be5\")\n",
        "    plt.ylabel(\"Score\")\n",
        "    plt.xlabel(\"Decision Threshold\")\n",
        "    plt.legend(loc='best')\n",
        "    plt.legend()\n",
        "plot_accuracy_recall_vs_threshold(r, p, thresholds)"
      ]
    },
    {
      "cell_type": "code",
      "execution_count": 40,
      "metadata": {
        "scrolled": true,
        "id": "V32rSU6fFNGD",
        "outputId": "37ca6ecb-ca03-44f2-b34a-f8fdfeea54d1",
        "colab": {
          "base_uri": "https://localhost:8080/"
        }
      },
      "outputs": [
        {
          "output_type": "stream",
          "name": "stdout",
          "text": [
            "Train Accuracy:  0.8483698296836983\n",
            "Train Recall:  0.9882198952879581\n",
            "Test Accuracy:  0.8203007152936597\n",
            "Test Recall:  0.6907775768535263\n"
          ]
        }
      ],
      "source": [
        "desired_threshold = 0.008\n",
        "\n",
        "ypred_prob_train = model3.predict_proba(X_train_sel)[:,1] \n",
        "ypred_train = ypred_prob_train > desired_threshold\n",
        "ypred_train = ypred_train.astype(int)\n",
        "\n",
        "ypred_prob_test = model3.predict_proba(X_test_sel)[:,1] \n",
        "ypred_test = ypred_prob_test > desired_threshold\n",
        "ypred_test = ypred_test.astype(int)\n",
        "\n",
        "print(\"Train Accuracy: \", accuracy_score(y_train, ypred_train))\n",
        "print(\"Train Recall: \", recall_score(y_train, ypred_train))\n",
        "print(\"Test Accuracy: \", accuracy_score(y_test, ypred_test))\n",
        "print(\"Test Recall: \", recall_score(y_test, ypred_test))"
      ]
    },
    {
      "cell_type": "code",
      "execution_count": null,
      "metadata": {
        "id": "Hy2wTLEdFNGD"
      },
      "outputs": [],
      "source": []
    }
  ],
  "metadata": {
    "accelerator": "TPU",
    "colab": {
      "provenance": [],
      "include_colab_link": true
    },
    "gpuClass": "standard",
    "kernelspec": {
      "display_name": "Python 3 (ipykernel)",
      "language": "python",
      "name": "python3"
    },
    "language_info": {
      "codemirror_mode": {
        "name": "ipython",
        "version": 3
      },
      "file_extension": ".py",
      "mimetype": "text/x-python",
      "name": "python",
      "nbconvert_exporter": "python",
      "pygments_lexer": "ipython3",
      "version": "3.9.12"
    }
  },
  "nbformat": 4,
  "nbformat_minor": 0
}