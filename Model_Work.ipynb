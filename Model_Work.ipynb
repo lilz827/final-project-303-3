{
 "cells": [
  {
   "cell_type": "code",
   "execution_count": 1,
   "metadata": {
    "id": "SIvVdiwS-6uX"
   },
   "outputs": [],
   "source": [
    "import pandas as pd\n",
    "import numpy as np\n",
    "import seaborn as sns\n",
    "import matplotlib.pyplot as plt\n",
    "from sklearn.model_selection import cross_val_score, cross_val_predict\n",
    "from sklearn.model_selection import KFold, train_test_split\n",
    "from sklearn.preprocessing import StandardScaler\n",
    "from sklearn.tree import DecisionTreeClassifier\n",
    "from sklearn.model_selection import GridSearchCV, ParameterGrid\n",
    "from sklearn.ensemble import BaggingClassifier, RandomForestClassifier, AdaBoostClassifier, GradientBoostingClassifier\n",
    "from sklearn.neighbors import KNeighborsClassifier\n",
    "from sklearn.metrics import accuracy_score, recall_score, precision_recall_curve"
   ]
  },
  {
   "cell_type": "code",
   "execution_count": 2,
   "metadata": {
    "colab": {
     "base_uri": "https://localhost:8080/",
     "height": 352
    },
    "id": "sg2h9NJX_Q3R",
    "outputId": "57a20525-dbe7-4848-b477-d58ba40b9b85"
   },
   "outputs": [
    {
     "data": {
      "text/html": [
       "<div>\n",
       "<style scoped>\n",
       "    .dataframe tbody tr th:only-of-type {\n",
       "        vertical-align: middle;\n",
       "    }\n",
       "\n",
       "    .dataframe tbody tr th {\n",
       "        vertical-align: top;\n",
       "    }\n",
       "\n",
       "    .dataframe thead th {\n",
       "        text-align: right;\n",
       "    }\n",
       "</style>\n",
       "<table border=\"1\" class=\"dataframe\">\n",
       "  <thead>\n",
       "    <tr style=\"text-align: right;\">\n",
       "      <th></th>\n",
       "      <th>Unnamed: 0</th>\n",
       "      <th>player_name</th>\n",
       "      <th>team</th>\n",
       "      <th>conf</th>\n",
       "      <th>GP</th>\n",
       "      <th>Min_per</th>\n",
       "      <th>Ortg</th>\n",
       "      <th>usg</th>\n",
       "      <th>eFG</th>\n",
       "      <th>TS_per</th>\n",
       "      <th>...</th>\n",
       "      <th>oreb</th>\n",
       "      <th>dreb</th>\n",
       "      <th>treb</th>\n",
       "      <th>ast</th>\n",
       "      <th>stl</th>\n",
       "      <th>blk</th>\n",
       "      <th>pts</th>\n",
       "      <th>Unnamed: 64</th>\n",
       "      <th>Unnamed: 65</th>\n",
       "      <th>drafted</th>\n",
       "    </tr>\n",
       "  </thead>\n",
       "  <tbody>\n",
       "    <tr>\n",
       "      <th>0</th>\n",
       "      <td>4589</td>\n",
       "      <td>Pooh Williams</td>\n",
       "      <td>Utah St.</td>\n",
       "      <td>WAC</td>\n",
       "      <td>32</td>\n",
       "      <td>64.0</td>\n",
       "      <td>108.3</td>\n",
       "      <td>18.1</td>\n",
       "      <td>53.0</td>\n",
       "      <td>53.33</td>\n",
       "      <td>...</td>\n",
       "      <td>0.4688</td>\n",
       "      <td>1.3750</td>\n",
       "      <td>1.8438</td>\n",
       "      <td>2.1875</td>\n",
       "      <td>0.5938</td>\n",
       "      <td>0.2188</td>\n",
       "      <td>8.7812</td>\n",
       "      <td>Combo G</td>\n",
       "      <td>7.300850</td>\n",
       "      <td>0.0</td>\n",
       "    </tr>\n",
       "    <tr>\n",
       "      <th>1</th>\n",
       "      <td>4590</td>\n",
       "      <td>Nick Rodgers</td>\n",
       "      <td>Butler</td>\n",
       "      <td>Horz</td>\n",
       "      <td>11</td>\n",
       "      <td>1.0</td>\n",
       "      <td>121.1</td>\n",
       "      <td>16.8</td>\n",
       "      <td>75.0</td>\n",
       "      <td>75.00</td>\n",
       "      <td>...</td>\n",
       "      <td>0.0000</td>\n",
       "      <td>0.0000</td>\n",
       "      <td>0.0000</td>\n",
       "      <td>0.0909</td>\n",
       "      <td>0.0000</td>\n",
       "      <td>0.0000</td>\n",
       "      <td>0.5455</td>\n",
       "      <td>Pure PG</td>\n",
       "      <td>12.267400</td>\n",
       "      <td>0.0</td>\n",
       "    </tr>\n",
       "    <tr>\n",
       "      <th>2</th>\n",
       "      <td>4591</td>\n",
       "      <td>Dana Smith</td>\n",
       "      <td>Longwood</td>\n",
       "      <td>ind</td>\n",
       "      <td>27</td>\n",
       "      <td>81.8</td>\n",
       "      <td>99.8</td>\n",
       "      <td>27.7</td>\n",
       "      <td>49.9</td>\n",
       "      <td>53.76</td>\n",
       "      <td>...</td>\n",
       "      <td>2.1481</td>\n",
       "      <td>4.9259</td>\n",
       "      <td>7.0741</td>\n",
       "      <td>2.4074</td>\n",
       "      <td>0.8148</td>\n",
       "      <td>0.4815</td>\n",
       "      <td>17.5556</td>\n",
       "      <td>Wing F</td>\n",
       "      <td>5.581250</td>\n",
       "      <td>0.0</td>\n",
       "    </tr>\n",
       "    <tr>\n",
       "      <th>3</th>\n",
       "      <td>4594</td>\n",
       "      <td>Carlos Strong</td>\n",
       "      <td>Boston University</td>\n",
       "      <td>AE</td>\n",
       "      <td>35</td>\n",
       "      <td>76.2</td>\n",
       "      <td>118.1</td>\n",
       "      <td>16.4</td>\n",
       "      <td>58.8</td>\n",
       "      <td>60.93</td>\n",
       "      <td>...</td>\n",
       "      <td>1.3429</td>\n",
       "      <td>3.2286</td>\n",
       "      <td>4.5714</td>\n",
       "      <td>1.8000</td>\n",
       "      <td>1.6571</td>\n",
       "      <td>0.4000</td>\n",
       "      <td>10.8571</td>\n",
       "      <td>Combo G</td>\n",
       "      <td>6.583070</td>\n",
       "      <td>0.0</td>\n",
       "    </tr>\n",
       "    <tr>\n",
       "      <th>4</th>\n",
       "      <td>4595</td>\n",
       "      <td>Sherrod Smith</td>\n",
       "      <td>Boston University</td>\n",
       "      <td>AE</td>\n",
       "      <td>29</td>\n",
       "      <td>9.5</td>\n",
       "      <td>60.7</td>\n",
       "      <td>6.9</td>\n",
       "      <td>8.3</td>\n",
       "      <td>14.93</td>\n",
       "      <td>...</td>\n",
       "      <td>0.1379</td>\n",
       "      <td>0.5862</td>\n",
       "      <td>0.7241</td>\n",
       "      <td>0.2069</td>\n",
       "      <td>0.1034</td>\n",
       "      <td>0.0345</td>\n",
       "      <td>0.1724</td>\n",
       "      <td>Wing G</td>\n",
       "      <td>0.844851</td>\n",
       "      <td>0.0</td>\n",
       "    </tr>\n",
       "  </tbody>\n",
       "</table>\n",
       "<p>5 rows × 63 columns</p>\n",
       "</div>"
      ],
      "text/plain": [
       "   Unnamed: 0    player_name               team  conf  GP  Min_per   Ortg  \\\n",
       "0        4589  Pooh Williams           Utah St.   WAC  32     64.0  108.3   \n",
       "1        4590   Nick Rodgers             Butler  Horz  11      1.0  121.1   \n",
       "2        4591     Dana Smith           Longwood   ind  27     81.8   99.8   \n",
       "3        4594  Carlos Strong  Boston University    AE  35     76.2  118.1   \n",
       "4        4595  Sherrod Smith  Boston University    AE  29      9.5   60.7   \n",
       "\n",
       "    usg   eFG  TS_per  ...    oreb    dreb    treb     ast     stl     blk  \\\n",
       "0  18.1  53.0   53.33  ...  0.4688  1.3750  1.8438  2.1875  0.5938  0.2188   \n",
       "1  16.8  75.0   75.00  ...  0.0000  0.0000  0.0000  0.0909  0.0000  0.0000   \n",
       "2  27.7  49.9   53.76  ...  2.1481  4.9259  7.0741  2.4074  0.8148  0.4815   \n",
       "3  16.4  58.8   60.93  ...  1.3429  3.2286  4.5714  1.8000  1.6571  0.4000   \n",
       "4   6.9   8.3   14.93  ...  0.1379  0.5862  0.7241  0.2069  0.1034  0.0345   \n",
       "\n",
       "       pts  Unnamed: 64  Unnamed: 65  drafted  \n",
       "0   8.7812      Combo G     7.300850      0.0  \n",
       "1   0.5455      Pure PG    12.267400      0.0  \n",
       "2  17.5556       Wing F     5.581250      0.0  \n",
       "3  10.8571      Combo G     6.583070      0.0  \n",
       "4   0.1724       Wing G     0.844851      0.0  \n",
       "\n",
       "[5 rows x 63 columns]"
      ]
     },
     "execution_count": 2,
     "metadata": {},
     "output_type": "execute_result"
    }
   ],
   "source": [
    "data = pd.read_csv('stats_unique_no_missing.csv')\n",
    "data.head()"
   ]
  },
  {
   "cell_type": "code",
   "execution_count": 3,
   "metadata": {
    "id": "tnd9Rp9CBfL4"
   },
   "outputs": [],
   "source": [
    "cols = list(data.columns)\n",
    "categorical_cols = []\n",
    "numerical_cols = []\n",
    "for item in cols:\n",
    "    if data[item].dtype == object:\n",
    "        categorical_cols.append(item)\n",
    "    else:\n",
    "        numerical_cols.append(item)"
   ]
  },
  {
   "cell_type": "code",
   "execution_count": 49,
   "metadata": {
    "colab": {
     "base_uri": "https://localhost:8080/"
    },
    "id": "TBEs_j0hBgDa",
    "outputId": "91de574e-a6b1-4ee0-b774-245aa0a0a473"
   },
   "outputs": [
    {
     "data": {
      "text/plain": [
       "['player_name', 'team', 'conf', 'yr', 'ht', 'num', 'type', 'Unnamed: 64']"
      ]
     },
     "execution_count": 49,
     "metadata": {},
     "output_type": "execute_result"
    }
   ],
   "source": [
    "categorical_cols"
   ]
  },
  {
   "cell_type": "code",
   "execution_count": 4,
   "metadata": {
    "id": "v5PrqFdZB6eN"
   },
   "outputs": [],
   "source": [
    "data = data.set_index('player_name')"
   ]
  },
  {
   "cell_type": "code",
   "execution_count": 5,
   "metadata": {
    "id": "LfpNYS4yAW1z"
   },
   "outputs": [],
   "source": [
    "data = data.drop(['Unnamed: 64', 'Unnamed: 65', 'rimmade+rimmiss', 'midmade+midmiss',\n",
    "       'dunksmiss+dunksmade', 'num', 'type'], axis=1)\n",
    "data_dummies = pd.get_dummies(data)"
   ]
  },
  {
   "cell_type": "code",
   "execution_count": 6,
   "metadata": {
    "id": "ZXJ06qrY_975"
   },
   "outputs": [],
   "source": [
    "y = data_dummies.drafted\n",
    "X = data_dummies.drop('drafted', axis=1)\n",
    "X_train, X_test, y_train, y_test = train_test_split(X, y, test_size=0.4, random_state=45)"
   ]
  },
  {
   "cell_type": "code",
   "execution_count": 55,
   "metadata": {
    "colab": {
     "base_uri": "https://localhost:8080/"
    },
    "id": "9RUy4yTRTo6A",
    "outputId": "bb1edde8-b73a-4568-d465-341a67ac8f66"
   },
   "outputs": [
    {
     "metadata": {
      "tags": null
     },
     "name": "stdout",
     "output_type": "stream",
     "text": [
      "Fitting 3 folds for each of 216 candidates, totalling 648 fits\n",
      "0.23955534969893466 {'bootstrap': True, 'max_depth': 30, 'max_features': 1.0, 'max_leaf_nodes': 500, 'max_samples': 1.0, 'n_estimators': 400}\n"
     ]
    }
   ],
   "source": [
    "params = {'bootstrap': [True],\n",
    "          'n_estimators': [400, 500, 1000],\n",
    "          'max_depth': [20, 30, 40],\n",
    "          'max_features': [0.7, 1.0],\n",
    "          'max_leaf_nodes':[100, 500, 1000],\n",
    "          'max_samples': [0.2, 0.5, 0.7, 1.0]}\n",
    "\n",
    "model_group = GridSearchCV(RandomForestClassifier(random_state=45, n_jobs=-1),\n",
    "                           params, scoring='recall',\n",
    "                           cv=3, n_jobs=-1, verbose=1)\n",
    "\n",
    "model_group.fit(X_train, y_train)\n",
    "print(model_group.best_score_, model_group.best_params_)"
   ]
  },
  {
   "cell_type": "code",
   "execution_count": 59,
   "metadata": {
    "colab": {
     "base_uri": "https://localhost:8080/",
     "height": 645
    },
    "id": "13mgCYqYi9rG",
    "outputId": "dc8e6b69-3391-4a33-cdcc-5d941eac8858"
   },
   "outputs": [
    {
     "data": {
      "image/png": "[encoded data removed]",
      "text/plain": [
       "<Figure size 800x800 with 1 Axes>"
      ]
     },
     "metadata": {},
     "output_type": "display_data"
    }
   ],
   "source": [
    "model = RandomForestClassifier(random_state=45, bootstrap=True,\n",
    "                               n_estimators=400, max_features=1.0, max_samples=1.0,\n",
    "                               max_depth=30, n_jobs=-1, max_leaf_nodes=500)\n",
    "model.fit(X_train, y_train)\n",
    "\n",
    "cross_val_ypred = cross_val_predict(model, X_train, y_train, cv = 5, method = 'predict_proba')\n",
    "p, r, thresholds = precision_recall_curve(y_train, cross_val_ypred[:,1])\n",
    "accuracys = []\n",
    "for threshold in thresholds:\n",
    "    ypred = cross_val_ypred[:,1] > threshold\n",
    "    ypred = ypred.astype(int)\n",
    "    accuracy = accuracy_score(ypred, y_train)\n",
    "    accuracys.append(accuracy)\n",
    "accuracys = np.array(accuracys)     \n",
    "\n",
    "def plot_accuracy_recall_vs_threshold(recalls, precisions, thresholds):\n",
    "    plt.figure(figsize=(8, 8))\n",
    "    plt.title(\"Accuracy, Precision, and Recall Scores as a function of the decision threshold\")\n",
    "    plt.plot(thresholds, accuracys, 'b-', label='Accuracy')\n",
    "    plt.plot(thresholds, recalls[:-1], \"g-\", label=\"Recall\")\n",
    "    plt.plot(thresholds, precisions[:-1], \"r-\", label=\"Precision\")\n",
    "    plt.plot(thresholds, accuracys, 'o', color='blue')\n",
    "    plt.plot(thresholds, recalls[:-1], \"o\", color = 'green')\n",
    "    plt.plot(thresholds, precisions[:-1], \"o\", color='red')\n",
    "    plt.ylabel(\"Score\")\n",
    "    plt.xlabel(\"Decision Threshold\")\n",
    "    plt.legend(loc='best')\n",
    "    plt.legend()\n",
    "plot_accuracy_recall_vs_threshold(r, p, thresholds)"
   ]
  },
  {
   "cell_type": "code",
   "execution_count": 69,
   "metadata": {
    "colab": {
     "base_uri": "https://localhost:8080/"
    },
    "id": "8unTCtH_SEFm",
    "outputId": "1d1a4baf-08ab-484f-b0c3-37ef7a3fa929"
   },
   "outputs": [
    {
     "name": "stdout",
     "output_type": "stream",
     "text": [
      "Train Accuracy:  0.960389294403893\n",
      "Train Recall:  1.0\n",
      "Test Accuracy:  0.9006860980000974\n",
      "Test Recall:  0.8209764918625678\n"
     ]
    }
   ],
   "source": [
    "desired_threshold = 0.05\n",
    "\n",
    "ypred_prob_train = model.predict_proba(X_train)[:,1] \n",
    "ypred_train = ypred_prob_train > desired_threshold\n",
    "ypred_train = ypred_train.astype(int)\n",
    "\n",
    "ypred_prob_test = model.predict_proba(X_test)[:,1] \n",
    "ypred_test = ypred_prob_test > desired_threshold\n",
    "ypred_test = ypred_test.astype(int)\n",
    "\n",
    "print(\"Train Accuracy: \", accuracy_score(y_train, ypred_train))\n",
    "print(\"Train Recall: \", recall_score(y_train, ypred_train))\n",
    "print(\"Test Accuracy: \", accuracy_score(y_test, ypred_test))\n",
    "print(\"Test Recall: \", recall_score(y_test, ypred_test))"
   ]
  },
  {
   "cell_type": "code",
   "execution_count": 75,
   "metadata": {
    "colab": {
     "base_uri": "https://localhost:8080/"
    },
    "id": "pPNX1CeKlfkD",
    "outputId": "aef2c884-8aee-4471-e098-888e575c0b4f"
   },
   "outputs": [
    {
     "name": "stdout",
     "output_type": "stream",
     "text": [
      "Fitting 3 folds for each of 27 candidates, totalling 81 fits\n",
      "0.4018218310946426 {'estimator': DecisionTreeClassifier(max_depth=11), 'learning_rate': 0.02, 'n_estimators': 10}\n"
     ]
    }
   ],
   "source": [
    "params = {'base_estimator': [DecisionTreeClassifier(max_depth=9),\n",
    "                            DecisionTreeClassifier(max_depth=10),\n",
    "                            DecisionTreeClassifier(max_depth=11)],\n",
    "          'n_estimators': [10, 50, 100],\n",
    "          'learning_rate': [0.01, 0.02, 0.03]}\n",
    "\n",
    "model_group = GridSearchCV(AdaBoostClassifier(random_state=45),\n",
    "                           params, scoring='recall',\n",
    "                           cv=3, n_jobs=-1, verbose=1)\n",
    "\n",
    "model_group.fit(X_train, y_train)\n",
    "print(model_group.best_score_, model_group.best_params_)"
   ]
  },
  {
   "cell_type": "code",
   "execution_count": 44,
   "metadata": {
    "colab": {
     "base_uri": "https://localhost:8080/",
     "height": 645
    },
    "id": "ki_WuhnnsnwY",
    "outputId": "df3e2e36-ce68-419a-8f25-73880e4944bc"
   },
   "outputs": [
    {
     "data": {
      "image/png": "[encoded data removed]",
      "text/plain": [
       "<Figure size 576x576 with 1 Axes>"
      ]
     },
     "metadata": {
      "needs_background": "light"
     },
     "output_type": "display_data"
    }
   ],
   "source": [
    "model2 = AdaBoostClassifier(random_state=45, learning_rate=0.02, base_estimator=DecisionTreeClassifier(max_depth=11),\n",
    "                            n_estimators=10)\n",
    "model2.fit(X_train, y_train)\n",
    "\n",
    "cross_val_ypred = cross_val_predict(model2, X_train, y_train, cv = 5, method = 'predict_proba')\n",
    "p, r, thresholds = precision_recall_curve(y_train, cross_val_ypred[:,1])\n",
    "accuracys = []\n",
    "for threshold in thresholds:\n",
    "    ypred = cross_val_ypred[:,1] > threshold\n",
    "    ypred = ypred.astype(int)\n",
    "    accuracy = accuracy_score(ypred, y_train)\n",
    "    accuracys.append(accuracy)\n",
    "accuracys = np.array(accuracys)     \n",
    "\n",
    "def plot_accuracy_recall_vs_threshold(recalls, precisions, thresholds):\n",
    "    plt.figure(figsize=(8, 8))\n",
    "    plt.title(\"Accuracy, Precision, and Recall Scores as a function of the decision threshold\")\n",
    "    plt.plot(thresholds, accuracys, 'b-', label='Accuracy')\n",
    "    plt.plot(thresholds, recalls[:-1], \"g-\", label=\"Recall\")\n",
    "    plt.plot(thresholds, precisions[:-1], \"r-\", label=\"Precision\")\n",
    "    plt.plot(thresholds, accuracys, 'o', color='blue')\n",
    "    plt.plot(thresholds, recalls[:-1], \"o\", color = 'green')\n",
    "    plt.plot(thresholds, precisions[:-1], \"o\", color='red')\n",
    "    plt.ylabel(\"Score\")\n",
    "    plt.xlabel(\"Decision Threshold\")\n",
    "    plt.legend(loc='best')\n",
    "    plt.legend()\n",
    "plot_accuracy_recall_vs_threshold(r, p, thresholds)"
   ]
  },
  {
   "cell_type": "code",
   "execution_count": 45,
   "metadata": {
    "colab": {
     "base_uri": "https://localhost:8080/"
    },
    "id": "N3mCP3cMtfLr",
    "outputId": "90b063a5-3e1b-4242-bf6a-6160a1d556da",
    "scrolled": true
   },
   "outputs": [
    {
     "name": "stdout",
     "output_type": "stream",
     "text": [
      "Train Accuracy:  0.9274614760746147\n",
      "Train Recall:  0.9921465968586387\n",
      "Test Accuracy:  0.8941170745949102\n",
      "Test Recall:  0.5750452079566004\n"
     ]
    }
   ],
   "source": [
    "desired_threshold = 0.01\n",
    "\n",
    "ypred_prob_train = model2.predict_proba(X_train)[:,1] \n",
    "ypred_train = ypred_prob_train > desired_threshold\n",
    "ypred_train = ypred_train.astype(int)\n",
    "\n",
    "ypred_prob_test = model2.predict_proba(X_test)[:,1] \n",
    "ypred_test = ypred_prob_test > desired_threshold\n",
    "ypred_test = ypred_test.astype(int)\n",
    "\n",
    "print(\"Train Accuracy: \", accuracy_score(y_train, ypred_train))\n",
    "print(\"Train Recall: \", recall_score(y_train, ypred_train))\n",
    "print(\"Test Accuracy: \", accuracy_score(y_test, ypred_test))\n",
    "print(\"Test Recall: \", recall_score(y_test, ypred_test))"
   ]
  },
  {
   "cell_type": "code",
   "execution_count": 47,
   "metadata": {},
   "outputs": [
    {
     "data": {
      "text/html": [
       "<div>\n",
       "<style scoped>\n",
       "    .dataframe tbody tr th:only-of-type {\n",
       "        vertical-align: middle;\n",
       "    }\n",
       "\n",
       "    .dataframe tbody tr th {\n",
       "        vertical-align: top;\n",
       "    }\n",
       "\n",
       "    .dataframe thead th {\n",
       "        text-align: right;\n",
       "    }\n",
       "</style>\n",
       "<table border=\"1\" class=\"dataframe\">\n",
       "  <thead>\n",
       "    <tr style=\"text-align: right;\">\n",
       "      <th></th>\n",
       "      <th>Feature Name</th>\n",
       "      <th>Feature Importance</th>\n",
       "    </tr>\n",
       "  </thead>\n",
       "  <tbody>\n",
       "    <tr>\n",
       "      <th>34</th>\n",
       "      <td>dporpag</td>\n",
       "      <td>1.251228e-01</td>\n",
       "    </tr>\n",
       "    <tr>\n",
       "      <th>39</th>\n",
       "      <td>gbpm</td>\n",
       "      <td>7.785921e-02</td>\n",
       "    </tr>\n",
       "    <tr>\n",
       "      <th>23</th>\n",
       "      <td>porpag</td>\n",
       "      <td>6.334323e-02</td>\n",
       "    </tr>\n",
       "    <tr>\n",
       "      <th>448</th>\n",
       "      <td>yr_Fr</td>\n",
       "      <td>3.713105e-02</td>\n",
       "    </tr>\n",
       "    <tr>\n",
       "      <th>31</th>\n",
       "      <td>dunksmade</td>\n",
       "      <td>3.525836e-02</td>\n",
       "    </tr>\n",
       "    <tr>\n",
       "      <th>...</th>\n",
       "      <td>...</td>\n",
       "      <td>...</td>\n",
       "    </tr>\n",
       "    <tr>\n",
       "      <th>459</th>\n",
       "      <td>ht_11-May</td>\n",
       "      <td>4.890667e-18</td>\n",
       "    </tr>\n",
       "    <tr>\n",
       "      <th>208</th>\n",
       "      <td>team_Loyola MD</td>\n",
       "      <td>3.545847e-18</td>\n",
       "    </tr>\n",
       "    <tr>\n",
       "      <th>434</th>\n",
       "      <td>conf_NEC</td>\n",
       "      <td>7.340611e-19</td>\n",
       "    </tr>\n",
       "    <tr>\n",
       "      <th>445</th>\n",
       "      <td>conf_WAC</td>\n",
       "      <td>7.118169e-19</td>\n",
       "    </tr>\n",
       "    <tr>\n",
       "      <th>304</th>\n",
       "      <td>team_Saint Joseph's</td>\n",
       "      <td>1.352477e-19</td>\n",
       "    </tr>\n",
       "  </tbody>\n",
       "</table>\n",
       "<p>204 rows × 2 columns</p>\n",
       "</div>"
      ],
      "text/plain": [
       "            Feature Name  Feature Importance\n",
       "34               dporpag        1.251228e-01\n",
       "39                  gbpm        7.785921e-02\n",
       "23                porpag        6.334323e-02\n",
       "448                yr_Fr        3.713105e-02\n",
       "31             dunksmade        3.525836e-02\n",
       "..                   ...                 ...\n",
       "459            ht_11-May        4.890667e-18\n",
       "208       team_Loyola MD        3.545847e-18\n",
       "434             conf_NEC        7.340611e-19\n",
       "445             conf_WAC        7.118169e-19\n",
       "304  team_Saint Joseph's        1.352477e-19\n",
       "\n",
       "[204 rows x 2 columns]"
      ]
     },
     "execution_count": 47,
     "metadata": {},
     "output_type": "execute_result"
    }
   ],
   "source": [
    "importance = list(model2.feature_importances_)\n",
    "name = list(model2.feature_names_in_)\n",
    "df = pd.DataFrame()\n",
    "df['Feature Name'] = name\n",
    "df['Feature Importance'] = importance\n",
    "df.sort_values(by='Feature Importance', ascending=False).loc[df['Feature Importance']!=0]"
   ]
  },
  {
   "cell_type": "code",
   "execution_count": 48,
   "metadata": {},
   "outputs": [],
   "source": [
    "important_features = list(df.loc[df['Feature Importance']!=0]['Feature Name'])\n",
    "\n",
    "selected_features = data_dummies[important_features]\n",
    "X_train_sel, X_test_sel, y_train, y_test = train_test_split(selected_features, y, test_size=0.4, random_state=45)"
   ]
  },
  {
   "cell_type": "code",
   "execution_count": 49,
   "metadata": {},
   "outputs": [
    {
     "name": "stdout",
     "output_type": "stream",
     "text": [
      "Fitting 5 folds for each of 60 candidates, totalling 300 fits\n",
      "0.3887598899208807 {'base_estimator': DecisionTreeClassifier(max_depth=10), 'learning_rate': 0.015, 'n_estimators': 15}\n"
     ]
    }
   ],
   "source": [
    "params = {'base_estimator':[DecisionTreeClassifier(max_depth=8),\n",
    "                            DecisionTreeClassifier(max_depth=9),\n",
    "                            DecisionTreeClassifier(max_depth=10)],\n",
    "          'n_estimators': [15, 20, 25, 30, 35],\n",
    "          'learning_rate': [0.011, 0.0111, 0.015, 0.02]}\n",
    "\n",
    "model_group = GridSearchCV(AdaBoostClassifier(random_state=45),\n",
    "                           params, scoring='recall',\n",
    "                           cv=5, n_jobs=-1, verbose=1)\n",
    "\n",
    "model_group.fit(X_train_sel, y_train)\n",
    "print(model_group.best_score_, model_group.best_params_)"
   ]
  },
  {
   "cell_type": "code",
   "execution_count": 50,
   "metadata": {},
   "outputs": [
    {
     "data": {
      "image/png": "[encoded data removed]",
      "text/plain": [
       "<Figure size 576x576 with 1 Axes>"
      ]
     },
     "metadata": {
      "needs_background": "light"
     },
     "output_type": "display_data"
    }
   ],
   "source": [
    "model3 = AdaBoostClassifier(random_state=45, learning_rate=0.015, \n",
    "                            base_estimator=DecisionTreeClassifier(max_depth=10),\n",
    "                            n_estimators=15)\n",
    "model3.fit(X_train_sel, y_train)\n",
    "\n",
    "cross_val_ypred = cross_val_predict(model3, X_train_sel, y_train, cv = 5, method = 'predict_proba')\n",
    "p, r, thresholds = precision_recall_curve(y_train, cross_val_ypred[:,1])\n",
    "accuracys = []\n",
    "for threshold in thresholds:\n",
    "    ypred = cross_val_ypred[:,1] > threshold\n",
    "    ypred = ypred.astype(int)\n",
    "    accuracy = accuracy_score(ypred, y_train)\n",
    "    accuracys.append(accuracy)\n",
    "accuracys = np.array(accuracys)     \n",
    "\n",
    "def plot_accuracy_recall_vs_threshold(recalls, precisions, thresholds):\n",
    "    plt.figure(figsize=(8, 8))\n",
    "    plt.title(\"Accuracy, Precision, and Recall Scores as a function of the decision threshold\")\n",
    "    plt.plot(thresholds, accuracys, 'b-', label='Accuracy')\n",
    "    plt.plot(thresholds, recalls[:-1], \"g-\", label=\"Recall\")\n",
    "    plt.plot(thresholds, precisions[:-1], \"r-\", label=\"Precision\")\n",
    "    plt.plot(thresholds, accuracys, 'o', color='blue')\n",
    "    plt.plot(thresholds, recalls[:-1], \"o\", color = 'green')\n",
    "    plt.plot(thresholds, precisions[:-1], \"o\", color='red')\n",
    "    plt.ylabel(\"Score\")\n",
    "    plt.xlabel(\"Decision Threshold\")\n",
    "    plt.legend(loc='best')\n",
    "    plt.legend()\n",
    "plot_accuracy_recall_vs_threshold(r, p, thresholds)"
   ]
  },
  {
   "cell_type": "code",
   "execution_count": 56,
   "metadata": {
    "scrolled": true
   },
   "outputs": [
    {
     "name": "stdout",
     "output_type": "stream",
     "text": [
      "Train Accuracy:  0.840940794809408\n",
      "Train Recall:  0.9908376963350786\n",
      "Test Accuracy:  0.8093523429516812\n",
      "Test Recall:  0.6889692585895117\n"
     ]
    }
   ],
   "source": [
    "desired_threshold = 0.008\n",
    "\n",
    "ypred_prob_train = model3.predict_proba(X_train_sel)[:,1] \n",
    "ypred_train = ypred_prob_train > desired_threshold\n",
    "ypred_train = ypred_train.astype(int)\n",
    "\n",
    "ypred_prob_test = model3.predict_proba(X_test_sel)[:,1] \n",
    "ypred_test = ypred_prob_test > desired_threshold\n",
    "ypred_test = ypred_test.astype(int)\n",
    "\n",
    "print(\"Train Accuracy: \", accuracy_score(y_train, ypred_train))\n",
    "print(\"Train Recall: \", recall_score(y_train, ypred_train))\n",
    "print(\"Test Accuracy: \", accuracy_score(y_test, ypred_test))\n",
    "print(\"Test Recall: \", recall_score(y_test, ypred_test))"
   ]
  },
  {
   "cell_type": "code",
   "execution_count": null,
   "metadata": {},
   "outputs": [],
   "source": []
  }
 ],
 "metadata": {
  "accelerator": "TPU",
  "colab": {
   "authorship_tag": "ABX9TyNjKKiAhvZYrOvKj5a1K7Ds",
   "include_colab_link": true,
   "provenance": []
  },
  "gpuClass": "standard",
  "kernelspec": {
   "display_name": "Python 3 (ipykernel)",
   "language": "python",
   "name": "python3"
  },
  "language_info": {
   "codemirror_mode": {
    "name": "ipython",
    "version": 3
   },
   "file_extension": ".py",
   "mimetype": "text/x-python",
   "name": "python",
   "nbconvert_exporter": "python",
   "pygments_lexer": "ipython3",
   "version": "3.9.12"
  }
 },
 "nbformat": 4,
 "nbformat_minor": 1
}
