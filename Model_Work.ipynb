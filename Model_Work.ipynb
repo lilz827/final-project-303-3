{
  "nbformat": 4,
  "nbformat_minor": 0,
  "metadata": {
    "colab": {
      "provenance": [],
      "authorship_tag": "ABX9TyPjxgOSj/Ah2EUVYa2Dzf3q",
      "include_colab_link": true
    },
    "kernelspec": {
      "name": "python3",
      "display_name": "Python 3"
    },
    "language_info": {
      "name": "python"
    },
    "gpuClass": "standard"
  },
  "cells": [
    {
      "cell_type": "markdown",
      "metadata": {
        "id": "view-in-github",
        "colab_type": "text"
      },
      "source": [
        "<a href=\"https://colab.research.google.com/github/lilz827/final-project-303-3/blob/main/Model_Work.ipynb\" target=\"_parent\"><img src=\"https://colab.research.google.com/assets/colab-badge.svg\" alt=\"Open In Colab\"/></a>"
      ]
    },
    {
      "cell_type": "code",
      "execution_count": 12,
      "metadata": {
        "id": "SIvVdiwS-6uX"
      },
      "outputs": [],
      "source": [
        "import pandas as pd\n",
        "import numpy as np\n",
        "import seaborn as sns\n",
        "import matplotlib.pyplot as plt\n",
        "from sklearn.model_selection import cross_val_score, cross_val_predict\n",
        "from sklearn.model_selection import KFold, train_test_split\n",
        "from sklearn.preprocessing import StandardScaler\n",
        "from sklearn.tree import DecisionTreeClassifier\n",
        "from sklearn.model_selection import GridSearchCV, ParameterGrid\n",
        "from sklearn.ensemble import BaggingClassifier, RandomForestClassifier, AdaBoostClassifier, GradientBoostingClassifier\n",
        "from sklearn.neighbors import KNeighborsClassifier\n",
        "from sklearn.metrics import accuracy_score, recall_score, precision_recall_curve"
      ]
    },
    {
      "cell_type": "code",
      "source": [
        "data = pd.read_csv('stats_unique_no_missing.csv')\n",
        "data.head()"
      ],
      "metadata": {
        "colab": {
          "base_uri": "https://localhost:8080/",
          "height": 352
        },
        "id": "sg2h9NJX_Q3R",
        "outputId": "e79d4d37-6154-42ce-8576-1ef592265334"
      },
      "execution_count": 3,
      "outputs": [
        {
          "output_type": "execute_result",
          "data": {
            "text/plain": [
              "   Unnamed: 0    player_name               team  conf  GP  Min_per   Ortg  \\\n",
              "0        4589  Pooh Williams           Utah St.   WAC  32     64.0  108.3   \n",
              "1        4590   Nick Rodgers             Butler  Horz  11      1.0  121.1   \n",
              "2        4591     Dana Smith           Longwood   ind  27     81.8   99.8   \n",
              "3        4594  Carlos Strong  Boston University    AE  35     76.2  118.1   \n",
              "4        4595  Sherrod Smith  Boston University    AE  29      9.5   60.7   \n",
              "\n",
              "    usg   eFG  TS_per  ...    oreb    dreb    treb     ast     stl     blk  \\\n",
              "0  18.1  53.0   53.33  ...  0.4688  1.3750  1.8438  2.1875  0.5938  0.2188   \n",
              "1  16.8  75.0   75.00  ...  0.0000  0.0000  0.0000  0.0909  0.0000  0.0000   \n",
              "2  27.7  49.9   53.76  ...  2.1481  4.9259  7.0741  2.4074  0.8148  0.4815   \n",
              "3  16.4  58.8   60.93  ...  1.3429  3.2286  4.5714  1.8000  1.6571  0.4000   \n",
              "4   6.9   8.3   14.93  ...  0.1379  0.5862  0.7241  0.2069  0.1034  0.0345   \n",
              "\n",
              "       pts  Unnamed: 64  Unnamed: 65  drafted  \n",
              "0   8.7812      Combo G     7.300850      0.0  \n",
              "1   0.5455      Pure PG    12.267400      0.0  \n",
              "2  17.5556       Wing F     5.581250      0.0  \n",
              "3  10.8571      Combo G     6.583070      0.0  \n",
              "4   0.1724       Wing G     0.844851      0.0  \n",
              "\n",
              "[5 rows x 63 columns]"
            ],
            "text/html": [
              "\n",
              "  <div id=\"df-5b3072fa-0618-4215-9514-a9289929359f\">\n",
              "    <div class=\"colab-df-container\">\n",
              "      <div>\n",
              "<style scoped>\n",
              "    .dataframe tbody tr th:only-of-type {\n",
              "        vertical-align: middle;\n",
              "    }\n",
              "\n",
              "    .dataframe tbody tr th {\n",
              "        vertical-align: top;\n",
              "    }\n",
              "\n",
              "    .dataframe thead th {\n",
              "        text-align: right;\n",
              "    }\n",
              "</style>\n",
              "<table border=\"1\" class=\"dataframe\">\n",
              "  <thead>\n",
              "    <tr style=\"text-align: right;\">\n",
              "      <th></th>\n",
              "      <th>Unnamed: 0</th>\n",
              "      <th>player_name</th>\n",
              "      <th>team</th>\n",
              "      <th>conf</th>\n",
              "      <th>GP</th>\n",
              "      <th>Min_per</th>\n",
              "      <th>Ortg</th>\n",
              "      <th>usg</th>\n",
              "      <th>eFG</th>\n",
              "      <th>TS_per</th>\n",
              "      <th>...</th>\n",
              "      <th>oreb</th>\n",
              "      <th>dreb</th>\n",
              "      <th>treb</th>\n",
              "      <th>ast</th>\n",
              "      <th>stl</th>\n",
              "      <th>blk</th>\n",
              "      <th>pts</th>\n",
              "      <th>Unnamed: 64</th>\n",
              "      <th>Unnamed: 65</th>\n",
              "      <th>drafted</th>\n",
              "    </tr>\n",
              "  </thead>\n",
              "  <tbody>\n",
              "    <tr>\n",
              "      <th>0</th>\n",
              "      <td>4589</td>\n",
              "      <td>Pooh Williams</td>\n",
              "      <td>Utah St.</td>\n",
              "      <td>WAC</td>\n",
              "      <td>32</td>\n",
              "      <td>64.0</td>\n",
              "      <td>108.3</td>\n",
              "      <td>18.1</td>\n",
              "      <td>53.0</td>\n",
              "      <td>53.33</td>\n",
              "      <td>...</td>\n",
              "      <td>0.4688</td>\n",
              "      <td>1.3750</td>\n",
              "      <td>1.8438</td>\n",
              "      <td>2.1875</td>\n",
              "      <td>0.5938</td>\n",
              "      <td>0.2188</td>\n",
              "      <td>8.7812</td>\n",
              "      <td>Combo G</td>\n",
              "      <td>7.300850</td>\n",
              "      <td>0.0</td>\n",
              "    </tr>\n",
              "    <tr>\n",
              "      <th>1</th>\n",
              "      <td>4590</td>\n",
              "      <td>Nick Rodgers</td>\n",
              "      <td>Butler</td>\n",
              "      <td>Horz</td>\n",
              "      <td>11</td>\n",
              "      <td>1.0</td>\n",
              "      <td>121.1</td>\n",
              "      <td>16.8</td>\n",
              "      <td>75.0</td>\n",
              "      <td>75.00</td>\n",
              "      <td>...</td>\n",
              "      <td>0.0000</td>\n",
              "      <td>0.0000</td>\n",
              "      <td>0.0000</td>\n",
              "      <td>0.0909</td>\n",
              "      <td>0.0000</td>\n",
              "      <td>0.0000</td>\n",
              "      <td>0.5455</td>\n",
              "      <td>Pure PG</td>\n",
              "      <td>12.267400</td>\n",
              "      <td>0.0</td>\n",
              "    </tr>\n",
              "    <tr>\n",
              "      <th>2</th>\n",
              "      <td>4591</td>\n",
              "      <td>Dana Smith</td>\n",
              "      <td>Longwood</td>\n",
              "      <td>ind</td>\n",
              "      <td>27</td>\n",
              "      <td>81.8</td>\n",
              "      <td>99.8</td>\n",
              "      <td>27.7</td>\n",
              "      <td>49.9</td>\n",
              "      <td>53.76</td>\n",
              "      <td>...</td>\n",
              "      <td>2.1481</td>\n",
              "      <td>4.9259</td>\n",
              "      <td>7.0741</td>\n",
              "      <td>2.4074</td>\n",
              "      <td>0.8148</td>\n",
              "      <td>0.4815</td>\n",
              "      <td>17.5556</td>\n",
              "      <td>Wing F</td>\n",
              "      <td>5.581250</td>\n",
              "      <td>0.0</td>\n",
              "    </tr>\n",
              "    <tr>\n",
              "      <th>3</th>\n",
              "      <td>4594</td>\n",
              "      <td>Carlos Strong</td>\n",
              "      <td>Boston University</td>\n",
              "      <td>AE</td>\n",
              "      <td>35</td>\n",
              "      <td>76.2</td>\n",
              "      <td>118.1</td>\n",
              "      <td>16.4</td>\n",
              "      <td>58.8</td>\n",
              "      <td>60.93</td>\n",
              "      <td>...</td>\n",
              "      <td>1.3429</td>\n",
              "      <td>3.2286</td>\n",
              "      <td>4.5714</td>\n",
              "      <td>1.8000</td>\n",
              "      <td>1.6571</td>\n",
              "      <td>0.4000</td>\n",
              "      <td>10.8571</td>\n",
              "      <td>Combo G</td>\n",
              "      <td>6.583070</td>\n",
              "      <td>0.0</td>\n",
              "    </tr>\n",
              "    <tr>\n",
              "      <th>4</th>\n",
              "      <td>4595</td>\n",
              "      <td>Sherrod Smith</td>\n",
              "      <td>Boston University</td>\n",
              "      <td>AE</td>\n",
              "      <td>29</td>\n",
              "      <td>9.5</td>\n",
              "      <td>60.7</td>\n",
              "      <td>6.9</td>\n",
              "      <td>8.3</td>\n",
              "      <td>14.93</td>\n",
              "      <td>...</td>\n",
              "      <td>0.1379</td>\n",
              "      <td>0.5862</td>\n",
              "      <td>0.7241</td>\n",
              "      <td>0.2069</td>\n",
              "      <td>0.1034</td>\n",
              "      <td>0.0345</td>\n",
              "      <td>0.1724</td>\n",
              "      <td>Wing G</td>\n",
              "      <td>0.844851</td>\n",
              "      <td>0.0</td>\n",
              "    </tr>\n",
              "  </tbody>\n",
              "</table>\n",
              "<p>5 rows × 63 columns</p>\n",
              "</div>\n",
              "      <button class=\"colab-df-convert\" onclick=\"convertToInteractive('df-5b3072fa-0618-4215-9514-a9289929359f')\"\n",
              "              title=\"Convert this dataframe to an interactive table.\"\n",
              "              style=\"display:none;\">\n",
              "        \n",
              "  <svg xmlns=\"http://www.w3.org/2000/svg\" height=\"24px\"viewBox=\"0 0 24 24\"\n",
              "       width=\"24px\">\n",
              "    <path d=\"M0 0h24v24H0V0z\" fill=\"none\"/>\n",
              "    <path d=\"M18.56 5.44l.94 2.06.94-2.06 2.06-.94-2.06-.94-.94-2.06-.94 2.06-2.06.94zm-11 1L8.5 8.5l.94-2.06 2.06-.94-2.06-.94L8.5 2.5l-.94 2.06-2.06.94zm10 10l.94 2.06.94-2.06 2.06-.94-2.06-.94-.94-2.06-.94 2.06-2.06.94z\"/><path d=\"M17.41 7.96l-1.37-1.37c-.4-.4-.92-.59-1.43-.59-.52 0-1.04.2-1.43.59L10.3 9.45l-7.72 7.72c-.78.78-.78 2.05 0 2.83L4 21.41c.39.39.9.59 1.41.59.51 0 1.02-.2 1.41-.59l7.78-7.78 2.81-2.81c.8-.78.8-2.07 0-2.86zM5.41 20L4 18.59l7.72-7.72 1.47 1.35L5.41 20z\"/>\n",
              "  </svg>\n",
              "      </button>\n",
              "      \n",
              "  <style>\n",
              "    .colab-df-container {\n",
              "      display:flex;\n",
              "      flex-wrap:wrap;\n",
              "      gap: 12px;\n",
              "    }\n",
              "\n",
              "    .colab-df-convert {\n",
              "      background-color: #E8F0FE;\n",
              "      border: none;\n",
              "      border-radius: 50%;\n",
              "      cursor: pointer;\n",
              "      display: none;\n",
              "      fill: #1967D2;\n",
              "      height: 32px;\n",
              "      padding: 0 0 0 0;\n",
              "      width: 32px;\n",
              "    }\n",
              "\n",
              "    .colab-df-convert:hover {\n",
              "      background-color: #E2EBFA;\n",
              "      box-shadow: 0px 1px 2px rgba(60, 64, 67, 0.3), 0px 1px 3px 1px rgba(60, 64, 67, 0.15);\n",
              "      fill: #174EA6;\n",
              "    }\n",
              "\n",
              "    [theme=dark] .colab-df-convert {\n",
              "      background-color: #3B4455;\n",
              "      fill: #D2E3FC;\n",
              "    }\n",
              "\n",
              "    [theme=dark] .colab-df-convert:hover {\n",
              "      background-color: #434B5C;\n",
              "      box-shadow: 0px 1px 3px 1px rgba(0, 0, 0, 0.15);\n",
              "      filter: drop-shadow(0px 1px 2px rgba(0, 0, 0, 0.3));\n",
              "      fill: #FFFFFF;\n",
              "    }\n",
              "  </style>\n",
              "\n",
              "      <script>\n",
              "        const buttonEl =\n",
              "          document.querySelector('#df-5b3072fa-0618-4215-9514-a9289929359f button.colab-df-convert');\n",
              "        buttonEl.style.display =\n",
              "          google.colab.kernel.accessAllowed ? 'block' : 'none';\n",
              "\n",
              "        async function convertToInteractive(key) {\n",
              "          const element = document.querySelector('#df-5b3072fa-0618-4215-9514-a9289929359f');\n",
              "          const dataTable =\n",
              "            await google.colab.kernel.invokeFunction('convertToInteractive',\n",
              "                                                     [key], {});\n",
              "          if (!dataTable) return;\n",
              "\n",
              "          const docLinkHtml = 'Like what you see? Visit the ' +\n",
              "            '<a target=\"_blank\" href=https://colab.research.google.com/notebooks/data_table.ipynb>data table notebook</a>'\n",
              "            + ' to learn more about interactive tables.';\n",
              "          element.innerHTML = '';\n",
              "          dataTable['output_type'] = 'display_data';\n",
              "          await google.colab.output.renderOutput(dataTable, element);\n",
              "          const docLink = document.createElement('div');\n",
              "          docLink.innerHTML = docLinkHtml;\n",
              "          element.appendChild(docLink);\n",
              "        }\n",
              "      </script>\n",
              "    </div>\n",
              "  </div>\n",
              "  "
            ]
          },
          "metadata": {},
          "execution_count": 3
        }
      ]
    },
    {
      "cell_type": "code",
      "source": [
        "cols = list(data.columns)\n",
        "categorical_cols = []\n",
        "numerical_cols = []\n",
        "for item in cols:\n",
        "  if data[item].dtype == object:\n",
        "    categorical_cols.append(item)\n",
        "  else:\n",
        "    numerical_cols.append(item)"
      ],
      "metadata": {
        "id": "tnd9Rp9CBfL4"
      },
      "execution_count": 4,
      "outputs": []
    },
    {
      "cell_type": "code",
      "source": [
        "categorical_cols"
      ],
      "metadata": {
        "colab": {
          "base_uri": "https://localhost:8080/"
        },
        "id": "TBEs_j0hBgDa",
        "outputId": "673d13c3-dd13-4a6d-d2ab-68a497805f3d"
      },
      "execution_count": 5,
      "outputs": [
        {
          "output_type": "execute_result",
          "data": {
            "text/plain": [
              "['player_name', 'team', 'conf', 'yr', 'ht', 'num', 'type', 'Unnamed: 64']"
            ]
          },
          "metadata": {},
          "execution_count": 5
        }
      ]
    },
    {
      "cell_type": "code",
      "source": [
        "data = data.set_index('player_name')"
      ],
      "metadata": {
        "id": "v5PrqFdZB6eN"
      },
      "execution_count": 6,
      "outputs": []
    },
    {
      "cell_type": "code",
      "source": [
        "data = data.drop(['Unnamed: 64', 'Unnamed: 65', 'rimmade+rimmiss', 'midmade+midmiss',\n",
        "       'dunksmiss+dunksmade', 'num', 'type'], axis=1)\n",
        "data_dummies = pd.get_dummies(data)"
      ],
      "metadata": {
        "id": "LfpNYS4yAW1z"
      },
      "execution_count": 7,
      "outputs": []
    },
    {
      "cell_type": "code",
      "source": [
        "y = data_dummies.drafted\n",
        "X = data_dummies.drop('drafted', axis=1)\n",
        "X_train, X_test, y_train, y_test = train_test_split(X, y, test_size=0.4, random_state=45)"
      ],
      "metadata": {
        "id": "ZXJ06qrY_975"
      },
      "execution_count": 8,
      "outputs": []
    },
    {
      "cell_type": "code",
      "source": [
        "params = {'n_estimators': [200, 300, 400],\n",
        "          'max_depth': [5, 10, 20],\n",
        "          'max_features': [0.1, 0.5, 1.0],\n",
        "          'max_leaf_nodes':[1100,1200,1300],\n",
        "          'bootstrap': [True, False]}\n",
        "\n",
        "model_group = GridSearchCV(RandomForestClassifier(random_state=45, n_jobs=-1),\n",
        "                           params, scoring='recall',\n",
        "                           cv=3, n_jobs=-1, verbose=1)\n",
        "\n",
        "model_group.fit(X_train, y_train)\n",
        "print(model_group.best_score_, model_group.best_params_)"
      ],
      "metadata": {
        "colab": {
          "base_uri": "https://localhost:8080/"
        },
        "id": "BhlsrvHL_vU_",
        "outputId": "f106d87d-252b-4b38-f87c-c920b8e367ec"
      },
      "execution_count": 9,
      "outputs": [
        {
          "output_type": "stream",
          "name": "stdout",
          "text": [
            "Fitting 3 folds for each of 162 candidates, totalling 486 fits\n",
            "0.3180381864031702 {'bootstrap': False, 'max_depth': 20, 'max_features': 1.0, 'max_leaf_nodes': 1100, 'n_estimators': 400}\n"
          ]
        }
      ]
    },
    {
      "cell_type": "code",
      "source": [
        "model = RandomForestClassifier(random_state=45, bootstrap=False,\n",
        "                               n_estimators=400, max_features=1.0,\n",
        "                               max_depth=20, n_jobs=-1, max_leaf_nodes=1100)\n",
        "model.fit(X_train, y_train)\n",
        "\n",
        "cross_val_ypred = cross_val_predict(model, X_train, y_train, cv = 5, method = 'predict_proba')\n",
        "p, r, thresholds = precision_recall_curve(y_train, cross_val_ypred[:,1])\n",
        "accuracys = []\n",
        "for threshold in thresholds:\n",
        "    ypred = cross_val_ypred[:,1] > threshold\n",
        "    ypred = ypred.astype(int)\n",
        "    accuracy = accuracy_score(ypred, y_train)\n",
        "    accuracys.append(accuracy)\n",
        "accuracys = np.array(accuracys)     \n",
        "\n",
        "def plot_accuracy_recall_vs_threshold(recalls, thresholds):\n",
        "    plt.figure(figsize=(8, 8))\n",
        "    plt.title(\"Accuracy and Recall Scores as a function of the decision threshold\")\n",
        "    plt.plot(thresholds, accuracys, 'b-', label='Accuracy')\n",
        "    plt.plot(thresholds, recalls[:-1], \"g-\", label=\"Recall\")\n",
        "    plt.plot(thresholds, accuracys, 'o', color='blue')\n",
        "    plt.plot(thresholds, recalls[:-1], \"o\", color = 'green')\n",
        "    plt.ylabel(\"Score\")\n",
        "    plt.xlabel(\"Decision Threshold\")\n",
        "    plt.legend(loc='best')\n",
        "    plt.legend()\n",
        "plot_accuracy_recall_vs_threshold(r, thresholds)"
      ],
      "metadata": {
        "colab": {
          "base_uri": "https://localhost:8080/",
          "height": 718
        },
        "id": "EzVrQkDEGYZO",
        "outputId": "066a7c82-9371-4738-d365-e931e4027e2c"
      },
      "execution_count": 16,
      "outputs": [
        {
          "output_type": "display_data",
          "data": {
            "text/plain": [
              "<Figure size 800x800 with 1 Axes>"
            ],
            "image/png": "[encoded data removed]"
          },
          "metadata": {}
        }
      ]
    },
    {
      "cell_type": "code",
      "source": [
        "desired_threshold = 0.004\n",
        "\n",
        "ypred_prob_train = model.predict_proba(X_train)[:,1] \n",
        "ypred_train = ypred_prob_train > desired_threshold\n",
        "ypred_train = ypred_train.astype(int)\n",
        "\n",
        "ypred_prob_test = model.predict_proba(X_test)[:,1] \n",
        "ypred_test = ypred_prob_test > desired_threshold\n",
        "ypred_test = ypred_test.astype(int)\n",
        "\n",
        "print(\"Train Accuracy: \", accuracy_score(y_train, ypred_train))\n",
        "print(\"Train Recall: \", recall_score(y_train, ypred_train))\n",
        "print(\"Test Accuracy: \", accuracy_score(y_test, ypred_test))\n",
        "print(\"Test Recall: \", recall_score(y_test, ypred_test))"
      ],
      "metadata": {
        "colab": {
          "base_uri": "https://localhost:8080/"
        },
        "id": "8unTCtH_SEFm",
        "outputId": "97d60e9f-c929-4317-cfbf-abeaa966e377"
      },
      "execution_count": 31,
      "outputs": [
        {
          "output_type": "stream",
          "name": "stdout",
          "text": [
            "Train Accuracy:  0.8441200324412004\n",
            "Train Recall:  0.9698952879581152\n",
            "Test Accuracy:  0.8139263296189967\n",
            "Test Recall:  0.5551537070524413\n"
          ]
        }
      ]
    }
  ]
}