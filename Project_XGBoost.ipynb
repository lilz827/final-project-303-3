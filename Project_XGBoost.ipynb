{
 "cells": [
  {
   "cell_type": "code",
   "execution_count": null,
   "metadata": {
    "id": "1mb6NmX2cucm"
   },
   "outputs": [],
   "source": [
    "!git clone --single-branch --branch v0.2dev https://github.com/scikit-learn-contrib/py-earth.git\n",
    "%cd py-earth\n",
    "!python setup.py install --cythonize"
   ]
  },
  {
   "cell_type": "code",
   "execution_count": 69,
   "metadata": {
    "id": "b4pddXmlcgWG"
   },
   "outputs": [],
   "source": [
    "import pandas as pd\n",
    "import numpy as np\n",
    "import seaborn as sns\n",
    "import matplotlib.pyplot as plt\n",
    "from sklearn.model_selection import cross_val_score, cross_val_predict\n",
    "from sklearn.model_selection import KFold, train_test_split, StratifiedKFold\n",
    "from sklearn.preprocessing import StandardScaler\n",
    "from sklearn.tree import DecisionTreeClassifier\n",
    "from sklearn.model_selection import GridSearchCV, ParameterGrid, RandomizedSearchCV\n",
    "from sklearn.ensemble import BaggingClassifier, RandomForestClassifier, AdaBoostClassifier, GradientBoostingClassifier\n",
    "from sklearn.neighbors import KNeighborsClassifier\n",
    "from sklearn.metrics import roc_curve, precision_recall_curve, auc, make_scorer, recall_score, \\\n",
    "accuracy_score, precision_score, confusion_matrix, mean_squared_error, r2_score, mean_absolute_error\n",
    "from pyearth import Earth\n",
    "from xgboost import XGBClassifier\n",
    "import time"
   ]
  },
  {
   "cell_type": "code",
   "execution_count": null,
   "metadata": {
    "colab": {
     "base_uri": "https://localhost:8080/",
     "height": 331
    },
    "id": "kxtEwOxydOyn",
    "outputId": "6bc7a339-e484-4cc6-b9a6-c64c96649c27"
   },
   "outputs": [
    {
     "data": {
      "text/html": [
       "\n",
       "  <div id=\"df-87c98013-f486-4ddd-8cb7-7084cfe78696\">\n",
       "    <div class=\"colab-df-container\">\n",
       "      <div>\n",
       "<style scoped>\n",
       "    .dataframe tbody tr th:only-of-type {\n",
       "        vertical-align: middle;\n",
       "    }\n",
       "\n",
       "    .dataframe tbody tr th {\n",
       "        vertical-align: top;\n",
       "    }\n",
       "\n",
       "    .dataframe thead th {\n",
       "        text-align: right;\n",
       "    }\n",
       "</style>\n",
       "<table border=\"1\" class=\"dataframe\">\n",
       "  <thead>\n",
       "    <tr style=\"text-align: right;\">\n",
       "      <th></th>\n",
       "      <th>Unnamed: 0</th>\n",
       "      <th>player_name</th>\n",
       "      <th>team</th>\n",
       "      <th>conf</th>\n",
       "      <th>GP</th>\n",
       "      <th>Min_per</th>\n",
       "      <th>Ortg</th>\n",
       "      <th>usg</th>\n",
       "      <th>eFG</th>\n",
       "      <th>TS_per</th>\n",
       "      <th>...</th>\n",
       "      <th>oreb</th>\n",
       "      <th>dreb</th>\n",
       "      <th>treb</th>\n",
       "      <th>ast</th>\n",
       "      <th>stl</th>\n",
       "      <th>blk</th>\n",
       "      <th>pts</th>\n",
       "      <th>Unnamed: 64</th>\n",
       "      <th>Unnamed: 65</th>\n",
       "      <th>drafted</th>\n",
       "    </tr>\n",
       "  </thead>\n",
       "  <tbody>\n",
       "    <tr>\n",
       "      <th>0</th>\n",
       "      <td>4589</td>\n",
       "      <td>Pooh Williams</td>\n",
       "      <td>Utah St.</td>\n",
       "      <td>WAC</td>\n",
       "      <td>32</td>\n",
       "      <td>64.0</td>\n",
       "      <td>108.3</td>\n",
       "      <td>18.1</td>\n",
       "      <td>53.0</td>\n",
       "      <td>53.33</td>\n",
       "      <td>...</td>\n",
       "      <td>0.4688</td>\n",
       "      <td>1.3750</td>\n",
       "      <td>1.8438</td>\n",
       "      <td>2.1875</td>\n",
       "      <td>0.5938</td>\n",
       "      <td>0.2188</td>\n",
       "      <td>8.7812</td>\n",
       "      <td>Combo G</td>\n",
       "      <td>7.300850</td>\n",
       "      <td>0.0</td>\n",
       "    </tr>\n",
       "    <tr>\n",
       "      <th>1</th>\n",
       "      <td>4590</td>\n",
       "      <td>Nick Rodgers</td>\n",
       "      <td>Butler</td>\n",
       "      <td>Horz</td>\n",
       "      <td>11</td>\n",
       "      <td>1.0</td>\n",
       "      <td>121.1</td>\n",
       "      <td>16.8</td>\n",
       "      <td>75.0</td>\n",
       "      <td>75.00</td>\n",
       "      <td>...</td>\n",
       "      <td>0.0000</td>\n",
       "      <td>0.0000</td>\n",
       "      <td>0.0000</td>\n",
       "      <td>0.0909</td>\n",
       "      <td>0.0000</td>\n",
       "      <td>0.0000</td>\n",
       "      <td>0.5455</td>\n",
       "      <td>Pure PG</td>\n",
       "      <td>12.267400</td>\n",
       "      <td>0.0</td>\n",
       "    </tr>\n",
       "    <tr>\n",
       "      <th>2</th>\n",
       "      <td>4591</td>\n",
       "      <td>Dana Smith</td>\n",
       "      <td>Longwood</td>\n",
       "      <td>ind</td>\n",
       "      <td>27</td>\n",
       "      <td>81.8</td>\n",
       "      <td>99.8</td>\n",
       "      <td>27.7</td>\n",
       "      <td>49.9</td>\n",
       "      <td>53.76</td>\n",
       "      <td>...</td>\n",
       "      <td>2.1481</td>\n",
       "      <td>4.9259</td>\n",
       "      <td>7.0741</td>\n",
       "      <td>2.4074</td>\n",
       "      <td>0.8148</td>\n",
       "      <td>0.4815</td>\n",
       "      <td>17.5556</td>\n",
       "      <td>Wing F</td>\n",
       "      <td>5.581250</td>\n",
       "      <td>0.0</td>\n",
       "    </tr>\n",
       "    <tr>\n",
       "      <th>3</th>\n",
       "      <td>4594</td>\n",
       "      <td>Carlos Strong</td>\n",
       "      <td>Boston University</td>\n",
       "      <td>AE</td>\n",
       "      <td>35</td>\n",
       "      <td>76.2</td>\n",
       "      <td>118.1</td>\n",
       "      <td>16.4</td>\n",
       "      <td>58.8</td>\n",
       "      <td>60.93</td>\n",
       "      <td>...</td>\n",
       "      <td>1.3429</td>\n",
       "      <td>3.2286</td>\n",
       "      <td>4.5714</td>\n",
       "      <td>1.8000</td>\n",
       "      <td>1.6571</td>\n",
       "      <td>0.4000</td>\n",
       "      <td>10.8571</td>\n",
       "      <td>Combo G</td>\n",
       "      <td>6.583070</td>\n",
       "      <td>0.0</td>\n",
       "    </tr>\n",
       "    <tr>\n",
       "      <th>4</th>\n",
       "      <td>4595</td>\n",
       "      <td>Sherrod Smith</td>\n",
       "      <td>Boston University</td>\n",
       "      <td>AE</td>\n",
       "      <td>29</td>\n",
       "      <td>9.5</td>\n",
       "      <td>60.7</td>\n",
       "      <td>6.9</td>\n",
       "      <td>8.3</td>\n",
       "      <td>14.93</td>\n",
       "      <td>...</td>\n",
       "      <td>0.1379</td>\n",
       "      <td>0.5862</td>\n",
       "      <td>0.7241</td>\n",
       "      <td>0.2069</td>\n",
       "      <td>0.1034</td>\n",
       "      <td>0.0345</td>\n",
       "      <td>0.1724</td>\n",
       "      <td>Wing G</td>\n",
       "      <td>0.844851</td>\n",
       "      <td>0.0</td>\n",
       "    </tr>\n",
       "  </tbody>\n",
       "</table>\n",
       "<p>5 rows × 63 columns</p>\n",
       "</div>\n",
       "      <button class=\"colab-df-convert\" onclick=\"convertToInteractive('df-87c98013-f486-4ddd-8cb7-7084cfe78696')\"\n",
       "              title=\"Convert this dataframe to an interactive table.\"\n",
       "              style=\"display:none;\">\n",
       "        \n",
       "  <svg xmlns=\"http://www.w3.org/2000/svg\" height=\"24px\"viewBox=\"0 0 24 24\"\n",
       "       width=\"24px\">\n",
       "    <path d=\"M0 0h24v24H0V0z\" fill=\"none\"/>\n",
       "    <path d=\"M18.56 5.44l.94 2.06.94-2.06 2.06-.94-2.06-.94-.94-2.06-.94 2.06-2.06.94zm-11 1L8.5 8.5l.94-2.06 2.06-.94-2.06-.94L8.5 2.5l-.94 2.06-2.06.94zm10 10l.94 2.06.94-2.06 2.06-.94-2.06-.94-.94-2.06-.94 2.06-2.06.94z\"/><path d=\"M17.41 7.96l-1.37-1.37c-.4-.4-.92-.59-1.43-.59-.52 0-1.04.2-1.43.59L10.3 9.45l-7.72 7.72c-.78.78-.78 2.05 0 2.83L4 21.41c.39.39.9.59 1.41.59.51 0 1.02-.2 1.41-.59l7.78-7.78 2.81-2.81c.8-.78.8-2.07 0-2.86zM5.41 20L4 18.59l7.72-7.72 1.47 1.35L5.41 20z\"/>\n",
       "  </svg>\n",
       "      </button>\n",
       "      \n",
       "  <style>\n",
       "    .colab-df-container {\n",
       "      display:flex;\n",
       "      flex-wrap:wrap;\n",
       "      gap: 12px;\n",
       "    }\n",
       "\n",
       "    .colab-df-convert {\n",
       "      background-color: #E8F0FE;\n",
       "      border: none;\n",
       "      border-radius: 50%;\n",
       "      cursor: pointer;\n",
       "      display: none;\n",
       "      fill: #1967D2;\n",
       "      height: 32px;\n",
       "      padding: 0 0 0 0;\n",
       "      width: 32px;\n",
       "    }\n",
       "\n",
       "    .colab-df-convert:hover {\n",
       "      background-color: #E2EBFA;\n",
       "      box-shadow: 0px 1px 2px rgba(60, 64, 67, 0.3), 0px 1px 3px 1px rgba(60, 64, 67, 0.15);\n",
       "      fill: #174EA6;\n",
       "    }\n",
       "\n",
       "    [theme=dark] .colab-df-convert {\n",
       "      background-color: #3B4455;\n",
       "      fill: #D2E3FC;\n",
       "    }\n",
       "\n",
       "    [theme=dark] .colab-df-convert:hover {\n",
       "      background-color: #434B5C;\n",
       "      box-shadow: 0px 1px 3px 1px rgba(0, 0, 0, 0.15);\n",
       "      filter: drop-shadow(0px 1px 2px rgba(0, 0, 0, 0.3));\n",
       "      fill: #FFFFFF;\n",
       "    }\n",
       "  </style>\n",
       "\n",
       "      <script>\n",
       "        const buttonEl =\n",
       "          document.querySelector('#df-87c98013-f486-4ddd-8cb7-7084cfe78696 button.colab-df-convert');\n",
       "        buttonEl.style.display =\n",
       "          google.colab.kernel.accessAllowed ? 'block' : 'none';\n",
       "\n",
       "        async function convertToInteractive(key) {\n",
       "          const element = document.querySelector('#df-87c98013-f486-4ddd-8cb7-7084cfe78696');\n",
       "          const dataTable =\n",
       "            await google.colab.kernel.invokeFunction('convertToInteractive',\n",
       "                                                     [key], {});\n",
       "          if (!dataTable) return;\n",
       "\n",
       "          const docLinkHtml = 'Like what you see? Visit the ' +\n",
       "            '<a target=\"_blank\" href=https://colab.research.google.com/notebooks/data_table.ipynb>data table notebook</a>'\n",
       "            + ' to learn more about interactive tables.';\n",
       "          element.innerHTML = '';\n",
       "          dataTable['output_type'] = 'display_data';\n",
       "          await google.colab.output.renderOutput(dataTable, element);\n",
       "          const docLink = document.createElement('div');\n",
       "          docLink.innerHTML = docLinkHtml;\n",
       "          element.appendChild(docLink);\n",
       "        }\n",
       "      </script>\n",
       "    </div>\n",
       "  </div>\n",
       "  "
      ],
      "text/plain": [
       "   Unnamed: 0    player_name               team  conf  GP  Min_per   Ortg  \\\n",
       "0        4589  Pooh Williams           Utah St.   WAC  32     64.0  108.3   \n",
       "1        4590   Nick Rodgers             Butler  Horz  11      1.0  121.1   \n",
       "2        4591     Dana Smith           Longwood   ind  27     81.8   99.8   \n",
       "3        4594  Carlos Strong  Boston University    AE  35     76.2  118.1   \n",
       "4        4595  Sherrod Smith  Boston University    AE  29      9.5   60.7   \n",
       "\n",
       "    usg   eFG  TS_per  ...    oreb    dreb    treb     ast     stl     blk  \\\n",
       "0  18.1  53.0   53.33  ...  0.4688  1.3750  1.8438  2.1875  0.5938  0.2188   \n",
       "1  16.8  75.0   75.00  ...  0.0000  0.0000  0.0000  0.0909  0.0000  0.0000   \n",
       "2  27.7  49.9   53.76  ...  2.1481  4.9259  7.0741  2.4074  0.8148  0.4815   \n",
       "3  16.4  58.8   60.93  ...  1.3429  3.2286  4.5714  1.8000  1.6571  0.4000   \n",
       "4   6.9   8.3   14.93  ...  0.1379  0.5862  0.7241  0.2069  0.1034  0.0345   \n",
       "\n",
       "       pts  Unnamed: 64  Unnamed: 65  drafted  \n",
       "0   8.7812      Combo G     7.300850      0.0  \n",
       "1   0.5455      Pure PG    12.267400      0.0  \n",
       "2  17.5556       Wing F     5.581250      0.0  \n",
       "3  10.8571      Combo G     6.583070      0.0  \n",
       "4   0.1724       Wing G     0.844851      0.0  \n",
       "\n",
       "[5 rows x 63 columns]"
      ]
     },
     "execution_count": 40,
     "metadata": {},
     "output_type": "execute_result"
    }
   ],
   "source": [
    "data = pd.read_csv('stats_unique_no_missing.csv')\n",
    "data.head()"
   ]
  },
  {
   "cell_type": "code",
   "execution_count": null,
   "metadata": {
    "id": "iJ63h24gddkc"
   },
   "outputs": [],
   "source": [
    "cols = list(data.columns)\n",
    "categorical_cols = []\n",
    "numerical_cols = []\n",
    "for item in cols:\n",
    "  if data[item].dtype == object:\n",
    "    categorical_cols.append(item)\n",
    "  else:\n",
    "    numerical_cols.append(item)"
   ]
  },
  {
   "cell_type": "code",
   "execution_count": null,
   "metadata": {
    "colab": {
     "base_uri": "https://localhost:8080/"
    },
    "id": "M1j9eFDBdfsB",
    "outputId": "8826a975-86d6-4ea7-f4fb-88e7e05276e9"
   },
   "outputs": [
    {
     "data": {
      "text/plain": [
       "['player_name', 'team', 'conf', 'yr', 'ht', 'num', 'type', 'Unnamed: 64']"
      ]
     },
     "execution_count": 42,
     "metadata": {},
     "output_type": "execute_result"
    }
   ],
   "source": [
    "categorical_cols"
   ]
  },
  {
   "cell_type": "code",
   "execution_count": null,
   "metadata": {
    "id": "7hSLbOdFdhZV"
   },
   "outputs": [],
   "source": [
    "data = data.set_index('player_name')"
   ]
  },
  {
   "cell_type": "code",
   "execution_count": null,
   "metadata": {
    "id": "gycqBoyidkj4"
   },
   "outputs": [],
   "source": [
    "data = data.drop(['Unnamed: 64', 'Unnamed: 65', 'rimmade+rimmiss', 'midmade+midmiss',\n",
    "       'dunksmiss+dunksmade', 'num', 'type'], axis=1)\n",
    "data_dummies = pd.get_dummies(data)"
   ]
  },
  {
   "cell_type": "code",
   "execution_count": null,
   "metadata": {
    "id": "vpNFxM8zdmwy"
   },
   "outputs": [],
   "source": [
    "y = data_dummies.drafted\n",
    "X = data_dummies.drop('drafted', axis=1)\n",
    "X_train, X_test, y_train, y_test = train_test_split(X, y, test_size=0.4, random_state=45)"
   ]
  },
  {
   "cell_type": "code",
   "execution_count": null,
   "metadata": {
    "colab": {
     "base_uri": "https://localhost:8080/"
    },
    "id": "jcjoWUJvixms",
    "outputId": "7b11d818-e8b1-44f9-fa57-26b59d9ee8d3"
   },
   "outputs": [
    {
     "name": "stdout",
     "output_type": "stream",
     "text": [
      "39.346858638743456\n"
     ]
    }
   ],
   "source": [
    "train = pd.concat([X_train, y_train], axis=1)\n",
    "\n",
    "class0 = train.loc[train['drafted'] == 0,:]\n",
    "class1 = train.loc[train['drafted'] == 1,:]\n",
    "spw = len(class0)/len(class1)\n",
    "print(spw)"
   ]
  },
  {
   "cell_type": "code",
   "execution_count": null,
   "metadata": {
    "colab": {
     "base_uri": "https://localhost:8080/"
    },
    "id": "23XKH8oTriwH",
    "outputId": "b1d7f707-fcd5-4f73-fcf2-5cab310583f8"
   },
   "outputs": [
    {
     "metadata": {
      "tags": null
     },
     "name": "stdout",
     "output_type": "stream",
     "text": [
      "Fitting 2 folds for each of 243 candidates, totalling 486 fits\n",
      "{'gamma': 0.1, 'learning_rate': 0.01, 'max_depth': 6, 'n_estimators': 25, 'reg_lambda': 0} 0.7447643979057592\n",
      "Time taken =  52.89637066523234  minutes\n"
     ]
    }
   ],
   "source": [
    "start_time = time.time()\n",
    "param_grid = {'n_estimators':[25,100,500],\n",
    "              'max_depth': [6,7,8],\n",
    "              'learning_rate': [0.01,0.1,0.2],\n",
    "              'gamma': [0.1,0.25,0.5],\n",
    "              'reg_lambda':[0,0.01,0.001]}\n",
    "\n",
    "cv = StratifiedKFold(n_splits=2,shuffle=True,random_state=1)\n",
    "optimal_params = GridSearchCV(estimator=XGBClassifier(objective='binary:logistic', random_state=45, scale_pos_weight=spw), \n",
    "                              param_grid = param_grid, scoring='recall', verbose=1, n_jobs=-1, cv=cv)\n",
    "\n",
    "optimal_params.fit(X_train,y_train)\n",
    "print(optimal_params.best_params_,optimal_params.best_score_)\n",
    "print(\"Time taken = \", (time.time()-start_time)/60, \" minutes\")"
   ]
  },
  {
   "cell_type": "code",
   "execution_count": 66,
   "metadata": {
    "id": "KWw8Dnd-EpcD"
   },
   "outputs": [],
   "source": [
    "model = XGBClassifier(objective = 'binary:logistic', random_state=45, gamma=0.1, learning_rate = 0.01,\n",
    "                      max_depth=6, n_estimators=25 ,reg_lambda=0, scale_pos_weight=spw).fit(X_train, y_train)"
   ]
  },
  {
   "cell_type": "code",
   "execution_count": 67,
   "metadata": {
    "id": "ZaDUEQXFFSC8"
   },
   "outputs": [],
   "source": [
    "cross_val_ypred = cross_val_predict(model, X_train, y_train, cv = 5, method = 'predict_proba')"
   ]
  },
  {
   "cell_type": "code",
   "execution_count": 68,
   "metadata": {
    "colab": {
     "base_uri": "https://localhost:8080/",
     "height": 718
    },
    "id": "9qdNPKH5FXwt",
    "outputId": "8035940f-e91b-467c-cd90-59f40418718b"
   },
   "outputs": [
    {
     "data": {
      "image/png": "[encoded data removed]",
      "text/plain": [
       "<Figure size 800x800 with 1 Axes>"
      ]
     },
     "metadata": {},
     "output_type": "display_data"
    }
   ],
   "source": [
    "p, r, thresholds = precision_recall_curve(y_train, cross_val_ypred[:,1])\n",
    "acc = np.ndarray(shape = (len(thresholds),))\n",
    "i = 0\n",
    "for th in thresholds:\n",
    "    y_pred = cross_val_ypred[:,1] > th\n",
    "    y_pred = y_pred.astype(int)\n",
    "    acc[i] = accuracy_score(y_pred, y_train)\n",
    "    i = i + 1\n",
    "def plot_precision_recall_vs_threshold(precisions, recalls, thresholds):\n",
    "    plt.figure(figsize=(8, 8))\n",
    "    plt.title(\"Precision and Recall Scores as a function of the decision threshold\")\n",
    "    plt.plot(thresholds, precisions[:-1], \"b--\", label=\"Precision\")\n",
    "    plt.plot(thresholds, recalls[:-1], \"g-\", label=\"Recall\")\n",
    "    plt.plot(thresholds, acc, \"r-\", label=\"Accuracy\")\n",
    "    plt.plot(thresholds, precisions[:-1], \"o\", color = 'blue')\n",
    "    plt.plot(thresholds, recalls[:-1], \"o\", color = 'green')\n",
    "    plt.plot(thresholds, acc, \"o\", color = 'red')\n",
    "    plt.ylabel(\"Score\")\n",
    "    plt.xlabel(\"Decision Threshold\")\n",
    "    plt.legend(loc='best')\n",
    "    plt.legend()\n",
    "plot_precision_recall_vs_threshold(p, r, thresholds)"
   ]
  },
  {
   "cell_type": "code",
   "execution_count": 70,
   "metadata": {
    "colab": {
     "base_uri": "https://localhost:8080/",
     "height": 499
    },
    "id": "H-SVLr3XFpfR",
    "outputId": "c8fc8f01-ea3b-42b8-8544-a402b4382bef"
   },
   "outputs": [
    {
     "name": "stdout",
     "output_type": "stream",
     "text": [
      "Accuracy:  81.79075425790754\n",
      "ROC-AUC:  0.9671890541588125\n",
      "Precision:  0.11812883918727358\n",
      "Recall:  0.981675392670157\n"
     ]
    },
    {
     "data": {
      "image/png": "[encoded data removed]",
      "text/plain": [
       "<Figure size 640x480 with 2 Axes>"
      ]
     },
     "metadata": {},
     "output_type": "display_data"
    }
   ],
   "source": [
    "# Performance metrics computation for the optimum decision threshold probability\n",
    "desired_threshold = 0.43\n",
    "\n",
    "y_pred_prob = model.predict_proba(X_train)[:,1] \n",
    "\n",
    "# Classifying observations in the positive class (y = 1) if the predicted probability is greater\n",
    "# than the desired decision threshold probability\n",
    "y_pred = y_pred_prob > desired_threshold\n",
    "y_pred = y_pred.astype(int)\n",
    "\n",
    "#Computing the accuracy\n",
    "print(\"Accuracy: \",accuracy_score(y_pred, y_train)*100)  \n",
    "\n",
    "#Computing the ROC-AUC\n",
    "fpr, tpr, auc_thresholds = roc_curve(y_train, y_pred_prob)\n",
    "print(\"ROC-AUC: \",auc(fpr, tpr))# AUC of ROC\n",
    "\n",
    "#Computing the precision and recall\n",
    "print(\"Precision: \", precision_score(y_train, y_pred))\n",
    "print(\"Recall: \", recall_score(y_train, y_pred))\n",
    "\n",
    "#Confusion matrix\n",
    "cm = pd.DataFrame(confusion_matrix(y_train, y_pred), \n",
    "                  columns=['Predicted 0', 'Predicted 1'], index = ['Actual 0', 'Actual 1'])\n",
    "sns.heatmap(cm, annot=True, cmap='Blues', fmt='g');"
   ]
  },
  {
   "cell_type": "code",
   "execution_count": 71,
   "metadata": {
    "colab": {
     "base_uri": "https://localhost:8080/",
     "height": 500
    },
    "id": "aZF-X93lGVjm",
    "outputId": "9dc11587-7a4c-4b41-b85b-b3bb2c525398"
   },
   "outputs": [
    {
     "name": "stdout",
     "output_type": "stream",
     "text": [
      "Accuracy:  81.06174882000876\n",
      "ROC-AUC:  0.8906321916097578\n",
      "Precision:  0.11129220023282888\n",
      "Recall:  0.864376130198915\n"
     ]
    },
    {
     "data": {
      "image/png": "[encoded data removed]",
      "text/plain": [
       "<Figure size 640x480 with 2 Axes>"
      ]
     },
     "metadata": {},
     "output_type": "display_data"
    }
   ],
   "source": [
    "# Performance metrics computation for the optimum decision threshold probability\n",
    "desired_threshold = 0.43\n",
    "\n",
    "y_pred_prob = model.predict_proba(X_test)[:,1] \n",
    "\n",
    "# Classifying observations in the positive class (y = 1) if the predicted probability is greater\n",
    "# than the desired decision threshold probability\n",
    "y_pred = y_pred_prob > desired_threshold\n",
    "y_pred = y_pred.astype(int)\n",
    "\n",
    "#Computing the accuracy\n",
    "print(\"Accuracy: \",accuracy_score(y_pred, y_test)*100)  \n",
    "\n",
    "#Computing the ROC-AUC\n",
    "fpr, tpr, auc_thresholds = roc_curve(y_test, y_pred_prob)\n",
    "print(\"ROC-AUC: \",auc(fpr, tpr))# AUC of ROC\n",
    "\n",
    "#Computing the precision and recall\n",
    "print(\"Precision: \", precision_score(y_test, y_pred))\n",
    "print(\"Recall: \", recall_score(y_test, y_pred))\n",
    "\n",
    "#Confusion matrix\n",
    "cm = pd.DataFrame(confusion_matrix(y_test, y_pred), \n",
    "                  columns=['Predicted 0', 'Predicted 1'], index = ['Actual 0', 'Actual 1'])\n",
    "sns.heatmap(cm, annot=True, cmap='Blues', fmt='g');"
   ]
  }
 ],
 "metadata": {
  "colab": {
   "provenance": []
  },
  "kernelspec": {
   "display_name": "Python 3 (ipykernel)",
   "language": "python",
   "name": "python3"
  },
  "language_info": {
   "codemirror_mode": {
    "name": "ipython",
    "version": 3
   },
   "file_extension": ".py",
   "mimetype": "text/x-python",
   "name": "python",
   "nbconvert_exporter": "python",
   "pygments_lexer": "ipython3",
   "version": "3.9.12"
  }
 },
 "nbformat": 4,
 "nbformat_minor": 1
}
